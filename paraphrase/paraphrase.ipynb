{
 "cells": [
  {
   "cell_type": "code",
   "execution_count": 1,
   "source": [
    "import json\n",
    "import requests"
   ],
   "outputs": [],
   "metadata": {}
  },
  {
   "cell_type": "code",
   "execution_count": 2,
   "source": [
    "token = \"YOUR_TOKEN\""
   ],
   "outputs": [],
   "metadata": {}
  },
  {
   "cell_type": "code",
   "execution_count": 3,
   "source": [
    "url = \"https://api.wordtune.com/rewrite\""
   ],
   "outputs": [],
   "metadata": {}
  },
  {
   "cell_type": "code",
   "execution_count": 4,
   "source": [
    "inp = \"How should i take this medicine?\""
   ],
   "outputs": [],
   "metadata": {}
  },
  {
   "cell_type": "code",
   "execution_count": 5,
   "source": [
    "inp_len = len(inp)"
   ],
   "outputs": [],
   "metadata": {}
  },
  {
   "cell_type": "code",
   "execution_count": 6,
   "source": [
    "payload = json.dumps({\n",
    "  \"text\": inp,\n",
    "  \"action\": \"REWRITE\",\n",
    "  \"start\": 0,\n",
    "  \"end\": inp_len,\n",
    "  \"selection\": {\n",
    "    \"wholeText\": inp,\n",
    "    \"bulletText\": \"\",\n",
    "    \"start\": 0,\n",
    "    \"end\": inp_len\n",
    "  },\n",
    "  \"draftId\": \"DIV_editorContentEditable_jss14 jss15-1626910171862\",\n",
    "  \"emailAccount\": None,\n",
    "  \"emailMetadata\": {},\n",
    "  \"lookaheadIndex\": 0\n",
    "})"
   ],
   "outputs": [],
   "metadata": {}
  },
  {
   "cell_type": "code",
   "execution_count": 7,
   "source": [
    "payload_without_whitespace = payload.replace(\": \", \":\").replace(\", \", \",\")\n",
    "content_length = str(len(payload_without_whitespace))"
   ],
   "outputs": [],
   "metadata": {}
  },
  {
   "cell_type": "code",
   "execution_count": 8,
   "source": [
    "headers = {\n",
    "  'host': 'api.wordtune.com',\n",
    "  'connection': 'keep-alive',\n",
    "  'content-length': content_length,\n",
    "  'sec-ch-ua': '\" Not;A Brand\";v=\"99\", \"Google Chrome\";v=\"91\", \"Chromium\";v=\"91\"',\n",
    "  'dnt': '1',\n",
    "  'x-wordtune-origin': 'null',\n",
    "  'x-wordtune-version': '0.0.1',\n",
    "  'sec-ch-ua-mobile': '?0',\n",
    "  'user-agent': 'Mozilla/5.0 (X11; Linux x86_64) AppleWebKit/537.36 (KHTML, like Gecko) Chrome/91.0.4472.164 Safari/537.36',\n",
    "  'content-type': 'application/json',\n",
    "  'x-wordtune': '1',\n",
    "  'token': token,\n",
    "  'accept': '*/*',\n",
    "  'origin': 'https://app.wordtune.com',\n",
    "  'sec-fetch-site': 'same-site',\n",
    "  'sec-fetch-mode': 'cors',\n",
    "  'sec-fetch-dest': 'empty',\n",
    "  'referer': 'https://app.wordtune.com/',\n",
    "  'accept-encoding': 'gzip, deflate',\n",
    "  'accept-language': 'en-US,en;q=0.9'\n",
    "}"
   ],
   "outputs": [],
   "metadata": {}
  },
  {
   "cell_type": "code",
   "execution_count": 9,
   "source": [
    "response = requests.request(\"POST\", url, headers=headers, data=payload)"
   ],
   "outputs": [],
   "metadata": {}
  },
  {
   "cell_type": "code",
   "execution_count": 10,
   "source": [
    "output_dict = response.json()\n",
    "# output_dict['suggestions']"
   ],
   "outputs": [],
   "metadata": {}
  },
  {
   "cell_type": "code",
   "execution_count": 11,
   "source": [
    "suggestion_list = [i[0] for i in output_dict['suggestions']]"
   ],
   "outputs": [],
   "metadata": {}
  },
  {
   "cell_type": "code",
   "execution_count": 12,
   "source": [
    "suggestion_list"
   ],
   "outputs": [
    {
     "output_type": "execute_result",
     "data": {
      "text/plain": [
       "['What is the best way to',\n",
       " 'Is there a way I can',\n",
       " 'Is there anything I need to know about taking',\n",
       " 'Should I take this medicine with food or water?',\n",
       " 'Can you tell me how to',\n",
       " 'Which medication should I take?',\n",
       " 'Where do I put',\n",
       " 'What is the proper way to',\n",
       " 'Is there a special way to take this medication?',\n",
       " 'Do I need to take this medicine as directed?']"
      ]
     },
     "metadata": {},
     "execution_count": 12
    }
   ],
   "metadata": {}
  },
  {
   "cell_type": "code",
   "execution_count": null,
   "source": [],
   "outputs": [],
   "metadata": {}
  }
 ],
 "metadata": {
  "orig_nbformat": 4,
  "language_info": {
   "name": "python",
   "version": "3.8.10",
   "mimetype": "text/x-python",
   "codemirror_mode": {
    "name": "ipython",
    "version": 3
   },
   "pygments_lexer": "ipython3",
   "nbconvert_exporter": "python",
   "file_extension": ".py"
  },
  "kernelspec": {
   "name": "python3",
   "display_name": "Python 3.8.10 64-bit ('chatbot_env': conda)"
  },
  "interpreter": {
   "hash": "e1df69f8aa4b2eace139aca910c2f541cb210f536fbf66da8f3510f5417ae0f1"
  }
 },
 "nbformat": 4,
 "nbformat_minor": 2
}
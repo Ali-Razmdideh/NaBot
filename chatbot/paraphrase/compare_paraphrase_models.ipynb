{
  "nbformat": 4,
  "nbformat_minor": 2,
  "metadata": {
    "colab": {
      "name": "paraphrase.ipynb",
      "provenance": [],
      "collapsed_sections": []
    },
    "kernelspec": {
      "name": "python3",
      "display_name": "Python 3.8.10 64-bit ('pytorch': conda)"
    },
    "language_info": {
      "name": "python",
      "version": "3.8.10",
      "mimetype": "text/x-python",
      "codemirror_mode": {
        "name": "ipython",
        "version": 3
      },
      "pygments_lexer": "ipython3",
      "nbconvert_exporter": "python",
      "file_extension": ".py"
    },
    "accelerator": "GPU",
    "interpreter": {
      "hash": "dbcd7f02d28daa63d27fd787b597e2cb313718228ecc293911e8c98c2dcb8b8b"
    }
  },
  "cells": [
    {
      "cell_type": "code",
      "execution_count": 3,
      "source": [
        "import torch\n",
        "import warnings\n",
        "from parrot import Parrot\n",
        "from decouple import config\n",
        "from transformers import PegasusForConditionalGeneration, PegasusTokenizer\n",
        "from paraphrase import wordtune\n",
        "warnings.filterwarnings(\"ignore\")"
      ],
      "outputs": [],
      "metadata": {
        "id": "wDpSLJ_WQTN4"
      }
    },
    {
      "cell_type": "markdown",
      "source": [
        "# Parrot Model"
      ],
      "metadata": {
        "id": "26k_uZOtTulT"
      }
    },
    {
      "cell_type": "code",
      "execution_count": 5,
      "source": [
        "parrot = Parrot(model_tag=\"prithivida/parrot_paraphraser_on_T5\")"
      ],
      "outputs": [],
      "metadata": {
        "id": "W4ymFjVQQboH"
      }
    },
    {
      "cell_type": "markdown",
      "source": [
        "# Sample sentences"
      ],
      "metadata": {
        "id": "ngZW5xFIT2pM"
      }
    },
    {
      "cell_type": "code",
      "execution_count": 6,
      "source": [
        "phrases = [\"I'm looking for lab test detail\",\n",
        "           \"Are there any risks to the RBC blood test?\",\n",
        "           \"What happens during the Endoscopy?\",\n",
        "           \"When should you not take acetaminophen?\",\n",
        "           \"What are acetaminophen side-effects?\",\n",
        "           \"How should I take acetaminophen?\",\n",
        "           \"What other drugs will affect acetaminophen?\"\n",
        "]"
      ],
      "outputs": [],
      "metadata": {
        "id": "hJ8tfX3eQkBi"
      }
    },
    {
      "cell_type": "markdown",
      "source": [
        "# Parrot with do_diverse=False "
      ],
      "metadata": {
        "id": "mJmvXTNZT8x8"
      }
    },
    {
      "cell_type": "code",
      "execution_count": 8,
      "source": [
        "for phrase in phrases:\n",
        "  print(\"-\"*100)\n",
        "  print(\"Input_phrase: \", phrase)\n",
        "  print(\"-\"*100)\n",
        "  para_phrases = parrot.augment(input_phrase=phrase, \n",
        "                                use_gpu=True)\n",
        "  for para_phrase in para_phrases:\n",
        "   print(para_phrase[0])"
      ],
      "outputs": [
        {
          "output_type": "stream",
          "name": "stdout",
          "text": [
            "----------------------------------------------------------------------------------------------------\n",
            "Input_phrase:  I'm looking for lab test detail\n",
            "----------------------------------------------------------------------------------------------------\n",
            "i'm looking for the details of the lab tests\n",
            "i'm looking for details on the lab test\n",
            "i'm looking for detailed lab test details\n",
            "i'm looking for a lab test detail\n",
            "i'm looking for lab test details\n",
            "i'm looking for lab test detail\n",
            "----------------------------------------------------------------------------------------------------\n",
            "Input_phrase:  Are there any risks to the RBC blood test?\n",
            "----------------------------------------------------------------------------------------------------\n",
            "is rbc blood test a risk?\n",
            "is the rbc blood test a dangerous?\n",
            "are there risks associated with doing an rbc blood test?\n",
            "do you think there are risk factors in rbc test?\n",
            "are there any risks in testing for rbc blood?\n",
            "----------------------------------------------------------------------------------------------------\n",
            "Input_phrase:  What happens during the Endoscopy?\n",
            "----------------------------------------------------------------------------------------------------\n",
            "what happens during endoscopic procedure?\n",
            "what happens in endoscopy?\n",
            "what happens to the endoscopy?\n",
            "what happens during endoscopy?\n",
            "what happens during the endoscopy?\n",
            "----------------------------------------------------------------------------------------------------\n",
            "Input_phrase:  When should you not take acetaminophen?\n",
            "----------------------------------------------------------------------------------------------------\n",
            "if i take acetaminophen when should i not?\n",
            "what time should i stop taking acetaminophen?\n",
            "when should one stop taking acetaminophen?\n",
            "when should i stop taking acetaminophen?\n",
            "----------------------------------------------------------------------------------------------------\n",
            "Input_phrase:  What are acetaminophen side-effects?\n",
            "----------------------------------------------------------------------------------------------------\n",
            "show the most common side effects of acetaminophen?\n",
            "what are side effects of taking acetaminophen?\n",
            "list some side effects of acetaminophen?\n",
            "show the side effects of acetaminophen?\n",
            "what are side effects of acetaminophen?\n",
            "what side effects do acetaminophen have?\n",
            "what side effects does acetaminophen have?\n",
            "----------------------------------------------------------------------------------------------------\n",
            "Input_phrase:  How should I take acetaminophen?\n",
            "----------------------------------------------------------------------------------------------------\n",
            "how much is acetaminophen and what should be taken?\n",
            "where can i get an oral dose of acetaminophen?\n",
            "tell me the usual dose of acetaminophen?\n",
            "what's the best way to take acetaminophen?\n",
            "how to take acetaminophen?\n",
            "when should i take acetaminophen?\n",
            "----------------------------------------------------------------------------------------------------\n",
            "Input_phrase:  What other drugs will affect acetaminophen?\n",
            "----------------------------------------------------------------------------------------------------\n",
            "can you list the main drugs that will be an adverse effect on acetaminophen?\n",
            "which is the best drug to take to make the effects of acetaminophen?\n",
            "list the other drugs used in drug interactions to affect acetaminophen?\n",
            "what other drugs can be used to treat acetaminophen?\n",
            "what drugs affect acetaminophen?\n",
            "list some other drugs that can affect acetaminophen?\n",
            "what other drugs can affect acetaminophen?\n"
          ]
        }
      ],
      "metadata": {
        "colab": {
          "base_uri": "https://localhost:8080/"
        },
        "id": "LzAgi3hRRiyj",
        "outputId": "82826634-9ad3-44b9-c082-47597b4d2a5a"
      }
    },
    {
      "cell_type": "markdown",
      "source": [
        "# Parrot with do_diverse=True"
      ],
      "metadata": {
        "id": "oQbs_Q5LUD_E"
      }
    },
    {
      "cell_type": "code",
      "execution_count": 9,
      "source": [
        "for phrase in phrases:\n",
        "  print(\"-\"*100)\n",
        "  print(\"Input_phrase: \", phrase)\n",
        "  print(\"-\"*100)\n",
        "  para_phrases = parrot.augment(input_phrase=phrase, \n",
        "                                use_gpu=True,\n",
        "                                do_diverse=True)\n",
        "  for para_phrase in para_phrases:\n",
        "   print(para_phrase[0])"
      ],
      "outputs": [
        {
          "output_type": "stream",
          "name": "stdout",
          "text": [
            "----------------------------------------------------------------------------------------------------\n",
            "Input_phrase:  I'm looking for lab test detail\n",
            "----------------------------------------------------------------------------------------------------\n",
            "tell me the detail of the lab test\n",
            "tell me the lab test details\n",
            "tell me the lab test detail?\n",
            "tell me the lab test detail\n",
            "i'm looking for laboratory test details\n",
            "i'm looking for laboratory test detail\n",
            "i'm looking for lab test details\n",
            "i'm looking for lab test detail\n",
            "----------------------------------------------------------------------------------------------------\n",
            "Input_phrase:  Are there any risks to the RBC blood test?\n",
            "----------------------------------------------------------------------------------------------------\n",
            "do you think the rbc blood test is dangerous?\n",
            "do you think the rbc blood test is safe?\n",
            "are there any risks associated with the blood test for rbc?\n",
            "is there any risk to the blood test for rbc?\n",
            "are there any risks associated with the rbc blood test?\n",
            "tell me the risk of the rbc blood test?\n",
            "is there a risk to the rbc blood test?\n",
            "is there any risk to the rbc blood test?\n",
            "----------------------------------------------------------------------------------------------------\n",
            "Input_phrase:  What happens during the Endoscopy?\n",
            "----------------------------------------------------------------------------------------------------\n",
            "what's going on during endoscopy?\n",
            "what's going on during an endoscopy?\n",
            "what do you do during an endoscopy?\n",
            "what's going to happen during endoscopy?\n",
            "what's happening during an endoscopy?\n",
            "what happens during endoscopy?\n",
            "what happens during an endoscopy?\n",
            "what happens during a endoscopy?\n",
            "what happens during the endoscopy?\n",
            "----------------------------------------------------------------------------------------------------\n",
            "Input_phrase:  When should you not take acetaminophen?\n",
            "----------------------------------------------------------------------------------------------------\n",
            "when should i stop taking acetaminophen?\n",
            "----------------------------------------------------------------------------------------------------\n",
            "Input_phrase:  What are acetaminophen side-effects?\n",
            "----------------------------------------------------------------------------------------------------\n",
            "can you list the side effects of acetaminophen?\n",
            "can you list the side effects of acetaminophen? why?\n",
            "list some side effects of acetaminophen?\n",
            "how does acetaminophen work? what are some side effects?\n",
            "how does acetaminophen work? what are the side effects?\n",
            "list the side effects of acetaminophen?\n",
            "show the side effects of acetaminophen?\n",
            "what are side effects of acetaminophen?\n",
            "can acetaminophen cause side effects?\n",
            "----------------------------------------------------------------------------------------------------\n",
            "Input_phrase:  How should I take acetaminophen?\n",
            "----------------------------------------------------------------------------------------------------\n",
            "is acetaminophen safe to use?\n",
            "is acetaminophen safe to take?\n",
            "tell me the best way to take acetaminophen?\n",
            "is it safe to take acetaminophen?\n",
            "how do you take acetaminophen?\n",
            "how can i take acetaminophen?\n",
            "how do i take acetaminophen?\n",
            "how should i take acetaminophen?\n",
            "----------------------------------------------------------------------------------------------------\n",
            "Input_phrase:  What other drugs will affect acetaminophen?\n",
            "----------------------------------------------------------------------------------------------------\n",
            "what other drugs affect acetaminophen? what are some examples?\n",
            "what drugs affect acetaminophen?\n",
            "can you list the other drugs that can affect acetaminophen?\n",
            "can you list the other drugs that affect acetaminophen?\n",
            "what other drugs affect acetaminophen?\n",
            "list the other drugs that affect acetaminophen?\n",
            "what other drugs can affect acetaminophen?\n",
            "what other drugs will affect acetaminophen?\n"
          ]
        }
      ],
      "metadata": {
        "colab": {
          "base_uri": "https://localhost:8080/"
        },
        "id": "qbNRrNuoRrc4",
        "outputId": "e308b77c-107e-410d-9442-a3aec30a2313"
      }
    },
    {
      "cell_type": "markdown",
      "source": [
        "# PEGASUS - pegasus_paraphrase model"
      ],
      "metadata": {
        "id": "EA56wE1nUGdM"
      }
    },
    {
      "cell_type": "code",
      "execution_count": 17,
      "source": [
        "model_name = 'tuner007/pegasus_paraphrase'\n",
        "torch_device = 'cuda' if torch.cuda.is_available() else 'cpu'\n",
        "tokenizer = PegasusTokenizer.from_pretrained(model_name)\n",
        "model = PegasusForConditionalGeneration.from_pretrained(model_name).to(torch_device)"
      ],
      "outputs": [],
      "metadata": {
        "id": "OnZSAINFSrxq"
      }
    },
    {
      "cell_type": "code",
      "execution_count": 6,
      "source": [
        "def get_response(input_text,num_return_sequences,num_beams):\n",
        "  batch = tokenizer([input_text],truncation=True,padding='longest',max_length=60, return_tensors=\"pt\").to(torch_device)\n",
        "  translated = model.generate(**batch,max_length=60,num_beams=num_beams, num_return_sequences=num_return_sequences, temperature=1.5)\n",
        "  tgt_text = tokenizer.batch_decode(translated, skip_special_tokens=True)\n",
        "  return tgt_text"
      ],
      "outputs": [],
      "metadata": {
        "id": "-neEPScGU9Jm"
      }
    },
    {
      "cell_type": "code",
      "execution_count": 16,
      "source": [
        "num_beams = 10\n",
        "num_return_sequences = 8\n",
        "\n",
        "for phrase in phrases:\n",
        "  print(\"-\"*100)\n",
        "  print(\"Input_phrase: \", phrase)\n",
        "  print(\"-\"*100)\n",
        "  para_phrases = get_response(phrase,\n",
        "                              num_return_sequences,\n",
        "                              num_beams)\n",
        "  for para_phrase in para_phrases:\n",
        "   print(para_phrase)"
      ],
      "outputs": [
        {
          "output_type": "stream",
          "name": "stdout",
          "text": [
            "----------------------------------------------------------------------------------------------------\n",
            "Input_phrase:  I'm looking for lab test detail\n",
            "----------------------------------------------------------------------------------------------------\n",
            "I'm interested in lab test detail.\n",
            "The lab test detail is something I'm looking for.\n",
            "I want lab test detail.\n",
            "I need lab test detail.\n",
            "I am looking for lab test detail.\n",
            "I'm looking for lab test details.\n",
            "I'm looking for the details of the test.\n",
            "I am looking for lab test details.\n",
            "----------------------------------------------------------------------------------------------------\n",
            "Input_phrase:  Are there any risks to the RBC blood test?\n",
            "----------------------------------------------------------------------------------------------------\n",
            "Is the blood test safe?\n",
            "There are risks to the blood test.\n",
            "Is there any risk to the blood test?\n",
            "Does the blood test have any risks?\n",
            "There are no risks to the blood test.\n",
            "There is a blood test.\n",
            "Is there a risk to the blood test?\n",
            "Is there any risk to the test?\n",
            "----------------------------------------------------------------------------------------------------\n",
            "Input_phrase:  What happens during the Endoscopy?\n",
            "----------------------------------------------------------------------------------------------------\n",
            "What happens during the procedure?\n",
            "What happens during the surgery?\n",
            "What happens during the doctor's visit?\n",
            "What happens during surgery?\n",
            "What happens during the exam?\n",
            "What happens during the doctor's office?\n",
            "What happens during the procedure.\n",
            "What happens during the doctor's appointment?\n",
            "----------------------------------------------------------------------------------------------------\n",
            "Input_phrase:  When should you not take acetaminophen?\n",
            "----------------------------------------------------------------------------------------------------\n",
            "When should you stop taking it?\n",
            "When should you stop taking the drug?\n",
            "When should you stop taking acetaminophen?\n",
            "Is it a good idea to not take acetaminophen?\n",
            "When should you stop taking a drug?\n",
            "It's a question about when you shouldn't take acetaminophen.\n",
            "When should you not take it?\n",
            "When should you not take a drug?\n",
            "----------------------------------------------------------------------------------------------------\n",
            "Input_phrase:  What are acetaminophen side-effects?\n",
            "----------------------------------------------------------------------------------------------------\n",
            "What are the side-effects of acetaminophen?\n",
            "What are the side-effects of the drug?\n",
            "What are the side effects of acetaminophen?\n",
            "What are the side-effects of a drug?\n",
            "What are the side-effects of tylenol?\n",
            "What are the side-effects of drugs?\n",
            "There are side-effects of acetaminophen.\n",
            "What are the side effects of the drug?\n",
            "----------------------------------------------------------------------------------------------------\n",
            "Input_phrase:  How should I take acetaminophen?\n",
            "----------------------------------------------------------------------------------------------------\n",
            "How should I take a drug?\n",
            "I don't know how to take acetaminophen.\n",
            "How should I take it?\n",
            "I don't know what to take with acetaminophen.\n",
            "I don't know how to take a drug.\n",
            "How should I take a pill?\n",
            "How should I take a medication?\n",
            "I don't know how to take it.\n",
            "----------------------------------------------------------------------------------------------------\n",
            "Input_phrase:  What other drugs will affect acetaminophen?\n",
            "----------------------------------------------------------------------------------------------------\n",
            "What drugs will affect it?\n",
            "What other drugs will affect it?\n",
            "There are drugs that will affect acetaminophen.\n",
            "Is there any other drugs that will affect acetaminophen?\n",
            "What drugs will affect acetaminophen?\n",
            "What other drugs will have an effect on acetaminophen?\n",
            "Which drugs will affect acetaminophen?\n",
            "What drugs will affect the drug?\n"
          ]
        }
      ],
      "metadata": {
        "colab": {
          "base_uri": "https://localhost:8080/"
        },
        "id": "bA55IBbsVGsX",
        "outputId": "96d201ab-d4c8-4f84-ad75-1b0210dd48e6"
      }
    },
    {
      "cell_type": "markdown",
      "source": [
        "# WordTune"
      ],
      "metadata": {}
    },
    {
      "cell_type": "code",
      "execution_count": 4,
      "source": [
        "token = config('TOKEN')\n",
        "draftId = config('DRAFTID')\n",
        "paraphrase = wordtune(token, draftId)"
      ],
      "outputs": [],
      "metadata": {
        "id": "HNyeCMjmYDl9"
      }
    },
    {
      "cell_type": "code",
      "execution_count": 8,
      "source": [
        "for phrase in phrases:\n",
        "  print(\"-\"*100)\n",
        "  print(\"Input_phrase: \", phrase)\n",
        "  print(\"-\"*100)\n",
        "  payload = paraphrase.payload_generator(phrase)\n",
        "  headers = paraphrase.headers_generator()\n",
        "  response = paraphrase.requests(payload, headers)\n",
        "  para_phrases = paraphrase.get_suggestion(response, phrase)\n",
        "  for para_phrase in para_phrases:\n",
        "   print(para_phrase)"
      ],
      "outputs": [
        {
          "output_type": "stream",
          "name": "stdout",
          "text": [
            "----------------------------------------------------------------------------------------------------\n",
            "Input_phrase:  I'm looking for lab test detail\n",
            "----------------------------------------------------------------------------------------------------\n",
            "I need lab test details\n",
            "Details of laboratory tests are needed\n",
            "I would like to know the details of a lab test\n",
            "Please provide me with the details of the lab test\n",
            "I need detailed information about lab tests\n",
            "I need details about a lab test\n",
            "The result of my lab test is what I am looking for\n",
            "I'm interested in details of lab tests\n",
            "I need details on the lab test\n",
            "For more details on a lab test, I need them\n",
            "----------------------------------------------------------------------------------------------------\n",
            "Input_phrase:  Are there any risks to the RBC blood test?\n",
            "----------------------------------------------------------------------------------------------------\n",
            "Are there any risks associated with the RBC blood test\n",
            "RBC blood tests pose any risks?\n",
            "What are the risks of RBC blood testing?\n",
            "Is there a risk involved with an RBC blood test\n",
            "Do RBC blood tests carry any risks?\n",
            "Can the RBC blood test cause any harm?\n",
            "Does the RBC blood test come with any risks?\n",
            "Is there any risk involved in the RBC blood test\n",
            "Does RBC blood testing carry any risks?\n",
            "Risks associated with RBC blood testing?\n",
            "----------------------------------------------------------------------------------------------------\n",
            "Input_phrase:  What happens during the Endoscopy?\n",
            "----------------------------------------------------------------------------------------------------\n",
            "What happens during an endoscopy?\n",
            "How does an endoscopy work?\n",
            "A typical endoscopy consists of what?\n",
            "When does the endoscopy take place?\n",
            "During the Endoscopy, what happens?\n",
            "Endoscopy: How does it work?\n",
            "An endoscopy involves what?\n",
            "During the procedure, what happens?\n",
            "In what ways does the endoscopy work?\n",
            "Endoscopies: what happens during them?\n",
            "----------------------------------------------------------------------------------------------------\n",
            "Input_phrase:  When should you not take acetaminophen?\n",
            "----------------------------------------------------------------------------------------------------\n",
            "Acetaminophen should not be taken when?\n",
            "Is it safe to take acetaminophen during pregnancy?\n",
            "What situations should you avoid taking acetaminophen\n",
            "When is acetaminophen not recommended?\n",
            "If you should not take acetaminophen, when should you do so?\n",
            "Does acetaminophen need to be avoided in certain situations?\n",
            "What are the times you shouldn't take acetaminophen\n",
            "Is acetaminophen safe to take when you are pregnant?\n",
            "What should you not take acetaminophen for?\n",
            "Does acetaminophen cause stomach upset?\n",
            "----------------------------------------------------------------------------------------------------\n",
            "Input_phrase:  What are acetaminophen side-effects?\n",
            "----------------------------------------------------------------------------------------------------\n",
            "What are the side effects of acetaminophen?\n",
            "How does acetaminophen affect me?\n",
            "Acetaminophen has what side effects?\n",
            "Acetaminophen side effects: what are they?\n",
            "How can acetaminophen cause side effects?\n",
            "Which side effects are associated with acetaminophen?\n",
            "Can acetaminophen have side effects?\n",
            "Are there any acetaminophen side effects?\n",
            "Acetaminophen side effects?\n",
            "Accutaminophen: what are its side effects?\n",
            "----------------------------------------------------------------------------------------------------\n",
            "Input_phrase:  How should I take acetaminophen?\n",
            "----------------------------------------------------------------------------------------------------\n",
            "What is the best way to take acetaminophen\n",
            "Acetaminophen should be taken as directed?\n",
            "Can I take acetaminophen with food?\n",
            "What are the instructions for taking Acetaminophen?\n",
            "Is there a way I can take acetaminophen properly?\n",
            "When and how should I take acetaminophen\n",
            "What is the recommended dosage of acetaminophen\n",
            "Where can I find acetaminophen\n",
            "Is acetaminophen a safe drug to take?\n",
            "Why is it important to take acetaminophen on an empty stomach?\n",
            "----------------------------------------------------------------------------------------------------\n",
            "Input_phrase:  What other drugs will affect acetaminophen?\n",
            "----------------------------------------------------------------------------------------------------\n",
            "What other drugs interact with acetaminophen\n",
            "How does acetaminophen interact with other medications?\n",
            "Acetaminophen can be affected by what other drugs?\n",
            "Are there any other drugs that affect acetaminophen\n",
            "How are other drugs likely to affect acetaminophen\n",
            "Is acetaminophen affected by other drugs?\n",
            "Do other drugs affect acetaminophen\n",
            "Can acetaminophen be harmed by other medications?\n",
            "How will other medications affect acetaminophen\n",
            "Which other drugs will affect Acetaminophen?\n"
          ]
        }
      ],
      "metadata": {}
    },
    {
      "cell_type": "code",
      "execution_count": null,
      "source": [],
      "outputs": [],
      "metadata": {}
    }
  ]
}
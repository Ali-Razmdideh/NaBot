{
  "nbformat": 4,
  "nbformat_minor": 0,
  "metadata": {
    "colab": {
      "name": "medplus.ipynb",
      "provenance": [],
      "collapsed_sections": []
    },
    "kernelspec": {
      "name": "python3",
      "display_name": "Python 3"
    },
    "language_info": {
      "name": "python"
    }
  },
  "cells": [
    {
      "cell_type": "code",
      "metadata": {
        "id": "oz9NU2FHW53w"
      },
      "source": [
        "import re \n",
        "import requests\n",
        "import pandas as pd \n",
        "from tqdm import tqdm\n",
        "from bs4 import BeautifulSoup"
      ],
      "execution_count": 1,
      "outputs": []
    },
    {
      "cell_type": "code",
      "metadata": {
        "id": "vpkSk3UPa-aF"
      },
      "source": [
        "with open('urls.txt', 'r') as file:\n",
        "    urls = [line.strip() for line in file]"
      ],
      "execution_count": 3,
      "outputs": []
    },
    {
      "cell_type": "code",
      "metadata": {
        "id": "Q4U3x0_PbFYN"
      },
      "source": [
        "cols = ['Lab test',\n",
        "        'What is it used for', \n",
        "        'What is the test', \n",
        "        'Why do I need the test', \n",
        "        'What happens during the test?',\n",
        "        'Will I need to do anything to prepare for the test?', \n",
        "        'Are there any risks to the test?', \n",
        "        'What do the results mean?', \n",
        "        'Is there anything else I need to know about the test?']"
      ],
      "execution_count": 4,
      "outputs": []
    },
    {
      "cell_type": "code",
      "metadata": {
        "id": "buCq_mr5O3tH"
      },
      "source": [
        "url_item_arr = []\n",
        "\n",
        "for url in tqdm(tqdm(urls)):\n",
        "    r = requests.get(url)\n",
        "    soup = BeautifulSoup(r.content, 'html.parser')\n",
        "    sections = soup.find_all('section')\n",
        "    url_item_arr += [section.find('h2').text for section in sections if section.find('h2') != None]"
      ],
      "execution_count": null,
      "outputs": []
    },
    {
      "cell_type": "code",
      "metadata": {
        "colab": {
          "base_uri": "https://localhost:8080/"
        },
        "id": "hh5QbxYVu8hL",
        "outputId": "01ccc4bf-7ee7-4be0-94ec-27c8f613cae9"
      },
      "source": [
        "url_item_set = set(url_item_arr)\n",
        "len(url_item_set)"
      ],
      "execution_count": 6,
      "outputs": [
        {
          "output_type": "execute_result",
          "data": {
            "text/plain": [
              "1077"
            ]
          },
          "metadata": {
            "tags": []
          },
          "execution_count": 6
        }
      ]
    },
    {
      "cell_type": "code",
      "metadata": {
        "id": "jCeYBZGW4UvB"
      },
      "source": [
        "patterns = ['^.*(?:How|What).* use.*$',\n",
        "            '^.*What (?:is|are).*$', \n",
        "            '^.*Why do I need.*$', \n",
        "            '^.*What happens during.*$', \n",
        "            '^.*Will I need.*prepare.*$',\n",
        "            '^.*Are there any risks to.*$',\n",
        "            '^.*What do.*(?:means|mean)*.$',\n",
        "            '^.*Is there anything else I (?:need to|should) know about.*$']"
      ],
      "execution_count": 7,
      "outputs": []
    },
    {
      "cell_type": "code",
      "metadata": {
        "colab": {
          "base_uri": "https://localhost:8080/"
        },
        "id": "lwCOeeWO4zRy",
        "outputId": "9df18909-1b3d-41f8-c747-5072f792ff27"
      },
      "source": [
        "for pattern in patterns:\n",
        "  r = re.compile(pattern)\n",
        "  same_list = list(filter(r.match, url_item_set)) \n",
        "  url_item_set = list(set(url_item_set)^set(same_list))\n",
        "\n",
        "len(url_item_set)"
      ],
      "execution_count": 8,
      "outputs": [
        {
          "output_type": "execute_result",
          "data": {
            "text/plain": [
              "31"
            ]
          },
          "metadata": {
            "tags": []
          },
          "execution_count": 8
        }
      ]
    },
    {
      "cell_type": "code",
      "metadata": {
        "colab": {
          "base_uri": "https://localhost:8080/"
        },
        "id": "JHdYcoBx4Abn",
        "outputId": "8a49c3b0-2875-4e77-8f95-6b4e9e7b9be9"
      },
      "source": [
        "url_item_set.sort()\n",
        "url_item_set"
      ],
      "execution_count": 9,
      "outputs": [
        {
          "output_type": "execute_result",
          "data": {
            "text/plain": [
              "['Can I continue taking medicine during a fast?',\n",
              " 'Can I drink anything besides water during a fast?',\n",
              " 'EKG vs ECG?',\n",
              " 'How do I cope with medical test anxiety?',\n",
              " 'How do I prepare for a lab test?',\n",
              " 'How do I prepare my child for a lab test?',\n",
              " 'How do you test for blood in urine?',\n",
              " 'How do you test for mucus in urine?',\n",
              " 'How do you test for nitrites in urine?',\n",
              " 'How is cord blood banked?',\n",
              " 'How is cord blood collected?',\n",
              " 'How long do I have to fast before the test?',\n",
              " 'How will my provider make a differential diagnosis?',\n",
              " 'Is there any preparation needed for cord blood testing or banking?',\n",
              " 'MedlinePlus Genetics',\n",
              " 'References',\n",
              " 'Related Health Topics',\n",
              " 'Related Medical Tests',\n",
              " 'What causes obesity?',\n",
              " 'What else happens during a burn evaluation?',\n",
              " 'What factors can affect my results?',\n",
              " 'What happens to my child during a lab test?',\n",
              " 'What if I make a mistake and have something to eat or drink besides water during my fast?',\n",
              " 'What types of blood tests require fasting?',\n",
              " 'What types of lab tests require special preparation?',\n",
              " 'When can I eat and drink normally again?',\n",
              " 'Why do I have to wait so long for my results?',\n",
              " 'Why does my baby need a PKU screening test?',\n",
              " 'Why does my child need a hearing test?',\n",
              " 'Why does my child need autism spectrum disorder screening?',\n",
              " 'Why would my child need a lab test?']"
            ]
          },
          "metadata": {
            "tags": []
          },
          "execution_count": 9
        }
      ]
    },
    {
      "cell_type": "code",
      "metadata": {
        "id": "Em3vFKAq5VO7"
      },
      "source": [
        "def column_check(section):\n",
        "  patterns = ['^.*(?:How|What).* use.*$',\n",
        "            '^.*What (?:is|are).*$', \n",
        "            '^.*Why do I need.*$', \n",
        "            '^.*What happens during.*$', \n",
        "            '^.*Will I need.*prepare.*$',\n",
        "            '^.*Are there any risks to.*$',\n",
        "            '^.*What do.*(?:means|mean)*.$',\n",
        "            '^.*Is there anything else I (?:need to|should) know about.*$']\n",
        "\n",
        "  for index, pattern in enumerate(patterns):\n",
        "    if bool(re.match(pattern, section)):\n",
        "      return index + 1"
      ],
      "execution_count": 10,
      "outputs": []
    },
    {
      "cell_type": "code",
      "metadata": {
        "colab": {
          "base_uri": "https://localhost:8080/"
        },
        "id": "LYICRGVX6O16",
        "outputId": "f3a50b2c-bc76-4c75-c8a7-8941fcdb5154"
      },
      "source": [
        "column_check('What is this test used for?')"
      ],
      "execution_count": 11,
      "outputs": [
        {
          "output_type": "execute_result",
          "data": {
            "text/plain": [
              "1"
            ]
          },
          "metadata": {
            "tags": []
          },
          "execution_count": 11
        }
      ]
    },
    {
      "cell_type": "code",
      "metadata": {
        "colab": {
          "base_uri": "https://localhost:8080/"
        },
        "id": "zXppo-JZbJSJ",
        "outputId": "620514f5-6aea-45e3-e253-d9d4c706f81d"
      },
      "source": [
        "df = pd.DataFrame('', index=range(len(urls)), columns=range(len(cols)))\n",
        "\n",
        "for url_index, url in enumerate(tqdm(urls)):\n",
        "    r = requests.get(url)\n",
        "    soup = BeautifulSoup(r.content, 'html.parser')\n",
        "    df[0][url_index] = soup.find('h1').text\n",
        "\n",
        "    sections = soup.find_all('section')\n",
        "    for section in sections:\n",
        "        if hasattr(section.find('h2'), 'text'):\n",
        "            sec_index = column_check(section.find('h2').text)\n",
        "            if sec_index != None:\n",
        "              df[sec_index][url_index] = sections[sec_index - 1].text"
      ],
      "execution_count": 58,
      "outputs": [
        {
          "output_type": "stream",
          "text": [
            "100%|██████████| 258/258 [02:48<00:00,  1.53it/s]\n"
          ],
          "name": "stderr"
        }
      ]
    },
    {
      "cell_type": "code",
      "metadata": {
        "id": "NLhLZ9UUdcH0"
      },
      "source": [
        "df.columns = cols"
      ],
      "execution_count": 59,
      "outputs": []
    },
    {
      "cell_type": "code",
      "metadata": {
        "colab": {
          "base_uri": "https://localhost:8080/",
          "height": 425
        },
        "id": "0euXsIondjpg",
        "outputId": "525b3b92-862c-44b4-b68e-86b3abf648d6"
      },
      "source": [
        "df.head(5)"
      ],
      "execution_count": 60,
      "outputs": [
        {
          "output_type": "execute_result",
          "data": {
            "text/html": [
              "<div>\n",
              "<style scoped>\n",
              "    .dataframe tbody tr th:only-of-type {\n",
              "        vertical-align: middle;\n",
              "    }\n",
              "\n",
              "    .dataframe tbody tr th {\n",
              "        vertical-align: top;\n",
              "    }\n",
              "\n",
              "    .dataframe thead th {\n",
              "        text-align: right;\n",
              "    }\n",
              "</style>\n",
              "<table border=\"1\" class=\"dataframe\">\n",
              "  <thead>\n",
              "    <tr style=\"text-align: right;\">\n",
              "      <th></th>\n",
              "      <th>Lab test</th>\n",
              "      <th>What is it used for</th>\n",
              "      <th>What is the test</th>\n",
              "      <th>Why do I need the test</th>\n",
              "      <th>What happens during the test?</th>\n",
              "      <th>Will I need to do anything to prepare for the test?</th>\n",
              "      <th>Are there any risks to the test?</th>\n",
              "      <th>What do the results mean?</th>\n",
              "      <th>Is there anything else I need to know about the test?</th>\n",
              "    </tr>\n",
              "  </thead>\n",
              "  <tbody>\n",
              "    <tr>\n",
              "      <th>0</th>\n",
              "      <td>17-Hydroxyprogesterone</td>\n",
              "      <td>What is a 17-hydroxyprogesterone (17-OHP) test...</td>\n",
              "      <td>What is it used for?A 17-OHP test is most ofte...</td>\n",
              "      <td>Why do I need a 17-OHP test?Your baby will nee...</td>\n",
              "      <td>What happens during a 17-OHP test?For a newbor...</td>\n",
              "      <td>Will I need to do anything to prepare for the ...</td>\n",
              "      <td>Are there any risks to the test?There is very ...</td>\n",
              "      <td>What do the results mean?If results show high ...</td>\n",
              "      <td>Is there anything else I need to know about a ...</td>\n",
              "    </tr>\n",
              "    <tr>\n",
              "      <th>1</th>\n",
              "      <td>Acetaminophen Level</td>\n",
              "      <td>What is an acetaminophen level test?\\nThis tes...</td>\n",
              "      <td>What is it used for?\\nThe test is used to find...</td>\n",
              "      <td>Why do I need an acetaminophen level test?\\nYo...</td>\n",
              "      <td>What happens during an acetaminophen level tes...</td>\n",
              "      <td>Will I need to do anything to prepare for the ...</td>\n",
              "      <td>Are there any risks to an acetaminophen level ...</td>\n",
              "      <td>What do the results mean?\\nIf results show a h...</td>\n",
              "      <td>Is there anything else I need to know about an...</td>\n",
              "    </tr>\n",
              "    <tr>\n",
              "      <th>2</th>\n",
              "      <td>Acid-Fast Bacillus (AFB) Tests</td>\n",
              "      <td>What are acid-fast bacillus (AFB) tests?\\nAcid...</td>\n",
              "      <td>What are they used for?\\nAFB tests are most of...</td>\n",
              "      <td>Why do I need an AFB test? \\nYou may need an A...</td>\n",
              "      <td>What happens during AFB testing?\\nYour health ...</td>\n",
              "      <td>Will I need to do anything to prepare for the ...</td>\n",
              "      <td>Are there any risks to the test?\\nThere is no ...</td>\n",
              "      <td>What do the results mean?\\nIf your results on ...</td>\n",
              "      <td>Is there anything else I need to know about AF...</td>\n",
              "    </tr>\n",
              "    <tr>\n",
              "      <th>3</th>\n",
              "      <td>ADHD Screening</td>\n",
              "      <td>What is ADHD screening?ADHD screening, also ca...</td>\n",
              "      <td>What is it used for?ADHD screening is used to ...</td>\n",
              "      <td>Why do I need ADHD screening?Your health care ...</td>\n",
              "      <td>What happens during an ADHD screening?There is...</td>\n",
              "      <td>Will I need to do anything to prepare for ADHD...</td>\n",
              "      <td>Are there any risks to screening?There is no r...</td>\n",
              "      <td>What do the results mean?If results show ADHD,...</td>\n",
              "      <td>Is there anything else I need to know about AD...</td>\n",
              "    </tr>\n",
              "    <tr>\n",
              "      <th>4</th>\n",
              "      <td>Adrenocorticotropic Hormone (ACTH)</td>\n",
              "      <td>What is an adrenocorticotropic hormone (ACTH) ...</td>\n",
              "      <td>What is it used for?\\nAn ACTH test is often do...</td>\n",
              "      <td>Why do I need an ACTH test?You may need this t...</td>\n",
              "      <td>What happens during an ACTH test?A health care...</td>\n",
              "      <td>Will I need to do anything to prepare for the ...</td>\n",
              "      <td>Are there any risks to the test?There is very ...</td>\n",
              "      <td>What do the results mean?Results of an ACTH te...</td>\n",
              "      <td>Is there anything else I need to know about an...</td>\n",
              "    </tr>\n",
              "  </tbody>\n",
              "</table>\n",
              "</div>"
            ],
            "text/plain": [
              "                             Lab test  ... Is there anything else I need to know about the test?\n",
              "0              17-Hydroxyprogesterone  ...  Is there anything else I need to know about a ...   \n",
              "1                 Acetaminophen Level  ...  Is there anything else I need to know about an...   \n",
              "2      Acid-Fast Bacillus (AFB) Tests  ...  Is there anything else I need to know about AF...   \n",
              "3                      ADHD Screening  ...  Is there anything else I need to know about AD...   \n",
              "4  Adrenocorticotropic Hormone (ACTH)  ...  Is there anything else I need to know about an...   \n",
              "\n",
              "[5 rows x 9 columns]"
            ]
          },
          "metadata": {
            "tags": []
          },
          "execution_count": 60
        }
      ]
    },
    {
      "cell_type": "code",
      "metadata": {
        "colab": {
          "base_uri": "https://localhost:8080/"
        },
        "id": "LtdYCgnZHW8Y",
        "outputId": "caec517f-b325-4fc1-c2c9-189052788e7a"
      },
      "source": [
        "df.loc[100]"
      ],
      "execution_count": 61,
      "outputs": [
        {
          "output_type": "execute_result",
          "data": {
            "text/plain": [
              "Lab test                                                                              Fall Risk Assessment\n",
              "What is it used for                                      What is a fall risk assessment?\\nFalls are com...\n",
              "What is the test                                         What is it used for?\\nA fall risk assessment i...\n",
              "Why do I need the test                                   Why do I need a fall risk assessment?\\nThe Cen...\n",
              "What happens during the test?                            What happens during a fall risk assessment?\\nM...\n",
              "Will I need to do anything to prepare for the test?      Will I need to do anything to prepare for a fa...\n",
              "Are there any risks to the test?                         Are there any risks to a fall risk assessment?...\n",
              "What do the results mean?                                What do the results mean?\\nThe results may sho...\n",
              "Is there anything else I need to know about the test?                                                     \n",
              "Name: 100, dtype: object"
            ]
          },
          "metadata": {
            "tags": []
          },
          "execution_count": 61
        }
      ]
    },
    {
      "cell_type": "code",
      "metadata": {
        "colab": {
          "base_uri": "https://localhost:8080/",
          "height": 89
        },
        "id": "1QAv1aK7fJ5t",
        "outputId": "80dc686a-f636-4d92-b0c4-7696dfed96ff"
      },
      "source": [
        "df.loc[100]['Why do I need the test']"
      ],
      "execution_count": 62,
      "outputs": [
        {
          "output_type": "execute_result",
          "data": {
            "application/vnd.google.colaboratory.intrinsic+json": {
              "type": "string"
            },
            "text/plain": [
              "'Why do I need a fall risk assessment?\\nThe Centers for Disease Control and Prevention (CDC) and the American Geriatric Society recommend yearly fall assessment screening for all adults 65 years of age and older. If the screening shows you are at risk, you may need an assessment. The assessment includes performing a series of tasks called fall assessment tools.\\nYou also may need an assessment if you have certain symptoms. Falls often come without warning, but if you have any of the following symptoms, you may be at higher risk:\\n\\nDizziness\\nLight-headedness\\nIrregular or rapid heartbeats\\n\\n'"
            ]
          },
          "metadata": {
            "tags": []
          },
          "execution_count": 62
        }
      ]
    },
    {
      "cell_type": "code",
      "metadata": {
        "colab": {
          "base_uri": "https://localhost:8080/"
        },
        "id": "w2R7oFVRH7aF",
        "outputId": "6dfbfe9b-e503-409d-e419-d87a3e64b109"
      },
      "source": [
        "df.loc[203]"
      ],
      "execution_count": 63,
      "outputs": [
        {
          "output_type": "execute_result",
          "data": {
            "text/plain": [
              "Lab test                                                                     Protein C and Protein S Tests\n",
              "What is it used for                                      What are protein C and protein S tests?\\nThese...\n",
              "What is the test                                         What are they used for?\\nProtein C and protein...\n",
              "Why do I need the test                                   Why do I need protein C and protein S tests?\\n...\n",
              "What happens during the test?                            What happens during protein C and protein S te...\n",
              "Will I need to do anything to prepare for the test?      Will I need to do anything to prepare for the ...\n",
              "Are there any risks to the test?                         Are there any risks to the test?\\nThere is ver...\n",
              "What do the results mean?                                What do the results mean?\\nIf your results sho...\n",
              "Is there anything else I need to know about the test?    Is there anything else I need to know about pr...\n",
              "Name: 203, dtype: object"
            ]
          },
          "metadata": {
            "tags": []
          },
          "execution_count": 63
        }
      ]
    },
    {
      "cell_type": "code",
      "metadata": {
        "colab": {
          "base_uri": "https://localhost:8080/",
          "height": 53
        },
        "id": "n6T8aWBsiGQT",
        "outputId": "4c634995-e0f5-4ab6-c92a-5b3b08849f40"
      },
      "source": [
        "df.loc[203]['Are there any risks to the test?']"
      ],
      "execution_count": 64,
      "outputs": [
        {
          "output_type": "execute_result",
          "data": {
            "application/vnd.google.colaboratory.intrinsic+json": {
              "type": "string"
            },
            "text/plain": [
              "'Are there any risks to the test?\\nThere is very little risk to having a blood test. You may have slight pain or bruising at the spot where the needle was put in, but most symptoms go away quickly.\\n\\n'"
            ]
          },
          "metadata": {
            "tags": []
          },
          "execution_count": 64
        }
      ]
    },
    {
      "cell_type": "code",
      "metadata": {
        "colab": {
          "base_uri": "https://localhost:8080/",
          "height": 487
        },
        "id": "vU96TzeWjZkT",
        "outputId": "bda41c13-6306-41e2-9df5-7a6f14defce3"
      },
      "source": [
        "df[df[\"What do the results mean?\"] == \"\"]"
      ],
      "execution_count": 65,
      "outputs": [
        {
          "output_type": "execute_result",
          "data": {
            "text/html": [
              "<div>\n",
              "<style scoped>\n",
              "    .dataframe tbody tr th:only-of-type {\n",
              "        vertical-align: middle;\n",
              "    }\n",
              "\n",
              "    .dataframe tbody tr th {\n",
              "        vertical-align: top;\n",
              "    }\n",
              "\n",
              "    .dataframe thead th {\n",
              "        text-align: right;\n",
              "    }\n",
              "</style>\n",
              "<table border=\"1\" class=\"dataframe\">\n",
              "  <thead>\n",
              "    <tr style=\"text-align: right;\">\n",
              "      <th></th>\n",
              "      <th>Lab test</th>\n",
              "      <th>What is it used for</th>\n",
              "      <th>What is the test</th>\n",
              "      <th>Why do I need the test</th>\n",
              "      <th>What happens during the test?</th>\n",
              "      <th>Will I need to do anything to prepare for the test?</th>\n",
              "      <th>Are there any risks to the test?</th>\n",
              "      <th>What do the results mean?</th>\n",
              "      <th>Is there anything else I need to know about the test?</th>\n",
              "    </tr>\n",
              "  </thead>\n",
              "  <tbody>\n",
              "    <tr>\n",
              "      <th>48</th>\n",
              "      <td>Burn Evaluation</td>\n",
              "      <td>What is a burn evaluation?A burn is a type of ...</td>\n",
              "      <td>What are the different types of burns?The type...</td>\n",
              "      <td></td>\n",
              "      <td></td>\n",
              "      <td></td>\n",
              "      <td></td>\n",
              "      <td></td>\n",
              "      <td>\\n\\nRelated Medical Tests\\n\\n\\n\\nHow to Unders...</td>\n",
              "    </tr>\n",
              "    <tr>\n",
              "      <th>75</th>\n",
              "      <td>Coronavirus Disease 2019 (COVID-19)</td>\n",
              "      <td></td>\n",
              "      <td></td>\n",
              "      <td></td>\n",
              "      <td></td>\n",
              "      <td></td>\n",
              "      <td></td>\n",
              "      <td></td>\n",
              "      <td></td>\n",
              "    </tr>\n",
              "    <tr>\n",
              "      <th>101</th>\n",
              "      <td>Fasting for a Blood Test</td>\n",
              "      <td></td>\n",
              "      <td></td>\n",
              "      <td>How long do I have to fast before the test?\\nY...</td>\n",
              "      <td></td>\n",
              "      <td></td>\n",
              "      <td></td>\n",
              "      <td></td>\n",
              "      <td>Is there anything else I need to know about fa...</td>\n",
              "    </tr>\n",
              "    <tr>\n",
              "      <th>132</th>\n",
              "      <td>How to Cope with Medical Test Anxiety</td>\n",
              "      <td></td>\n",
              "      <td>What are the different types of medical tests?...</td>\n",
              "      <td></td>\n",
              "      <td></td>\n",
              "      <td></td>\n",
              "      <td></td>\n",
              "      <td></td>\n",
              "      <td></td>\n",
              "    </tr>\n",
              "    <tr>\n",
              "      <th>133</th>\n",
              "      <td>How to Prepare for a Lab Test</td>\n",
              "      <td></td>\n",
              "      <td></td>\n",
              "      <td></td>\n",
              "      <td></td>\n",
              "      <td>\\n</td>\n",
              "      <td></td>\n",
              "      <td></td>\n",
              "      <td>\\n</td>\n",
              "    </tr>\n",
              "    <tr>\n",
              "      <th>134</th>\n",
              "      <td>How to Prepare Your Child for a Lab Test</td>\n",
              "      <td></td>\n",
              "      <td></td>\n",
              "      <td></td>\n",
              "      <td></td>\n",
              "      <td></td>\n",
              "      <td></td>\n",
              "      <td></td>\n",
              "      <td>Is there anything else I should know about pre...</td>\n",
              "    </tr>\n",
              "    <tr>\n",
              "      <th>251</th>\n",
              "      <td>What You Need to Know About Blood Testing</td>\n",
              "      <td></td>\n",
              "      <td>What are the different types of blood tests?\\n...</td>\n",
              "      <td></td>\n",
              "      <td>\\n</td>\n",
              "      <td>What happens during a blood test?\\nA health ca...</td>\n",
              "      <td>Will I need to do anything to prepare for the ...</td>\n",
              "      <td></td>\n",
              "      <td>\\n</td>\n",
              "    </tr>\n",
              "  </tbody>\n",
              "</table>\n",
              "</div>"
            ],
            "text/plain": [
              "                                      Lab test  ... Is there anything else I need to know about the test?\n",
              "48                             Burn Evaluation  ...  \\n\\nRelated Medical Tests\\n\\n\\n\\nHow to Unders...   \n",
              "75         Coronavirus Disease 2019 (COVID-19)  ...                                                      \n",
              "101                   Fasting for a Blood Test  ...  Is there anything else I need to know about fa...   \n",
              "132      How to Cope with Medical Test Anxiety  ...                                                      \n",
              "133              How to Prepare for a Lab Test  ...                                                 \\n   \n",
              "134   How to Prepare Your Child for a Lab Test  ...  Is there anything else I should know about pre...   \n",
              "251  What You Need to Know About Blood Testing  ...                                                 \\n   \n",
              "\n",
              "[7 rows x 9 columns]"
            ]
          },
          "metadata": {
            "tags": []
          },
          "execution_count": 65
        }
      ]
    },
    {
      "cell_type": "code",
      "metadata": {
        "id": "U-51UItpMUxZ"
      },
      "source": [
        "df = df.drop([48, 75, 101, 132, 133, 134, 251])"
      ],
      "execution_count": 66,
      "outputs": []
    },
    {
      "cell_type": "code",
      "metadata": {
        "id": "7O3VPfMzeHxA"
      },
      "source": [
        "df.to_csv('medplus_labs.csv', index=False)"
      ],
      "execution_count": 67,
      "outputs": []
    },
    {
      "cell_type": "code",
      "metadata": {
        "id": "cStiLSV5OdJa"
      },
      "source": [
        "sections_list = cols[1:] + url_item_set"
      ],
      "execution_count": 72,
      "outputs": []
    },
    {
      "cell_type": "code",
      "metadata": {
        "id": "q8io2A43QWIq"
      },
      "source": [
        "static_df = pd.DataFrame(0, index=sections_list, columns=['count'])"
      ],
      "execution_count": 73,
      "outputs": []
    },
    {
      "cell_type": "code",
      "metadata": {
        "colab": {
          "base_uri": "https://localhost:8080/"
        },
        "id": "52G6IuwPQvLL",
        "outputId": "e1225480-0156-4ee1-92c4-c310f6a0a943"
      },
      "source": [
        "for url in tqdm(tqdm(urls)):\n",
        "    r = requests.get(url)\n",
        "    soup = BeautifulSoup(r.content, 'html.parser')\n",
        "    sections = soup.find_all('section')\n",
        "\n",
        "    for section in sections:\n",
        "      if section.find('h2') != None:\n",
        "        if column_check(section.find('h2').text):\n",
        "          index = cols[column_check(section.find('h2').text)]\n",
        "          static_df.loc[index]['count'] += 1\n",
        "        else:\n",
        "          index = section.find('h2').text\n",
        "          static_df.loc[index]['count'] += 1"
      ],
      "execution_count": 75,
      "outputs": [
        {
          "output_type": "stream",
          "text": [
            "  0%|          | 0/258 [00:00<?, ?it/s]\n",
            "  0%|          | 0/258 [00:00<?, ?it/s]\u001b[A\n",
            "  0%|          | 1/258 [00:00<02:45,  1.55it/s]\n",
            "  1%|          | 2/258 [00:01<02:30,  1.70it/s]\n",
            "  1%|          | 3/258 [00:01<02:49,  1.50it/s]\n",
            "  2%|▏         | 4/258 [00:02<02:32,  1.66it/s]\n",
            "  2%|▏         | 5/258 [00:02<02:21,  1.79it/s]\n",
            "  2%|▏         | 6/258 [00:03<02:12,  1.90it/s]\n",
            "  3%|▎         | 7/258 [00:03<02:06,  1.98it/s]\n",
            "  3%|▎         | 8/258 [00:04<02:02,  2.04it/s]\n",
            "  3%|▎         | 9/258 [00:04<01:59,  2.09it/s]\n",
            "  4%|▍         | 10/258 [00:05<02:42,  1.53it/s]\n",
            "  4%|▍         | 11/258 [00:06<02:55,  1.41it/s]\n",
            "  5%|▍         | 12/258 [00:07<03:00,  1.36it/s]\n",
            "  5%|▌         | 13/258 [00:07<02:39,  1.53it/s]\n",
            "  5%|▌         | 14/258 [00:08<02:24,  1.69it/s]\n",
            "  6%|▌         | 15/258 [00:09<02:42,  1.49it/s]\n",
            "  6%|▌         | 16/258 [00:09<02:26,  1.66it/s]\n",
            "  7%|▋         | 17/258 [00:10<02:49,  1.42it/s]\n",
            "  7%|▋         | 18/258 [00:11<02:51,  1.40it/s]\n",
            "  7%|▋         | 19/258 [00:12<02:52,  1.38it/s]\n",
            "  8%|▊         | 20/258 [00:12<02:53,  1.37it/s]\n",
            "  8%|▊         | 21/258 [00:13<02:51,  1.38it/s]\n",
            "  9%|▊         | 22/258 [00:14<02:51,  1.37it/s]\n",
            "  9%|▉         | 23/258 [00:15<02:57,  1.33it/s]\n",
            "  9%|▉         | 24/258 [00:15<02:36,  1.49it/s]\n",
            " 10%|▉         | 25/258 [00:15<02:19,  1.67it/s]\n",
            " 10%|█         | 26/258 [00:16<02:28,  1.57it/s]\n",
            " 10%|█         | 27/258 [00:17<02:40,  1.44it/s]\n",
            " 11%|█         | 28/258 [00:17<02:22,  1.61it/s]\n",
            " 11%|█         | 29/258 [00:18<02:29,  1.53it/s]\n",
            " 12%|█▏        | 30/258 [00:19<02:34,  1.47it/s]\n",
            " 12%|█▏        | 31/258 [00:20<02:37,  1.44it/s]\n",
            " 12%|█▏        | 32/258 [00:20<02:39,  1.42it/s]\n",
            " 13%|█▎        | 33/258 [00:21<02:48,  1.33it/s]\n",
            " 13%|█▎        | 34/258 [00:22<02:53,  1.29it/s]\n",
            " 14%|█▎        | 35/258 [00:23<02:54,  1.28it/s]\n",
            " 14%|█▍        | 36/258 [00:23<02:32,  1.45it/s]\n",
            " 14%|█▍        | 37/258 [00:24<02:16,  1.62it/s]\n",
            " 15%|█▍        | 38/258 [00:24<02:06,  1.73it/s]\n",
            " 15%|█▌        | 39/258 [00:25<02:08,  1.70it/s]\n",
            " 16%|█▌        | 40/258 [00:26<02:19,  1.56it/s]\n",
            " 16%|█▌        | 41/258 [00:26<02:25,  1.49it/s]\n",
            " 16%|█▋        | 42/258 [00:27<02:29,  1.44it/s]\n",
            " 17%|█▋        | 43/258 [00:28<02:33,  1.40it/s]\n",
            " 17%|█▋        | 44/258 [00:29<02:41,  1.33it/s]\n",
            " 17%|█▋        | 45/258 [00:29<02:38,  1.34it/s]\n",
            " 18%|█▊        | 46/258 [00:30<02:43,  1.30it/s]\n",
            " 18%|█▊        | 47/258 [00:31<02:46,  1.26it/s]\n",
            " 19%|█▊        | 48/258 [00:32<02:59,  1.17it/s]\n",
            " 19%|█▉        | 49/258 [00:33<02:57,  1.18it/s]\n",
            " 19%|█▉        | 50/258 [00:34<02:56,  1.18it/s]\n",
            " 20%|█▉        | 51/258 [00:35<02:59,  1.16it/s]\n",
            " 20%|██        | 52/258 [00:35<02:32,  1.35it/s]\n",
            " 21%|██        | 53/258 [00:36<02:14,  1.53it/s]\n",
            " 21%|██        | 54/258 [00:36<02:01,  1.68it/s]\n",
            " 21%|██▏       | 55/258 [00:37<02:07,  1.59it/s]\n",
            " 22%|██▏       | 56/258 [00:38<02:14,  1.51it/s]\n",
            " 22%|██▏       | 57/258 [00:38<01:59,  1.68it/s]\n",
            " 22%|██▏       | 58/258 [00:39<02:07,  1.57it/s]\n",
            " 23%|██▎       | 59/258 [00:39<01:54,  1.74it/s]\n",
            " 23%|██▎       | 60/258 [00:40<02:03,  1.61it/s]\n",
            " 24%|██▎       | 61/258 [00:41<02:11,  1.49it/s]\n",
            " 24%|██▍       | 62/258 [00:41<02:15,  1.44it/s]\n",
            " 24%|██▍       | 63/258 [00:42<02:34,  1.26it/s]\n",
            " 25%|██▍       | 64/258 [00:43<02:32,  1.27it/s]\n",
            " 25%|██▌       | 65/258 [00:44<02:10,  1.47it/s]\n",
            " 26%|██▌       | 66/258 [00:44<02:13,  1.44it/s]\n",
            " 26%|██▌       | 67/258 [00:45<02:14,  1.42it/s]\n",
            " 26%|██▋       | 68/258 [00:45<01:58,  1.61it/s]\n",
            " 27%|██▋       | 69/258 [00:46<01:46,  1.78it/s]\n",
            " 27%|██▋       | 70/258 [00:47<01:56,  1.62it/s]\n",
            " 28%|██▊       | 71/258 [00:47<01:55,  1.62it/s]\n",
            " 28%|██▊       | 72/258 [00:48<01:44,  1.79it/s]\n",
            " 28%|██▊       | 73/258 [00:48<01:36,  1.92it/s]\n",
            " 29%|██▊       | 74/258 [00:49<01:48,  1.69it/s]\n",
            " 29%|██▉       | 75/258 [00:50<01:57,  1.56it/s]\n",
            " 29%|██▉       | 76/258 [00:50<02:01,  1.49it/s]\n",
            " 30%|██▉       | 77/258 [00:51<02:05,  1.44it/s]\n",
            " 30%|███       | 78/258 [00:52<02:20,  1.28it/s]\n",
            " 31%|███       | 79/258 [00:53<02:02,  1.46it/s]\n",
            " 31%|███       | 80/258 [00:53<02:05,  1.42it/s]\n",
            " 31%|███▏      | 81/258 [00:54<02:08,  1.38it/s]\n",
            " 32%|███▏      | 82/258 [00:55<02:09,  1.36it/s]\n",
            " 32%|███▏      | 83/258 [00:56<02:09,  1.35it/s]\n",
            " 33%|███▎      | 84/258 [00:56<02:10,  1.34it/s]\n",
            " 33%|███▎      | 85/258 [00:57<02:09,  1.33it/s]\n",
            " 33%|███▎      | 86/258 [00:58<01:54,  1.51it/s]\n",
            " 34%|███▎      | 87/258 [00:59<02:06,  1.35it/s]\n",
            " 34%|███▍      | 88/258 [00:59<02:05,  1.35it/s]\n",
            " 34%|███▍      | 89/258 [01:00<02:05,  1.34it/s]\n",
            " 35%|███▍      | 90/258 [01:01<02:05,  1.34it/s]\n",
            " 35%|███▌      | 91/258 [01:01<02:03,  1.35it/s]\n",
            " 36%|███▌      | 92/258 [01:02<01:48,  1.53it/s]\n",
            " 36%|███▌      | 93/258 [01:03<01:53,  1.46it/s]\n",
            " 36%|███▋      | 94/258 [01:03<01:55,  1.42it/s]\n",
            " 37%|███▋      | 95/258 [01:04<02:06,  1.29it/s]\n",
            " 37%|███▋      | 96/258 [01:05<02:05,  1.29it/s]\n",
            " 38%|███▊      | 97/258 [01:06<02:02,  1.31it/s]\n",
            " 38%|███▊      | 98/258 [01:07<02:00,  1.32it/s]\n",
            " 38%|███▊      | 99/258 [01:07<02:00,  1.32it/s]\n",
            " 39%|███▉      | 100/258 [01:08<01:59,  1.33it/s]\n",
            " 39%|███▉      | 101/258 [01:09<01:57,  1.33it/s]\n",
            " 40%|███▉      | 102/258 [01:10<01:56,  1.34it/s]\n",
            " 40%|███▉      | 103/258 [01:10<01:40,  1.54it/s]\n",
            " 40%|████      | 104/258 [01:10<01:30,  1.71it/s]\n",
            " 41%|████      | 105/258 [01:11<01:26,  1.77it/s]\n",
            " 41%|████      | 106/258 [01:11<01:19,  1.91it/s]\n",
            " 41%|████▏     | 107/258 [01:12<01:15,  2.00it/s]\n",
            " 42%|████▏     | 108/258 [01:12<01:11,  2.09it/s]\n",
            " 42%|████▏     | 109/258 [01:13<01:09,  2.16it/s]\n",
            " 43%|████▎     | 110/258 [01:13<01:07,  2.20it/s]\n",
            " 43%|████▎     | 111/258 [01:14<01:05,  2.24it/s]\n",
            " 43%|████▎     | 112/258 [01:14<01:19,  1.83it/s]\n",
            " 44%|████▍     | 113/258 [01:15<01:39,  1.45it/s]\n",
            " 44%|████▍     | 114/258 [01:16<01:43,  1.39it/s]\n",
            " 45%|████▍     | 115/258 [01:17<01:31,  1.57it/s]\n",
            " 45%|████▍     | 116/258 [01:17<01:23,  1.70it/s]\n",
            " 45%|████▌     | 117/258 [01:18<01:17,  1.81it/s]\n",
            " 46%|████▌     | 118/258 [01:18<01:13,  1.92it/s]\n",
            " 46%|████▌     | 119/258 [01:19<01:21,  1.71it/s]\n",
            " 47%|████▋     | 120/258 [01:19<01:26,  1.60it/s]\n",
            " 47%|████▋     | 121/258 [01:20<01:41,  1.35it/s]\n",
            " 47%|████▋     | 122/258 [01:21<01:41,  1.34it/s]\n",
            " 48%|████▊     | 123/258 [01:22<01:40,  1.34it/s]\n",
            " 48%|████▊     | 124/258 [01:23<01:40,  1.33it/s]\n",
            " 48%|████▊     | 125/258 [01:23<01:27,  1.53it/s]\n",
            " 49%|████▉     | 126/258 [01:24<01:29,  1.48it/s]\n",
            " 49%|████▉     | 127/258 [01:25<01:32,  1.42it/s]\n",
            " 50%|████▉     | 128/258 [01:25<01:32,  1.40it/s]\n",
            " 50%|█████     | 129/258 [01:26<01:33,  1.38it/s]\n",
            " 50%|█████     | 130/258 [01:27<01:33,  1.37it/s]\n",
            " 51%|█████     | 131/258 [01:28<01:44,  1.21it/s]\n",
            " 51%|█████     | 132/258 [01:29<01:41,  1.24it/s]\n",
            " 52%|█████▏    | 133/258 [01:30<01:42,  1.22it/s]\n",
            " 52%|█████▏    | 134/258 [01:30<01:39,  1.25it/s]\n",
            " 52%|█████▏    | 135/258 [01:31<01:39,  1.24it/s]\n",
            " 53%|█████▎    | 136/258 [01:32<01:25,  1.42it/s]\n",
            " 53%|█████▎    | 137/258 [01:32<01:27,  1.39it/s]\n",
            " 53%|█████▎    | 138/258 [01:33<01:34,  1.27it/s]\n",
            " 54%|█████▍    | 139/258 [01:34<01:32,  1.29it/s]\n",
            " 54%|█████▍    | 140/258 [01:35<01:30,  1.31it/s]\n",
            " 55%|█████▍    | 141/258 [01:35<01:18,  1.49it/s]\n",
            " 55%|█████▌    | 142/258 [01:36<01:20,  1.45it/s]\n",
            " 55%|█████▌    | 143/258 [01:37<01:21,  1.42it/s]\n",
            " 56%|█████▌    | 144/258 [01:37<01:14,  1.52it/s]\n",
            " 56%|█████▌    | 145/258 [01:38<01:27,  1.29it/s]\n",
            " 57%|█████▋    | 146/258 [01:39<01:28,  1.27it/s]\n",
            " 57%|█████▋    | 147/258 [01:40<01:16,  1.45it/s]\n",
            " 57%|█████▋    | 148/258 [01:40<01:08,  1.61it/s]\n",
            " 58%|█████▊    | 149/258 [01:41<01:14,  1.47it/s]\n",
            " 58%|█████▊    | 150/258 [01:41<01:06,  1.63it/s]\n",
            " 59%|█████▊    | 151/258 [01:42<01:00,  1.77it/s]\n",
            " 59%|█████▉    | 152/258 [01:42<00:56,  1.87it/s]\n",
            " 59%|█████▉    | 153/258 [01:43<01:09,  1.50it/s]\n",
            " 60%|█████▉    | 154/258 [01:44<01:11,  1.45it/s]\n",
            " 60%|██████    | 155/258 [01:44<01:03,  1.62it/s]\n",
            " 60%|██████    | 156/258 [01:45<01:06,  1.53it/s]\n",
            " 61%|██████    | 157/258 [01:46<01:08,  1.47it/s]\n",
            " 61%|██████    | 158/258 [01:47<01:10,  1.42it/s]\n",
            " 62%|██████▏   | 159/258 [01:47<01:10,  1.40it/s]\n",
            " 62%|██████▏   | 160/258 [01:48<01:10,  1.39it/s]\n",
            " 62%|██████▏   | 161/258 [01:49<01:16,  1.27it/s]\n",
            " 63%|██████▎   | 162/258 [01:50<01:15,  1.28it/s]\n",
            " 63%|██████▎   | 163/258 [01:51<01:13,  1.29it/s]\n",
            " 64%|██████▎   | 164/258 [01:51<01:12,  1.30it/s]\n",
            " 64%|██████▍   | 165/258 [01:52<01:11,  1.30it/s]\n",
            " 64%|██████▍   | 166/258 [01:53<01:02,  1.48it/s]\n",
            " 65%|██████▍   | 167/258 [01:53<01:03,  1.43it/s]\n",
            " 65%|██████▌   | 168/258 [01:54<00:56,  1.59it/s]\n",
            " 66%|██████▌   | 169/258 [01:54<00:51,  1.72it/s]\n",
            " 66%|██████▌   | 170/258 [01:55<00:47,  1.84it/s]\n",
            " 66%|██████▋   | 171/258 [01:55<00:45,  1.93it/s]\n",
            " 67%|██████▋   | 172/258 [01:56<00:50,  1.69it/s]\n",
            " 67%|██████▋   | 173/258 [01:56<00:46,  1.84it/s]\n",
            " 67%|██████▋   | 174/258 [01:57<00:50,  1.65it/s]\n",
            " 68%|██████▊   | 175/258 [01:58<00:47,  1.75it/s]\n",
            " 68%|██████▊   | 176/258 [01:58<00:44,  1.85it/s]\n",
            " 69%|██████▊   | 177/258 [01:59<00:41,  1.94it/s]\n",
            " 69%|██████▉   | 178/258 [01:59<00:39,  2.00it/s]\n",
            " 69%|██████▉   | 179/258 [01:59<00:38,  2.05it/s]\n",
            " 70%|██████▉   | 180/258 [02:00<00:37,  2.07it/s]\n",
            " 70%|███████   | 181/258 [02:00<00:36,  2.09it/s]\n",
            " 71%|███████   | 182/258 [02:01<00:35,  2.12it/s]\n",
            " 71%|███████   | 183/258 [02:01<00:34,  2.15it/s]\n",
            " 71%|███████▏  | 184/258 [02:02<00:44,  1.65it/s]\n",
            " 72%|███████▏  | 185/258 [02:03<00:44,  1.63it/s]\n",
            " 72%|███████▏  | 186/258 [02:03<00:40,  1.80it/s]\n",
            " 72%|███████▏  | 187/258 [02:04<00:36,  1.93it/s]\n",
            " 73%|███████▎  | 188/258 [02:04<00:34,  2.01it/s]\n",
            " 73%|███████▎  | 189/258 [02:05<00:39,  1.75it/s]\n",
            " 74%|███████▎  | 190/258 [02:06<00:42,  1.61it/s]\n",
            " 74%|███████▍  | 191/258 [02:06<00:37,  1.77it/s]\n",
            " 74%|███████▍  | 192/258 [02:07<00:40,  1.61it/s]\n",
            " 75%|███████▍  | 193/258 [02:08<00:43,  1.51it/s]\n",
            " 75%|███████▌  | 194/258 [02:08<00:44,  1.44it/s]\n",
            " 76%|███████▌  | 195/258 [02:09<00:45,  1.38it/s]\n",
            " 76%|███████▌  | 196/258 [02:10<00:49,  1.25it/s]\n",
            " 76%|███████▋  | 197/258 [02:11<00:42,  1.43it/s]\n",
            " 77%|███████▋  | 198/258 [02:11<00:37,  1.60it/s]\n",
            " 77%|███████▋  | 199/258 [02:12<00:33,  1.74it/s]\n",
            " 78%|███████▊  | 200/258 [02:12<00:31,  1.85it/s]\n",
            " 78%|███████▊  | 201/258 [02:12<00:29,  1.94it/s]\n",
            " 78%|███████▊  | 202/258 [02:13<00:33,  1.66it/s]\n",
            " 79%|███████▊  | 203/258 [02:14<00:37,  1.47it/s]\n",
            " 79%|███████▉  | 204/258 [02:15<00:35,  1.51it/s]\n",
            " 79%|███████▉  | 205/258 [02:15<00:31,  1.69it/s]\n",
            " 80%|███████▉  | 206/258 [02:16<00:28,  1.83it/s]\n",
            " 80%|████████  | 207/258 [02:16<00:26,  1.95it/s]\n",
            " 81%|████████  | 208/258 [02:16<00:24,  2.04it/s]\n",
            " 81%|████████  | 209/258 [02:17<00:27,  1.77it/s]\n",
            " 81%|████████▏ | 210/258 [02:18<00:29,  1.61it/s]\n",
            " 82%|████████▏ | 211/258 [02:18<00:26,  1.78it/s]\n",
            " 82%|████████▏ | 212/258 [02:19<00:24,  1.89it/s]\n",
            " 83%|████████▎ | 213/258 [02:20<00:26,  1.68it/s]\n",
            " 83%|████████▎ | 214/258 [02:20<00:29,  1.51it/s]\n",
            " 83%|████████▎ | 215/258 [02:21<00:32,  1.31it/s]\n",
            " 84%|████████▎ | 216/258 [02:22<00:32,  1.28it/s]\n",
            " 84%|████████▍ | 217/258 [02:23<00:32,  1.26it/s]\n",
            " 84%|████████▍ | 218/258 [02:24<00:32,  1.25it/s]\n",
            " 85%|████████▍ | 219/258 [02:25<00:31,  1.24it/s]\n",
            " 85%|████████▌ | 220/258 [02:26<00:33,  1.13it/s]\n",
            " 86%|████████▌ | 221/258 [02:26<00:30,  1.23it/s]\n",
            " 86%|████████▌ | 222/258 [02:27<00:29,  1.22it/s]\n",
            " 86%|████████▋ | 223/258 [02:28<00:24,  1.41it/s]\n",
            " 87%|████████▋ | 224/258 [02:28<00:21,  1.56it/s]\n",
            " 87%|████████▋ | 225/258 [02:29<00:19,  1.71it/s]\n",
            " 88%|████████▊ | 226/258 [02:29<00:21,  1.49it/s]\n",
            " 88%|████████▊ | 227/258 [02:30<00:22,  1.38it/s]\n",
            " 88%|████████▊ | 228/258 [02:31<00:22,  1.31it/s]\n",
            " 89%|████████▉ | 229/258 [02:32<00:23,  1.21it/s]\n",
            " 89%|████████▉ | 230/258 [02:33<00:22,  1.26it/s]\n",
            " 90%|████████▉ | 231/258 [02:33<00:18,  1.44it/s]\n",
            " 90%|████████▉ | 232/258 [02:34<00:18,  1.41it/s]\n",
            " 90%|█████████ | 233/258 [02:35<00:15,  1.60it/s]\n",
            " 91%|█████████ | 234/258 [02:35<00:13,  1.76it/s]\n",
            " 91%|█████████ | 235/258 [02:35<00:12,  1.89it/s]\n",
            " 91%|█████████▏| 236/258 [02:36<00:11,  2.00it/s]\n",
            " 92%|█████████▏| 237/258 [02:36<00:10,  2.07it/s]\n",
            " 92%|█████████▏| 238/258 [02:37<00:11,  1.69it/s]\n",
            " 93%|█████████▎| 239/258 [02:38<00:11,  1.62it/s]\n",
            " 93%|█████████▎| 240/258 [02:39<00:12,  1.45it/s]\n",
            " 93%|█████████▎| 241/258 [02:39<00:10,  1.62it/s]\n",
            " 94%|█████████▍| 242/258 [02:40<00:09,  1.74it/s]\n",
            " 94%|█████████▍| 243/258 [02:40<00:08,  1.84it/s]\n",
            " 95%|█████████▍| 244/258 [02:41<00:08,  1.60it/s]\n",
            " 95%|█████████▍| 245/258 [02:41<00:07,  1.74it/s]\n",
            " 95%|█████████▌| 246/258 [02:42<00:06,  1.86it/s]\n",
            " 96%|█████████▌| 247/258 [02:42<00:05,  1.95it/s]\n",
            " 96%|█████████▌| 248/258 [02:43<00:05,  1.71it/s]\n",
            " 97%|█████████▋| 249/258 [02:43<00:04,  1.83it/s]\n",
            " 97%|█████████▋| 250/258 [02:44<00:05,  1.55it/s]\n",
            " 97%|█████████▋| 251/258 [02:45<00:04,  1.42it/s]\n",
            " 98%|█████████▊| 252/258 [02:46<00:04,  1.34it/s]\n",
            " 98%|█████████▊| 253/258 [02:47<00:03,  1.30it/s]\n",
            " 98%|█████████▊| 254/258 [02:48<00:03,  1.23it/s]\n",
            " 99%|█████████▉| 255/258 [02:48<00:02,  1.30it/s]\n",
            " 99%|█████████▉| 256/258 [02:49<00:01,  1.29it/s]\n",
            "100%|█████████▉| 257/258 [02:50<00:00,  1.14it/s]\n",
            "100%|██████████| 258/258 [02:51<00:00,  1.17it/s]\n",
            "100%|██████████| 258/258 [02:51<00:00,  1.50it/s]\n",
            "100%|██████████| 258/258 [02:51<00:00,  1.50it/s]\n"
          ],
          "name": "stderr"
        }
      ]
    },
    {
      "cell_type": "code",
      "metadata": {
        "id": "EVpmLwfiQwTn"
      },
      "source": [
        "static_df.sort_values('count', ascending=False, inplace=True)"
      ],
      "execution_count": 80,
      "outputs": []
    },
    {
      "cell_type": "code",
      "metadata": {
        "colab": {
          "base_uri": "https://localhost:8080/",
          "height": 1000
        },
        "id": "B5P23XexSFYY",
        "outputId": "e19f0fcd-0b9e-47d2-cb94-2a0c2d98f674"
      },
      "source": [
        "static_df.plot.barh(figsize=(20, 20))"
      ],
      "execution_count": 83,
      "outputs": [
        {
          "output_type": "execute_result",
          "data": {
            "text/plain": [
              "<matplotlib.axes._subplots.AxesSubplot at 0x7f853b416490>"
            ]
          },
          "metadata": {
            "tags": []
          },
          "execution_count": 83
        },
        {
          "output_type": "display_data",
          "data": {
            "image/png": "[encoded data removed]",
            "text/plain": [
              "<Figure size 1440x1440 with 1 Axes>"
            ]
          },
          "metadata": {
            "tags": [],
            "needs_background": "light"
          }
        }
      ]
    },
    {
      "cell_type": "code",
      "metadata": {
        "id": "AcIZ23TCS_KQ"
      },
      "source": [
        ""
      ],
      "execution_count": null,
      "outputs": []
    }
  ]
}
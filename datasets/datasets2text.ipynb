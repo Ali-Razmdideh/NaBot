{
 "cells": [
  {
   "cell_type": "code",
   "execution_count": 111,
   "source": [
    "import io\n",
    "import json\n",
    "import spacy \n",
    "import pandas as pd\n",
    "from tqdm import tqdm"
   ],
   "outputs": [],
   "metadata": {}
  },
  {
   "cell_type": "code",
   "execution_count": 2,
   "source": [
    "nlp = spacy.load(\"en_core_web_lg\")"
   ],
   "outputs": [],
   "metadata": {}
  },
  {
   "cell_type": "code",
   "execution_count": 70,
   "source": [
    "drugs_com = 'drug_datasets/dataset_files/drugs_dataset.csv'\n",
    "medplus_drug = 'medlineplus_drug_dataset/dataset_files/dataset_intent.csv'\n",
    "medplus_lab = 'medlineplus_lab_dataset/dataset_files/medplus_labs.csv'\n",
    "labtest = 'labtestonline_datasets/dataset_files/labtestsonline_Test_q_a.csv'\n",
    "cancer = 'cancerresearchuk-drug/dataset/drugs.jl'"
   ],
   "outputs": [],
   "metadata": {}
  },
  {
   "cell_type": "code",
   "execution_count": 137,
   "source": [
    "df = pd.read_csv(drugs_com)\n",
    "df = df.replace('\\n',' ', regex=True)\n",
    "columns = df.columns[2:]\n",
    "num_drug = len(df)"
   ],
   "outputs": [],
   "metadata": {}
  },
  {
   "cell_type": "code",
   "execution_count": 138,
   "source": [
    "sentences = []\n",
    "\n",
    "for column in columns:\n",
    "    for i in tqdm(range(num_drug)):\n",
    "        if not pd.isna(df[column][i]):\n",
    "            doc = nlp(df[column][i])\n",
    "\n",
    "            for sent in doc.sents:\n",
    "                sentences.append(sent.text)\n",
    "                sentences.append('\\n')\n",
    "            sentences.append('\\n')"
   ],
   "outputs": [
    {
     "output_type": "stream",
     "name": "stderr",
     "text": [
      "100%|██████████| 1075/1075 [00:07<00:00, 139.20it/s]\n",
      "100%|██████████| 1075/1075 [00:02<00:00, 427.83it/s]\n",
      "100%|██████████| 1075/1075 [00:00<00:00, 7468.58it/s]\n",
      "100%|██████████| 1075/1075 [00:00<00:00, 1160.30it/s]\n",
      "100%|██████████| 1075/1075 [01:00<00:00, 17.69it/s]\n",
      "100%|██████████| 1075/1075 [00:09<00:00, 107.74it/s]\n",
      "100%|██████████| 1075/1075 [00:00<00:00, 7327.49it/s]\n",
      "100%|██████████| 1075/1075 [00:24<00:00, 44.76it/s]\n",
      "100%|██████████| 1075/1075 [00:00<00:00, 1251.56it/s]\n",
      "100%|██████████| 1075/1075 [00:00<00:00, 22266.39it/s]\n",
      "100%|██████████| 1075/1075 [00:00<00:00, 3081.30it/s]\n",
      "100%|██████████| 1075/1075 [00:01<00:00, 918.81it/s]\n",
      "100%|██████████| 1075/1075 [00:00<00:00, 8364.43it/s]\n",
      "100%|██████████| 1075/1075 [00:00<00:00, 6762.65it/s]\n",
      "100%|██████████| 1075/1075 [00:00<00:00, 2005.58it/s]\n",
      "100%|██████████| 1075/1075 [00:45<00:00, 23.54it/s]\n",
      "100%|██████████| 1075/1075 [00:00<00:00, 6452.85it/s]\n",
      "100%|██████████| 1075/1075 [00:20<00:00, 51.81it/s]\n",
      "100%|██████████| 1075/1075 [01:08<00:00, 15.71it/s]\n",
      "100%|██████████| 1075/1075 [00:13<00:00, 78.93it/s]\n"
     ]
    }
   ],
   "metadata": {}
  },
  {
   "cell_type": "code",
   "execution_count": 139,
   "source": [
    "with open(\"sentences/drugs.txt\", \"w\") as txt_file:\n",
    "    for line in sentences:\n",
    "        txt_file.write(line)"
   ],
   "outputs": [],
   "metadata": {}
  },
  {
   "cell_type": "code",
   "execution_count": 140,
   "source": [
    "df = pd.read_csv(medplus_drug)\n",
    "df = df[df['intent'] != 'brand name']\n",
    "df = df['title'] + ' ' + df['text'] \n",
    "df = df.replace('\\n',' ', regex=True)\n",
    "df = df.dropna()\n",
    "df = df.reset_index(drop=True)\n",
    "num_drug = len(df)"
   ],
   "outputs": [],
   "metadata": {}
  },
  {
   "cell_type": "code",
   "execution_count": 141,
   "source": [
    "sentences = []\n",
    "\n",
    "for i in tqdm(range(num_drug)):\n",
    "    doc = nlp(df[i])\n",
    "\n",
    "    for sent in doc.sents:\n",
    "        sentences.append(sent.text)\n",
    "        sentences.append('\\n')\n",
    "    sentences.append('\\n')"
   ],
   "outputs": [
    {
     "output_type": "stream",
     "name": "stderr",
     "text": [
      "100%|██████████| 16174/16174 [07:57<00:00, 33.90it/s]\n"
     ]
    }
   ],
   "metadata": {}
  },
  {
   "cell_type": "code",
   "execution_count": 142,
   "source": [
    "with open(\"sentences/medplus_drug.txt\", \"w\") as txt_file:\n",
    "    for line in sentences:\n",
    "        txt_file.write(line)"
   ],
   "outputs": [],
   "metadata": {}
  },
  {
   "cell_type": "code",
   "execution_count": 143,
   "source": [
    "df = pd.read_csv(medplus_lab)\n",
    "df = df.replace('\\n',' ', regex=True)\n",
    "columns = df.columns[1:]\n",
    "num_lab = len(df)"
   ],
   "outputs": [],
   "metadata": {}
  },
  {
   "cell_type": "code",
   "execution_count": 144,
   "source": [
    "sentences = []\n",
    "\n",
    "for column in columns:\n",
    "    for i in tqdm(range(num_lab)):\n",
    "        if not pd.isna(df[column][i]):\n",
    "            doc = nlp(df[column][i])\n",
    "\n",
    "            for sent in doc.sents:\n",
    "                sentences.append(sent.text)\n",
    "                sentences.append('\\n')\n",
    "            sentences.append('\\n')"
   ],
   "outputs": [
    {
     "output_type": "stream",
     "name": "stderr",
     "text": [
      "100%|██████████| 251/251 [00:08<00:00, 31.20it/s]\n",
      "100%|██████████| 251/251 [00:04<00:00, 55.49it/s]\n",
      "100%|██████████| 251/251 [00:05<00:00, 43.18it/s]\n",
      "100%|██████████| 251/251 [00:07<00:00, 31.85it/s]\n",
      "100%|██████████| 251/251 [00:03<00:00, 74.18it/s]\n",
      "100%|██████████| 251/251 [00:03<00:00, 72.82it/s]\n",
      "100%|██████████| 251/251 [00:07<00:00, 34.54it/s]\n",
      "100%|██████████| 251/251 [00:04<00:00, 60.21it/s]\n"
     ]
    }
   ],
   "metadata": {}
  },
  {
   "cell_type": "code",
   "execution_count": 145,
   "source": [
    "with open(\"sentences/medplus_lab.txt\", \"w\") as txt_file:\n",
    "    for line in sentences:\n",
    "        txt_file.write(line)"
   ],
   "outputs": [],
   "metadata": {}
  },
  {
   "cell_type": "code",
   "execution_count": 147,
   "source": [
    "df = pd.read_csv(labtest)\n",
    "df = df['question'] + ' ' + df['answer'] \n",
    "df = df.replace('\\n',' ', regex=True)\n",
    "df = df.dropna()\n",
    "df = df.reset_index(drop=True)\n",
    "num_lab = len(df)"
   ],
   "outputs": [],
   "metadata": {}
  },
  {
   "cell_type": "code",
   "execution_count": 148,
   "source": [
    "sentences = []\n",
    "\n",
    "for i in tqdm(range(num_lab)):\n",
    "    doc = nlp(df[i])\n",
    "\n",
    "    for sent in doc.sents:\n",
    "        sentences.append(sent.text)\n",
    "        sentences.append('\\n')\n",
    "    sentences.append('\\n')"
   ],
   "outputs": [
    {
     "output_type": "stream",
     "name": "stderr",
     "text": [
      "100%|██████████| 4425/4425 [01:29<00:00, 49.62it/s]\n"
     ]
    }
   ],
   "metadata": {}
  },
  {
   "cell_type": "code",
   "execution_count": 149,
   "source": [
    "with open(\"sentences/labtestonline.txt\", \"w\") as txt_file:\n",
    "    for line in sentences:\n",
    "        txt_file.write(line)"
   ],
   "outputs": [],
   "metadata": {}
  },
  {
   "cell_type": "code",
   "execution_count": 83,
   "source": [
    "def extract_json(fileobj):\n",
    "    with fileobj:\n",
    "        for line in fileobj:\n",
    "            yield json.loads(line)"
   ],
   "outputs": [],
   "metadata": {}
  },
  {
   "cell_type": "code",
   "execution_count": 132,
   "source": [
    "data_json = io.open(cancer, mode='r', encoding='utf-8')\n",
    "datas = list(extract_json(data_json))\n",
    "\n",
    "documents = []\n",
    "\n",
    "for data in datas:\n",
    "    documents += list(data['body'].values())\n",
    "\n",
    "documents = [document.replace('\\n', ' ') for document in documents]"
   ],
   "outputs": [],
   "metadata": {}
  },
  {
   "cell_type": "code",
   "execution_count": 135,
   "source": [
    "sentences = []\n",
    "\n",
    "for document in tqdm(documents):\n",
    "    doc = nlp(document)\n",
    "\n",
    "    for sent in doc.sents:\n",
    "        sentences.append(sent.text)\n",
    "        sentences.append('\\n')\n",
    "    sentences.append('\\n')"
   ],
   "outputs": [
    {
     "output_type": "stream",
     "name": "stderr",
     "text": [
      "100%|██████████| 4401/4401 [02:13<00:00, 32.86it/s]\n"
     ]
    }
   ],
   "metadata": {}
  },
  {
   "cell_type": "code",
   "execution_count": 136,
   "source": [
    "with open(\"sentences/cancer.txt\", \"w\") as txt_file:\n",
    "    for line in sentences:\n",
    "        txt_file.write(line)"
   ],
   "outputs": [],
   "metadata": {}
  },
  {
   "cell_type": "code",
   "execution_count": null,
   "source": [],
   "outputs": [],
   "metadata": {}
  }
 ],
 "metadata": {
  "orig_nbformat": 4,
  "language_info": {
   "name": "python",
   "version": "3.8.10",
   "mimetype": "text/x-python",
   "codemirror_mode": {
    "name": "ipython",
    "version": 3
   },
   "pygments_lexer": "ipython3",
   "nbconvert_exporter": "python",
   "file_extension": ".py"
  },
  "kernelspec": {
   "name": "python3",
   "display_name": "Python 3.8.10 64-bit ('rasa_env': conda)"
  },
  "interpreter": {
   "hash": "b9e77e4331c8e490ad22ef0fbad63e862cf4417f0829976e69e16eb140eb7704"
  }
 },
 "nbformat": 4,
 "nbformat_minor": 2
}
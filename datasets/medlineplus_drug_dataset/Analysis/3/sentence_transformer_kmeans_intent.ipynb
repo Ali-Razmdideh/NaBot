{
  "nbformat": 4,
  "nbformat_minor": 0,
  "metadata": {
    "colab": {
      "name": "question_analysis.ipynb",
      "provenance": [],
      "collapsed_sections": [
        "Oc-pw8bNpd6v"
      ]
    },
    "kernelspec": {
      "name": "python3",
      "display_name": "Python 3.8.10 64-bit ('pytorch': conda)"
    },
    "language_info": {
      "name": "python",
      "version": "3.8.10",
      "mimetype": "text/x-python",
      "codemirror_mode": {
        "name": "ipython",
        "version": 3
      },
      "pygments_lexer": "ipython3",
      "nbconvert_exporter": "python",
      "file_extension": ".py"
    },
    "interpreter": {
      "hash": "dbcd7f02d28daa63d27fd787b597e2cb313718228ecc293911e8c98c2dcb8b8b"
    }
  },
  "cells": [
    {
      "cell_type": "code",
      "metadata": {
        "colab": {
          "base_uri": "https://localhost:8080/"
        },
        "id": "roCguMQOiuh5",
        "outputId": "1fb2296e-41f2-4eef-b60d-59652d313af1"
      },
      "source": [
        "from google.colab import drive\n",
        "drive.mount('/content/drive')"
      ],
      "execution_count": 1,
      "outputs": [
        {
          "output_type": "stream",
          "text": [
            "Mounted at /content/drive\n"
          ],
          "name": "stdout"
        }
      ]
    },
    {
      "cell_type": "code",
      "metadata": {
        "id": "O07VZHB1q3LV"
      },
      "source": [
        "import re\n",
        "import nltk\n",
        "import string\n",
        "import random\n",
        "import numpy as np\n",
        "import pandas as pd\n",
        "import gensim.downloader\n",
        "import matplotlib.pyplot as plt\n",
        "from nltk.corpus import stopwords\n",
        "from gensim.models import Word2Vec\n",
        "from nltk.stem.wordnet import WordNetLemmatizer\n",
        "from sklearn.preprocessing import normalize\n",
        "from sklearn.cluster import AgglomerativeClustering\n",
        "from sklearn.cluster import KMeans\n",
        "from sklearn.manifold import TSNE\n",
        "from sklearn.decomposition import PCA\n",
        "from sentence_transformers import SentenceTransformer"
      ],
      "execution_count": 303,
      "outputs": []
    },
    {
      "cell_type": "code",
      "metadata": {
        "colab": {
          "base_uri": "https://localhost:8080/"
        },
        "id": "Rg-88zPOGIkz",
        "outputId": "aedd286f-244a-4f4a-a5c0-cabb0637056b"
      },
      "source": [
        "nltk.download(['punkt', 'wordnet', 'stopwords'])"
      ],
      "execution_count": 3,
      "outputs": [
        {
          "output_type": "stream",
          "text": [
            "[nltk_data] Downloading package punkt to /root/nltk_data...\n",
            "[nltk_data]   Unzipping tokenizers/punkt.zip.\n",
            "[nltk_data] Downloading package wordnet to /root/nltk_data...\n",
            "[nltk_data]   Unzipping corpora/wordnet.zip.\n",
            "[nltk_data] Downloading package stopwords to /root/nltk_data...\n",
            "[nltk_data]   Unzipping corpora/stopwords.zip.\n"
          ],
          "name": "stdout"
        },
        {
          "output_type": "execute_result",
          "data": {
            "text/plain": [
              "True"
            ]
          },
          "metadata": {
            "tags": []
          },
          "execution_count": 3
        }
      ]
    },
    {
      "cell_type": "markdown",
      "metadata": {
        "id": "aKr0Uyd6pd6c"
      },
      "source": [
        "# Load data"
      ]
    },
    {
      "cell_type": "code",
      "metadata": {
        "colab": {
          "base_uri": "https://localhost:8080/"
        },
        "id": "vRSNOFKpq3OW",
        "outputId": "cb62d799-5ba4-4e9f-f1eb-0261c35f0ed9"
      },
      "source": [
        "import pandas as pd\n",
        "df = pd.read_csv('drive/MyDrive/drug_dataset.csv')\n",
        "df = pd.DataFrame(df)\n",
        "df['title']"
      ],
      "execution_count": 4,
      "outputs": [
        {
          "output_type": "execute_result",
          "data": {
            "text/plain": [
              "0                       Why is this medication prescribed?\n",
              "1                        How should this medicine be used?\n",
              "2                             Other uses for this medicine\n",
              "3                What special precautions should I follow?\n",
              "4        What special dietary instructions should I fol...\n",
              "                               ...                        \n",
              "17738                What other information should I know?\n",
              "17739                                          Brand names\n",
              "17740                        In case of emergency/overdose\n",
              "17741                What other information should I know?\n",
              "17742                                          Brand names\n",
              "Name: title, Length: 17743, dtype: object"
            ]
          },
          "metadata": {
            "tags": []
          },
          "execution_count": 4
        }
      ]
    },
    {
      "cell_type": "markdown",
      "metadata": {
        "id": "6i908svrpd6h"
      },
      "source": [
        "# Take unique titles"
      ]
    },
    {
      "cell_type": "code",
      "metadata": {
        "colab": {
          "base_uri": "https://localhost:8080/"
        },
        "id": "qmFzvDlDpd6i",
        "outputId": "57517374-56e9-42fb-d2fe-3e1d3dc81075"
      },
      "source": [
        "titles_sentences = set(df['title'].str.lower())\n",
        "titles_sentences = list(titles_sentences)\n",
        "len(titles_sentences)"
      ],
      "execution_count": 5,
      "outputs": [
        {
          "output_type": "execute_result",
          "data": {
            "text/plain": [
              "136"
            ]
          },
          "metadata": {
            "tags": []
          },
          "execution_count": 5
        }
      ]
    },
    {
      "cell_type": "markdown",
      "metadata": {
        "id": "LH11J2Idpd6k"
      },
      "source": [
        "# Analyze Our Vocabulary "
      ]
    },
    {
      "cell_type": "code",
      "metadata": {
        "id": "gRneUT8bEJdA"
      },
      "source": [
        "stemmer = nltk.stem.SnowballStemmer('english')\n",
        "lemmatizer = WordNetLemmatizer()"
      ],
      "execution_count": 6,
      "outputs": []
    },
    {
      "cell_type": "code",
      "metadata": {
        "colab": {
          "base_uri": "https://localhost:8080/"
        },
        "id": "Hx6Yium1pd6l",
        "outputId": "80d4b49a-2a75-4dda-c1be-a0fc258f74a0"
      },
      "source": [
        "titles_word_list = [] \n",
        "titles_sentence_list = []\n",
        "titles_stemmed_sentence_list = []\n",
        "titles_stemmed_words = []\n",
        "punc_digit_pattern = '\\W+|\\d+'\n",
        "\n",
        "for titles_sentence in titles_sentences:\n",
        "    titles_sentence = re.sub(punc_digit_pattern, ' ', titles_sentence)\n",
        "    titles_word_in_sentence = nltk.word_tokenize(titles_sentence)\n",
        "    titles_word_in_sentence = [word for word in titles_word_in_sentence if len(word) > 1]\n",
        "    titles_stemmed_words_in_sentence = [stemmer.stem(lemmatizer.lemmatize(word)) for word in titles_word_in_sentence]\n",
        "    titles_sentence_list.append(titles_word_in_sentence)\n",
        "    titles_word_list += titles_word_in_sentence \n",
        "    titles_stemmed_sentence_list.append(titles_stemmed_words_in_sentence)\n",
        "    titles_stemmed_words += titles_stemmed_words_in_sentence \n",
        "\n",
        "len(titles_word_list)"
      ],
      "execution_count": 7,
      "outputs": [
        {
          "output_type": "execute_result",
          "data": {
            "text/plain": [
              "824"
            ]
          },
          "metadata": {
            "tags": []
          },
          "execution_count": 7
        }
      ]
    },
    {
      "cell_type": "code",
      "metadata": {
        "colab": {
          "base_uri": "https://localhost:8080/"
        },
        "id": "GR1nS-CRpd6m",
        "outputId": "db0c87ae-1928-4137-be35-29dfc4cd2d4e"
      },
      "source": [
        "titles_word_set = list(set(titles_word_list))\n",
        "titles_stemmed_word_set = list(set(titles_stemmed_words))\n",
        "len(titles_word_set)"
      ],
      "execution_count": 8,
      "outputs": [
        {
          "output_type": "execute_result",
          "data": {
            "text/plain": [
              "164"
            ]
          },
          "metadata": {
            "tags": []
          },
          "execution_count": 8
        }
      ]
    },
    {
      "cell_type": "code",
      "metadata": {
        "colab": {
          "base_uri": "https://localhost:8080/"
        },
        "id": "FCOH2DFIFL76",
        "outputId": "00343522-a159-4691-9be2-f1a685f52277"
      },
      "source": [
        "len(titles_stemmed_word_set)"
      ],
      "execution_count": 9,
      "outputs": [
        {
          "output_type": "execute_result",
          "data": {
            "text/plain": [
              "156"
            ]
          },
          "metadata": {
            "tags": []
          },
          "execution_count": 9
        }
      ]
    },
    {
      "cell_type": "code",
      "metadata": {
        "id": "yUBiRm9Epd6n"
      },
      "source": [
        "stop_words = set(stopwords.words('english'))"
      ],
      "execution_count": 10,
      "outputs": []
    },
    {
      "cell_type": "code",
      "metadata": {
        "colab": {
          "base_uri": "https://localhost:8080/"
        },
        "id": "-C5R_AP4pd6p",
        "outputId": "d1ff94bf-6bb4-4f7d-bf60-d702fa07019d"
      },
      "source": [
        "titles_common_words = [word for word in titles_word_set if word in stop_words]\n",
        "titles_rare_words = [word for word in titles_word_set if word not in stop_words]\n",
        "titles_stemmed_common_words = [word for word in titles_stemmed_word_set if word in stop_words]\n",
        "titles_stemmed_rare_words = [word for word in titles_stemmed_word_set if word not in stop_words]\n",
        "\n",
        "print(f\"Number of unique words: {len(titles_word_set)}\\n\\\n",
        "Number of stop words in our questions vocabulary: {len(titles_common_words)}\\n\\\n",
        "Number of rare words in our questions vocabulary: {len(titles_rare_words)}\\n\\\n",
        "Number of stemmed stop words in our questions vocabulary: {len(titles_stemmed_common_words)}\\n\\\n",
        "Number of stemmed rare words in our questions vocabulary: {len(titles_stemmed_rare_words)}\")"
      ],
      "execution_count": 12,
      "outputs": [
        {
          "output_type": "stream",
          "text": [
            "Number of unique words: 164\n",
            "Number of stop words in our questions vocabulary: 37\n",
            "Number of rare words in our questions vocabulary: 127\n",
            "Number of stemmed stop words in our questions vocabulary: 36\n",
            "Number of stemmed rare words in our questions vocabulary: 120\n"
          ],
          "name": "stdout"
        }
      ]
    },
    {
      "cell_type": "code",
      "metadata": {
        "colab": {
          "base_uri": "https://localhost:8080/",
          "height": 336
        },
        "id": "YKNrgQqmHqpw",
        "outputId": "4eed78b0-16ea-48e7-ce90-b8b769059a18"
      },
      "source": [
        "plt.hist(titles_word_list)"
      ],
      "execution_count": 415,
      "outputs": [
        {
          "output_type": "execute_result",
          "data": {
            "text/plain": [
              "(array([363., 153.,  67.,  47.,  36.,  51.,  32.,  31.,  25.,  19.]),\n",
              " array([  0. ,  16.3,  32.6,  48.9,  65.2,  81.5,  97.8, 114.1, 130.4,\n",
              "        146.7, 163. ]),\n",
              " <a list of 10 Patch objects>)"
            ]
          },
          "metadata": {
            "tags": []
          },
          "execution_count": 415
        },
        {
          "output_type": "display_data",
          "data": {
            "image/png": "[encoded data removed]",
            "text/plain": [
              "<Figure size 432x288 with 1 Axes>"
            ]
          },
          "metadata": {
            "tags": [],
            "needs_background": "light"
          }
        }
      ]
    },
    {
      "cell_type": "code",
      "metadata": {
        "colab": {
          "base_uri": "https://localhost:8080/",
          "height": 319
        },
        "id": "6BTnAeJsKQlF",
        "outputId": "7d28b046-1add-4472-e7dc-524f684856f8"
      },
      "source": [
        "titles_sentence_legth_dist = [len(title) for title in titles_stemmed_sentence_list]\n",
        "plt.hist(titles_sentence_legth_dist)"
      ],
      "execution_count": 423,
      "outputs": [
        {
          "output_type": "execute_result",
          "data": {
            "text/plain": [
              "(array([18., 10., 14., 13., 13., 31.,  9., 13., 10.,  5.]),\n",
              " array([ 1. ,  2.1,  3.2,  4.3,  5.4,  6.5,  7.6,  8.7,  9.8, 10.9, 12. ]),\n",
              " <a list of 10 Patch objects>)"
            ]
          },
          "metadata": {
            "tags": []
          },
          "execution_count": 423
        },
        {
          "output_type": "display_data",
          "data": {
            "image/png": "[encoded data removed]",
            "text/plain": [
              "<Figure size 432x288 with 1 Axes>"
            ]
          },
          "metadata": {
            "tags": [],
            "needs_background": "light"
          }
        }
      ]
    },
    {
      "cell_type": "markdown",
      "metadata": {
        "id": "DWC11JhI0oy0"
      },
      "source": [
        "## Pretrained Word2Vec"
      ]
    },
    {
      "cell_type": "code",
      "metadata": {
        "id": "MFLRoghkpd6p"
      },
      "source": [
        "word2vec_model = gensim.downloader.load('word2vec-google-news-300')"
      ],
      "execution_count": null,
      "outputs": []
    },
    {
      "cell_type": "code",
      "metadata": {
        "id": "wuSIePhnuiGh"
      },
      "source": [
        "out_of_vocabulary = ['laiv', 'pcv', 'ipv', 'ppsv', 'moderna', 'mmr', 'covid', 'tdap', 'biontech', 'hib', 'janssen', 'dtap']\n",
        "titles_rare_vectors = [word2vec_model[rare_word] for rare_word in titles_rare_words if rare_word not in out_of_vocabulary]\n",
        "titles_rare_vectors = np.array(titles_rare_vectors)"
      ],
      "execution_count": null,
      "outputs": []
    },
    {
      "cell_type": "code",
      "metadata": {
        "colab": {
          "base_uri": "https://localhost:8080/"
        },
        "id": "wyomYpNiy7XF",
        "outputId": "dbd8f5fb-f634-4d32-8575-702a22087656"
      },
      "source": [
        "titles_rare_vectors.shape"
      ],
      "execution_count": null,
      "outputs": [
        {
          "output_type": "execute_result",
          "data": {
            "text/plain": [
              "(115, 300)"
            ]
          },
          "metadata": {
            "tags": []
          },
          "execution_count": 4
        }
      ]
    },
    {
      "cell_type": "code",
      "metadata": {
        "colab": {
          "base_uri": "https://localhost:8080/"
        },
        "id": "SjqIL15HzQuy",
        "outputId": "7b3ecf0f-7ba4-4fca-e512-95444be9cbfb"
      },
      "source": [
        "pca = PCA(n_components=2)\n",
        "titles_reduced_data = pca.fit_transform(titles_rare_vectors)\n",
        "titles_reduced_data.shape"
      ],
      "execution_count": null,
      "outputs": [
        {
          "output_type": "execute_result",
          "data": {
            "text/plain": [
              "(115, 2)"
            ]
          },
          "metadata": {
            "tags": []
          },
          "execution_count": 18
        }
      ]
    },
    {
      "cell_type": "code",
      "metadata": {
        "colab": {
          "base_uri": "https://localhost:8080/",
          "height": 283
        },
        "id": "26u8494Uzk8S",
        "outputId": "e51c6cb5-4066-4fd4-972b-4eb7c59a8fc2"
      },
      "source": [
        "plt.scatter(titles_reduced_data.T[0], titles_reduced_data.T[1], marker='o', color='r')"
      ],
      "execution_count": null,
      "outputs": [
        {
          "output_type": "execute_result",
          "data": {
            "text/plain": [
              "<matplotlib.collections.PathCollection at 0x7fe76cced190>"
            ]
          },
          "metadata": {
            "tags": []
          },
          "execution_count": 19
        },
        {
          "output_type": "display_data",
          "data": {
            "image/png": "[encoded data removed]",
            "text/plain": [
              "<Figure size 432x288 with 1 Axes>"
            ]
          },
          "metadata": {
            "tags": [],
            "needs_background": "light"
          }
        }
      ]
    },
    {
      "cell_type": "markdown",
      "metadata": {
        "id": "Fnav9AqU04eh"
      },
      "source": [
        "## Training Word2Vec Model"
      ]
    },
    {
      "cell_type": "code",
      "metadata": {
        "colab": {
          "base_uri": "https://localhost:8080/"
        },
        "id": "hE9LyLc91Rdi",
        "outputId": "881b9143-1358-4a85-bfe0-388a0245279a"
      },
      "source": [
        "titles_trained_model = Word2Vec(size=300, window=5, min_count=1)\n",
        "titles_trained_model.build_vocab(titles_stemmed_sentence_list)\n",
        "titles_trained_model.train(titles_stemmed_sentence_list, total_examples=titles_trained_model.corpus_count, epochs=1000)"
      ],
      "execution_count": 14,
      "outputs": [
        {
          "output_type": "execute_result",
          "data": {
            "text/plain": [
              "(346523, 824000)"
            ]
          },
          "metadata": {
            "tags": []
          },
          "execution_count": 14
        }
      ]
    },
    {
      "cell_type": "code",
      "metadata": {
        "id": "AD-EatRz80Wm"
      },
      "source": [
        "titles_trained_model.save(\"titles_word2vec.model\")"
      ],
      "execution_count": 15,
      "outputs": []
    },
    {
      "cell_type": "code",
      "metadata": {
        "id": "TLB2FkOP8xZ5"
      },
      "source": [
        "!mv titles_word2vec.model drive/MyDrive/"
      ],
      "execution_count": 16,
      "outputs": []
    },
    {
      "cell_type": "code",
      "metadata": {
        "id": "0h53t_6_1mq2"
      },
      "source": [
        "titles_rare_vectors = [titles_trained_model.wv[word] for word in titles_stemmed_rare_words]\n",
        "titles_rare_vectors = np.array(titles_rare_vectors)"
      ],
      "execution_count": 55,
      "outputs": []
    },
    {
      "cell_type": "markdown",
      "metadata": {
        "id": "WvPb-qYHAOzB"
      },
      "source": [
        "## Visulize all questions words with trained model on all questions"
      ]
    },
    {
      "cell_type": "code",
      "metadata": {
        "colab": {
          "base_uri": "https://localhost:8080/"
        },
        "id": "hJ7Audmi47Fr",
        "outputId": "67e9a8a5-464d-4aec-cdba-0646b5bb1d99"
      },
      "source": [
        "pca = PCA(n_components=2)\n",
        "titles_reduced_data = pca.fit_transform(titles_rare_vectors)\n",
        "titles_reduced_data.shape"
      ],
      "execution_count": 56,
      "outputs": [
        {
          "output_type": "execute_result",
          "data": {
            "text/plain": [
              "(120, 2)"
            ]
          },
          "metadata": {
            "tags": []
          },
          "execution_count": 56
        }
      ]
    },
    {
      "cell_type": "code",
      "metadata": {
        "colab": {
          "base_uri": "https://localhost:8080/",
          "height": 283
        },
        "id": "EjRylCBE6r0W",
        "outputId": "37d7f900-dff0-43b9-ce5e-fef60be5aa25"
      },
      "source": [
        "plt.scatter(titles_rare_vectors.T[0], titles_rare_vectors.T[1], marker='o', color='r')"
      ],
      "execution_count": 57,
      "outputs": [
        {
          "output_type": "execute_result",
          "data": {
            "text/plain": [
              "<matplotlib.collections.PathCollection at 0x7f4124115190>"
            ]
          },
          "metadata": {
            "tags": []
          },
          "execution_count": 57
        },
        {
          "output_type": "display_data",
          "data": {
            "image/png": "[encoded data removed]",
            "text/plain": [
              "<Figure size 432x288 with 1 Axes>"
            ]
          },
          "metadata": {
            "tags": [],
            "needs_background": "light"
          }
        }
      ]
    },
    {
      "cell_type": "markdown",
      "metadata": {
        "id": "hAWND2g-G4X8"
      },
      "source": [
        "### Note: It seems the trained word2vec model gets a better results than the pre-trained one on medicine documents. \n",
        "### So we will cluster vectors on trained one/"
      ]
    },
    {
      "cell_type": "markdown",
      "metadata": {
        "id": "JaT_hGmeDfq5"
      },
      "source": [
        "## Vocabulary clustering"
      ]
    },
    {
      "cell_type": "code",
      "metadata": {
        "colab": {
          "base_uri": "https://localhost:8080/",
          "height": 295
        },
        "id": "EWW_yVlX-Pt5",
        "outputId": "c0301d74-a618-4136-b30e-13c75962c339"
      },
      "source": [
        "SSE = []\n",
        "\n",
        "for k in range(1, 60):\n",
        "    kmeans = KMeans(n_clusters = k)\n",
        "    kmeans.fit(titles_rare_vectors)\n",
        "    SSE.append(kmeans.inertia_)\n",
        "    \n",
        "plt.plot(range(1, 60), SSE, 'bx-')\n",
        "plt.title('Elbow Method')\n",
        "plt.xlabel('cluster numbers')\n",
        "plt.show()"
      ],
      "execution_count": 20,
      "outputs": [
        {
          "output_type": "display_data",
          "data": {
            "image/png": "[encoded data removed]",
            "text/plain": [
              "<Figure size 432x288 with 1 Axes>"
            ]
          },
          "metadata": {
            "tags": [],
            "needs_background": "light"
          }
        }
      ]
    },
    {
      "cell_type": "code",
      "metadata": {
        "colab": {
          "base_uri": "https://localhost:8080/"
        },
        "id": "oprp6oP9-oBI",
        "outputId": "372899f3-465a-4436-bc39-39970dcf8b50"
      },
      "source": [
        "n_clusters = 30\n",
        "\n",
        "km = KMeans(n_clusters=n_clusters)\n",
        "\n",
        "km.fit(titles_rare_vectors)\n",
        "centers = km.cluster_centers_.argsort()[:,::-1]\n",
        "\n",
        "print(\"Len of Labels: \",\n",
        "       len(set(km.labels_)), \n",
        "       \" Params: \", \n",
        "       km.get_params())"
      ],
      "execution_count": 21,
      "outputs": [
        {
          "output_type": "stream",
          "text": [
            "Len of Labels:  30  Params:  {'algorithm': 'auto', 'copy_x': True, 'init': 'k-means++', 'max_iter': 300, 'n_clusters': 30, 'n_init': 10, 'n_jobs': None, 'precompute_distances': 'auto', 'random_state': None, 'tol': 0.0001, 'verbose': 0}\n"
          ],
          "name": "stdout"
        }
      ]
    },
    {
      "cell_type": "code",
      "metadata": {
        "colab": {
          "base_uri": "https://localhost:8080/"
        },
        "id": "AA2P02rP-v_c",
        "outputId": "98944a5a-0263-41d3-dc66-6bcb0c663861"
      },
      "source": [
        "clusters = {}\n",
        "\n",
        "for i, word in enumerate(titles_stemmed_rare_words):\n",
        "    if km.predict(titles_rare_vectors[i].reshape(-1, 1).T)[0] in clusters.keys():\n",
        "      clusters[km.predict(titles_rare_vectors[i].reshape(-1, 1).T)[0]].append(word)\n",
        "    else:\n",
        "      clusters[km.predict(titles_rare_vectors[i].reshape(-1, 1).T)[0]] = [word]\n",
        "\n",
        "clusters"
      ],
      "execution_count": 22,
      "outputs": [
        {
          "output_type": "execute_result",
          "data": {
            "text/plain": [
              "{0: ['case', 'overdos'],\n",
              " 1: ['import',\n",
              "  'relat',\n",
              "  'rotavirus',\n",
              "  'vaccin',\n",
              "  'drug',\n",
              "  'enceph',\n",
              "  'japanes',\n",
              "  'mmr',\n",
              "  'diseas',\n",
              "  'chickenpox',\n",
              "  'reaction',\n",
              "  'avail',\n",
              "  'topic',\n",
              "  'notic',\n",
              "  'warn'],\n",
              " 2: ['covid', 'moderna', 'pfizer', 'biontech'],\n",
              " 3: ['hpv', 'td', 'tdap', 'hib'],\n",
              " 4: ['nasal', 'live', 'shingl', 'attenu', 'laiv', 'influenza', 'spray'],\n",
              " 5: ['serious', 'moder', 'problem', 'sever'],\n",
              " 6: ['storag', 'dispos', 'know'],\n",
              " 7: ['countermeasur', 'injuri', 'program', 'compens', 'nation'],\n",
              " 8: ['doctor',\n",
              "  'provid',\n",
              "  'treatment',\n",
              "  'card',\n",
              "  'talk',\n",
              "  'health',\n",
              "  'keep',\n",
              "  'care'],\n",
              " 9: ['follow', 'precaut', 'instruct', 'special', 'dietari'],\n",
              " 10: ['administr', 'fee', 'charg'],\n",
              " 11: ['forget', 'dose'],\n",
              " 12: ['brand', 'brows', 'generic'],\n",
              " 13: ['caus', 'effect', 'side'],\n",
              " 14: ['yellow', 'prevent', 'learn', 'fever'],\n",
              " 15: ['person', 'tell'],\n",
              " 16: ['dtap', 'babi', 'peopl', 'child'],\n",
              " 17: ['medicin', 'prescrib', 'use', 'medic', 'whi', 'us'],\n",
              " 18: ['johnson', 'janssen'],\n",
              " 19: ['supplement', 'herb', 'polio'],\n",
              " 20: ['get', 'wait'],\n",
              " 21: ['inactiv', 'recombin'],\n",
              " 22: ['combin', 'product', 'name'],\n",
              " 23: ['risk', 'benefit'],\n",
              " 24: ['give', 'given'],\n",
              " 25: ['inform', 'record'],\n",
              " 26: ['je',\n",
              "  'ipv',\n",
              "  'anthrax',\n",
              "  'hepat',\n",
              "  'meningococc',\n",
              "  'group',\n",
              "  'rabi',\n",
              "  'typhoid'],\n",
              " 27: ['cholera', 'pcv', 'receiv'],\n",
              " 28: ['ppsv', 'polysaccharid', 'pneumococc'],\n",
              " 29: ['emerg', 'suspect', 'fraud', 'report']}"
            ]
          },
          "metadata": {
            "tags": []
          },
          "execution_count": 22
        }
      ]
    },
    {
      "cell_type": "code",
      "metadata": {
        "colab": {
          "base_uri": "https://localhost:8080/",
          "height": 283
        },
        "id": "jOm6jGZGB-TO",
        "outputId": "1329037d-7e01-4bf9-d5a7-1d424dd27d92"
      },
      "source": [
        "plt.bar(list(clusters.keys()), [len(value) for value in clusters.values()])"
      ],
      "execution_count": 23,
      "outputs": [
        {
          "output_type": "execute_result",
          "data": {
            "text/plain": [
              "<BarContainer object of 30 artists>"
            ]
          },
          "metadata": {
            "tags": []
          },
          "execution_count": 23
        },
        {
          "output_type": "display_data",
          "data": {
            "image/png": "[encoded data removed]",
            "text/plain": [
              "<Figure size 432x288 with 1 Axes>"
            ]
          },
          "metadata": {
            "tags": [],
            "needs_background": "light"
          }
        }
      ]
    },
    {
      "cell_type": "markdown",
      "metadata": {
        "id": "NKFr8LnDIiL_"
      },
      "source": [
        "# Analyze Our Documents"
      ]
    },
    {
      "cell_type": "code",
      "metadata": {
        "colab": {
          "base_uri": "https://localhost:8080/"
        },
        "id": "Ep2AoaYYKFa9",
        "outputId": "dcbe2553-f70a-4f38-8924-9cd9c428f5dc"
      },
      "source": [
        "df['text'].isnull().sum()"
      ],
      "execution_count": 299,
      "outputs": [
        {
          "output_type": "stream",
          "text": [
            "2\n"
          ],
          "name": "stdout"
        }
      ]
    },
    {
      "cell_type": "code",
      "metadata": {
        "colab": {
          "base_uri": "https://localhost:8080/"
        },
        "id": "a1zcODXmKLLM",
        "outputId": "e1880ea8-d69f-426f-96ca-337d49d481ba"
      },
      "source": [
        "df['title'].isnull().sum()"
      ],
      "execution_count": 195,
      "outputs": [
        {
          "output_type": "execute_result",
          "data": {
            "text/plain": [
              "0"
            ]
          },
          "metadata": {
            "tags": []
          },
          "execution_count": 195
        }
      ]
    },
    {
      "cell_type": "code",
      "metadata": {
        "colab": {
          "base_uri": "https://localhost:8080/",
          "height": 49
        },
        "id": "TWTuYAz0KOTN",
        "outputId": "2209303a-9cd5-4736-ed12-5cacfad461dc"
      },
      "source": [
        "df[df['text'].isnull()]"
      ],
      "execution_count": 196,
      "outputs": [
        {
          "output_type": "execute_result",
          "data": {
            "text/html": [
              "<div>\n",
              "<style scoped>\n",
              "    .dataframe tbody tr th:only-of-type {\n",
              "        vertical-align: middle;\n",
              "    }\n",
              "\n",
              "    .dataframe tbody tr th {\n",
              "        vertical-align: top;\n",
              "    }\n",
              "\n",
              "    .dataframe thead th {\n",
              "        text-align: right;\n",
              "    }\n",
              "</style>\n",
              "<table border=\"1\" class=\"dataframe\">\n",
              "  <thead>\n",
              "    <tr style=\"text-align: right;\">\n",
              "      <th></th>\n",
              "      <th>Section_Number</th>\n",
              "      <th>Link</th>\n",
              "      <th>drug_name</th>\n",
              "      <th>title</th>\n",
              "      <th>text</th>\n",
              "      <th>documents</th>\n",
              "    </tr>\n",
              "  </thead>\n",
              "  <tbody>\n",
              "  </tbody>\n",
              "</table>\n",
              "</div>"
            ],
            "text/plain": [
              "Empty DataFrame\n",
              "Columns: [Section_Number, Link, drug_name, title, text, documents]\n",
              "Index: []"
            ]
          },
          "metadata": {
            "tags": []
          },
          "execution_count": 196
        }
      ]
    },
    {
      "cell_type": "code",
      "metadata": {
        "colab": {
          "base_uri": "https://localhost:8080/",
          "height": 107
        },
        "id": "qsLya7OkIw-9",
        "outputId": "c2267cae-9515-4c2d-99ff-4f72d8433481"
      },
      "source": [
        "df['documents'] = df['title'] + df['text']\n",
        "df.loc[10]['documents']"
      ],
      "execution_count": 197,
      "outputs": [
        {
          "output_type": "execute_result",
          "data": {
            "application/vnd.google.colaboratory.intrinsic+json": {
              "type": "string"
            },
            "text/plain": [
              "'What special precautions should I follow?Before receiving famotidine injection,tell your doctor and pharmacist if you are allergic to famotidine, cimetidine, nizatidine (Axid), ranitidine (Zantac), any other medications, or any of the ingredients in famotidine injection. Ask your pharmacist for a list of the ingredients.tell your doctor and pharmacist what other prescription and nonprescription medications, vitamins, nutritional supplements, and herbal products you are taking or plan to take. Your doctor may need to change the doses of your medications or monitor you carefully for side effects.tell your doctor if you have or have ever had kidney disease.tell your doctor if you are pregnant, plan to become pregnant, or are breast-feeding. If you become pregnant while receiving famotidine injection, call your doctor.'"
            ]
          },
          "metadata": {
            "tags": []
          },
          "execution_count": 197
        }
      ]
    },
    {
      "cell_type": "code",
      "metadata": {
        "id": "EfNFpSzeKZF2"
      },
      "source": [
        "df.dropna(subset=['documents'], inplace=True)"
      ],
      "execution_count": 198,
      "outputs": []
    },
    {
      "cell_type": "code",
      "metadata": {
        "colab": {
          "base_uri": "https://localhost:8080/"
        },
        "id": "Z2aFFJ9fKjdH",
        "outputId": "0d0945eb-d153-4e96-ee2a-f4bd978ab984"
      },
      "source": [
        "df['documents'].isnull().sum()"
      ],
      "execution_count": 199,
      "outputs": [
        {
          "output_type": "execute_result",
          "data": {
            "text/plain": [
              "0"
            ]
          },
          "metadata": {
            "tags": []
          },
          "execution_count": 199
        }
      ]
    },
    {
      "cell_type": "code",
      "metadata": {
        "colab": {
          "base_uri": "https://localhost:8080/"
        },
        "id": "wa7hISyYJdGc",
        "outputId": "5f06e395-1aa7-4f86-8f65-3f792ce7ccd7"
      },
      "source": [
        "documents = set(df['documents'].str.lower())\n",
        "documents = list(documents)\n",
        "\n",
        "print(f\"We have {len(documents)} unique question-answer pair in our dataset\")"
      ],
      "execution_count": 200,
      "outputs": [
        {
          "output_type": "stream",
          "text": [
            "We have 12709 unique question-answer pair in our dataset\n"
          ],
          "name": "stdout"
        }
      ]
    },
    {
      "cell_type": "code",
      "metadata": {
        "colab": {
          "base_uri": "https://localhost:8080/"
        },
        "id": "TCebd_veNR4V",
        "outputId": "2976f50c-10c6-4560-8927-91fec8768137"
      },
      "source": [
        "documents_sentences = []\n",
        "\n",
        "for document in documents:\n",
        "  sentence_in_doc = nltk.sent_tokenize(document)\n",
        "  documents_sentences += sentence_in_doc\n",
        "\n",
        "documents_sentences = list(set(documents_sentences))\n",
        "print(f\"We have {len(documents_sentences)} unique sentence in our dataset\")"
      ],
      "execution_count": 202,
      "outputs": [
        {
          "output_type": "stream",
          "text": [
            "We have 49020 unique sentence in our dataset\n"
          ],
          "name": "stdout"
        }
      ]
    },
    {
      "cell_type": "code",
      "metadata": {
        "colab": {
          "base_uri": "https://localhost:8080/"
        },
        "id": "Mu8STZV7Lgdj",
        "outputId": "1b53fd22-a237-4efd-cab1-139dfde0838b"
      },
      "source": [
        "documents_word_list = [] \n",
        "documents_sentence_list = []\n",
        "documents_stemmed_sentence_list = []\n",
        "documents_stemmed_words = []\n",
        "punc_digit_pattern = '\\W+|\\d+'\n",
        "\n",
        "for documents_sentence in documents_sentences:\n",
        "    documents_sentence = re.sub(punc_digit_pattern, ' ', documents_sentence)\n",
        "    documents_word_in_sentence = nltk.word_tokenize(documents_sentence)\n",
        "    documents_word_in_sentence = [word for word in documents_word_in_sentence if len(word) > 1]\n",
        "    documents_stemmed_words_in_sentence = [stemmer.stem(lemmatizer.lemmatize(word)) for word in documents_word_in_sentence]\n",
        "    documents_sentence_list.append(documents_word_in_sentence)\n",
        "    documents_word_list += documents_word_in_sentence \n",
        "    documents_stemmed_sentence_list.append(documents_stemmed_words_in_sentence)\n",
        "    documents_stemmed_words += documents_stemmed_words_in_sentence \n",
        "\n",
        "len(documents_word_list)"
      ],
      "execution_count": 226,
      "outputs": [
        {
          "output_type": "execute_result",
          "data": {
            "text/plain": [
              "1493466"
            ]
          },
          "metadata": {
            "tags": []
          },
          "execution_count": 226
        }
      ]
    },
    {
      "cell_type": "code",
      "metadata": {
        "colab": {
          "base_uri": "https://localhost:8080/"
        },
        "id": "3G89llI0OubT",
        "outputId": "ac98b744-0e4b-4359-e131-ada83313feba"
      },
      "source": [
        "documents_word_set = list(set(documents_word_list))\n",
        "documents_stemmed_word_set = list(set(documents_stemmed_words))\n",
        "\n",
        "print(f\"We have {len(documents_word_set)} unique words in our dataset\\n\\\n",
        "We have {len(documents_stemmed_word_set)} unique stemmed words in our dataset\")"
      ],
      "execution_count": 227,
      "outputs": [
        {
          "output_type": "stream",
          "text": [
            "We have 26586 unique words in our dataset\n",
            "We have 23859 unique stemmed words in our dataset\n"
          ],
          "name": "stdout"
        }
      ]
    },
    {
      "cell_type": "code",
      "metadata": {
        "colab": {
          "base_uri": "https://localhost:8080/"
        },
        "id": "grjpbHqoO3v0",
        "outputId": "c1a2a084-5f04-4fca-9986-30b5eaf161a4"
      },
      "source": [
        "documents_common_words = [word for word in documents_word_set if word in stop_words]\n",
        "documents_rare_words = [word for word in documents_word_set if word not in stop_words]\n",
        "documents_stemmed_common_words = [word for word in documents_stemmed_word_set if word in stop_words]\n",
        "documents_stemmed_rare_words = [word for word in documents_stemmed_word_set if word not in stop_words]\n",
        "\n",
        "print(f\"Number of unique words: {len(documents_word_set)}\\n\\\n",
        "Number of stop words in our document vocabulary: {len(documents_common_words)}\\n\\\n",
        "Number of rare words in our document vocabulary: {len(documents_rare_words)}\\n\\\n",
        "Number of stemmed stop words in our document vocabulary: {len(documents_stemmed_common_words)}\\n\\\n",
        "Number of stemmed rare words in our document vocabulary: {len(documents_stemmed_rare_words)}\")"
      ],
      "execution_count": 228,
      "outputs": [
        {
          "output_type": "stream",
          "text": [
            "Number of unique words: 26586\n",
            "Number of stop words in our document vocabulary: 122\n",
            "Number of rare words in our document vocabulary: 26464\n",
            "Number of stemmed stop words in our document vocabulary: 109\n",
            "Number of stemmed rare words in our document vocabulary: 23750\n"
          ],
          "name": "stdout"
        }
      ]
    },
    {
      "cell_type": "code",
      "metadata": {
        "colab": {
          "base_uri": "https://localhost:8080/",
          "height": 366
        },
        "id": "1OKtf9UKISW6",
        "outputId": "91828c2b-ef07-4d01-8276-82ff89cf2772"
      },
      "source": [
        "plt.hist(documents_word_list)"
      ],
      "execution_count": 416,
      "outputs": [
        {
          "output_type": "execute_result",
          "data": {
            "text/plain": [
              "(array([1341566.,   81282.,   28371.,   14572.,    8506.,    5427.,\n",
              "           4342.,    3478.,    3131.,    2791.]),\n",
              " array([    0. ,  2658.5,  5317. ,  7975.5, 10634. , 13292.5, 15951. ,\n",
              "        18609.5, 21268. , 23926.5, 26585. ]),\n",
              " <a list of 10 Patch objects>)"
            ]
          },
          "metadata": {
            "tags": []
          },
          "execution_count": 416
        },
        {
          "output_type": "display_data",
          "data": {
            "image/png": "[encoded data removed]",
            "text/plain": [
              "<Figure size 432x288 with 1 Axes>"
            ]
          },
          "metadata": {
            "tags": [],
            "needs_background": "light"
          }
        }
      ]
    },
    {
      "cell_type": "code",
      "metadata": {
        "colab": {
          "base_uri": "https://localhost:8080/",
          "height": 354
        },
        "id": "whIyymCrKwQs",
        "outputId": "6e5c181e-b52e-4a2b-d192-7e29817b1f4d"
      },
      "source": [
        "documents_sentence_legth_dist = [len(title) for title in documents_stemmed_sentence_list]\n",
        "plt.hist(documents_sentence_legth_dist)"
      ],
      "execution_count": 431,
      "outputs": [
        {
          "output_type": "execute_result",
          "data": {
            "text/plain": [
              "(array([4.8825e+04, 1.7400e+02, 1.5000e+01, 4.0000e+00, 0.0000e+00,\n",
              "        0.0000e+00, 0.0000e+00, 0.0000e+00, 1.0000e+00, 1.0000e+00]),\n",
              " array([   0. ,  162.5,  325. ,  487.5,  650. ,  812.5,  975. , 1137.5,\n",
              "        1300. , 1462.5, 1625. ]),\n",
              " <a list of 10 Patch objects>)"
            ]
          },
          "metadata": {
            "tags": []
          },
          "execution_count": 431
        },
        {
          "output_type": "display_data",
          "data": {
            "image/png": "[encoded data removed]",
            "text/plain": [
              "<Figure size 432x288 with 1 Axes>"
            ]
          },
          "metadata": {
            "tags": [],
            "needs_background": "light"
          }
        }
      ]
    },
    {
      "cell_type": "code",
      "metadata": {
        "colab": {
          "base_uri": "https://localhost:8080/"
        },
        "id": "rNbPiURJMMwz",
        "outputId": "69c1c526-e4e5-4ba9-c6c2-63180a16f620"
      },
      "source": [
        "len(documents_sentence_legth_dist)"
      ],
      "execution_count": 443,
      "outputs": [
        {
          "output_type": "execute_result",
          "data": {
            "text/plain": [
              "49020"
            ]
          },
          "metadata": {
            "tags": []
          },
          "execution_count": 443
        }
      ]
    },
    {
      "cell_type": "code",
      "metadata": {
        "colab": {
          "base_uri": "https://localhost:8080/",
          "height": 338
        },
        "id": "oRJUFKKDLIk3",
        "outputId": "2e6aaed8-b4d7-4e31-f6c5-290a12e6b4c9"
      },
      "source": [
        "documents_sentence_legth_dist.sort()\n",
        "plt.hist(documents_sentence_legth_dist[:48000])"
      ],
      "execution_count": 450,
      "outputs": [
        {
          "output_type": "execute_result",
          "data": {
            "text/plain": [
              "(array([ 6001., 13453.,  9814.,  7791.,  4446.,  2931.,  1569.,   936.,\n",
              "          592.,   467.]),\n",
              " array([  0.,  10.,  20.,  30.,  40.,  50.,  60.,  70.,  80.,  90., 100.]),\n",
              " <a list of 10 Patch objects>)"
            ]
          },
          "metadata": {
            "tags": []
          },
          "execution_count": 450
        },
        {
          "output_type": "display_data",
          "data": {
            "image/png": "[encoded data removed]",
            "text/plain": [
              "<Figure size 432x288 with 1 Axes>"
            ]
          },
          "metadata": {
            "tags": [],
            "needs_background": "light"
          }
        }
      ]
    },
    {
      "cell_type": "markdown",
      "metadata": {
        "id": "YoPXpImcPX1t"
      },
      "source": [
        "## Training Word2Vec on documents"
      ]
    },
    {
      "cell_type": "code",
      "metadata": {
        "id": "c6h2sDm0PZhg"
      },
      "source": [
        "documents_trained_model = Word2Vec(size=300, window=5, min_count=1)\n",
        "documents_trained_model.build_vocab(documents_stemmed_sentence_list)\n",
        "documents_trained_model.train(documents_stemmed_sentence_list, total_examples=documents_trained_model.corpus_count, epochs=2000)"
      ],
      "execution_count": 405,
      "outputs": []
    },
    {
      "cell_type": "code",
      "metadata": {
        "id": "hO5CMP6yUvA5"
      },
      "source": [
        "documents_trained_model.save(\"documents_word2vec.model\")"
      ],
      "execution_count": 403,
      "outputs": []
    },
    {
      "cell_type": "code",
      "metadata": {
        "id": "GufZ39Aip7up"
      },
      "source": [
        "!mv documents_word2vec.model drive/MyDrive/"
      ],
      "execution_count": 404,
      "outputs": []
    },
    {
      "cell_type": "code",
      "metadata": {
        "id": "fOFOoAtfPvks"
      },
      "source": [
        "documents_rare_vectors = [documents_trained_model.wv[word] for word in documents_stemmed_rare_words]\n",
        "documents_rare_vectors = np.array(documents_rare_vectors)"
      ],
      "execution_count": 229,
      "outputs": []
    },
    {
      "cell_type": "markdown",
      "metadata": {
        "id": "qV0yLIvxAAAl"
      },
      "source": [
        "## Visulize all documents words with trained model on all documents"
      ]
    },
    {
      "cell_type": "code",
      "metadata": {
        "id": "jTgMWHVTP5cQ",
        "colab": {
          "base_uri": "https://localhost:8080/"
        },
        "outputId": "60aec820-51e0-4923-da8d-c20bef2dcf40"
      },
      "source": [
        "pca = PCA(n_components=2)\n",
        "documents_reduced_data = pca.fit_transform(documents_rare_vectors)\n",
        "documents_reduced_data.shape"
      ],
      "execution_count": 230,
      "outputs": [
        {
          "output_type": "execute_result",
          "data": {
            "text/plain": [
              "(23750, 2)"
            ]
          },
          "metadata": {
            "tags": []
          },
          "execution_count": 230
        }
      ]
    },
    {
      "cell_type": "code",
      "metadata": {
        "id": "npdGxawKP8Ij",
        "colab": {
          "base_uri": "https://localhost:8080/",
          "height": 283
        },
        "outputId": "bdbc11eb-847d-4260-d918-9366ff960db6"
      },
      "source": [
        "plt.scatter(documents_rare_vectors.T[0], documents_rare_vectors.T[1], marker='o', color='r')"
      ],
      "execution_count": 231,
      "outputs": [
        {
          "output_type": "execute_result",
          "data": {
            "text/plain": [
              "<matplotlib.collections.PathCollection at 0x7f411c3aebd0>"
            ]
          },
          "metadata": {
            "tags": []
          },
          "execution_count": 231
        },
        {
          "output_type": "display_data",
          "data": {
            "image/png": "[encoded data removed]",
            "text/plain": [
              "<Figure size 432x288 with 1 Axes>"
            ]
          },
          "metadata": {
            "tags": [],
            "needs_background": "light"
          }
        }
      ]
    },
    {
      "cell_type": "markdown",
      "metadata": {
        "id": "8uwIbR5iAX6b"
      },
      "source": [
        "## Visulize all question words with trained model on all documents"
      ]
    },
    {
      "cell_type": "code",
      "metadata": {
        "id": "7zDtZabOBNyg"
      },
      "source": [
        "titles_rare_vectors = [documents_trained_model.wv[word] for word in titles_stemmed_rare_words]\n",
        "titles_rare_vectors = np.array(titles_rare_vectors)"
      ],
      "execution_count": 232,
      "outputs": []
    },
    {
      "cell_type": "code",
      "metadata": {
        "colab": {
          "base_uri": "https://localhost:8080/"
        },
        "id": "B5B3CFuk5mCY",
        "outputId": "c66adf0f-ee0c-4d68-adfa-05668263b3cf"
      },
      "source": [
        "pca = PCA(n_components=2)\n",
        "titles_reduced_data = pca.fit_transform(titles_rare_vectors)\n",
        "titles_reduced_data.shape"
      ],
      "execution_count": 233,
      "outputs": [
        {
          "output_type": "execute_result",
          "data": {
            "text/plain": [
              "(120, 2)"
            ]
          },
          "metadata": {
            "tags": []
          },
          "execution_count": 233
        }
      ]
    },
    {
      "cell_type": "code",
      "metadata": {
        "colab": {
          "base_uri": "https://localhost:8080/",
          "height": 286
        },
        "id": "lbJm6QqrAi1f",
        "outputId": "ca186603-5035-4187-b638-ad969aeeb103"
      },
      "source": [
        "plt.scatter(titles_rare_vectors.T[0], titles_rare_vectors.T[1], marker='o', color='r')"
      ],
      "execution_count": 234,
      "outputs": [
        {
          "output_type": "execute_result",
          "data": {
            "text/plain": [
              "<matplotlib.collections.PathCollection at 0x7f412c1ca110>"
            ]
          },
          "metadata": {
            "tags": []
          },
          "execution_count": 234
        },
        {
          "output_type": "display_data",
          "data": {
            "image/png": "[encoded data removed]",
            "text/plain": [
              "<Figure size 432x288 with 1 Axes>"
            ]
          },
          "metadata": {
            "tags": [],
            "needs_background": "light"
          }
        }
      ]
    },
    {
      "cell_type": "markdown",
      "metadata": {
        "id": "sV4zPEBRBzLm"
      },
      "source": [
        "## Vocabulary clustering with Word2Vec model trained on all documents"
      ]
    },
    {
      "cell_type": "code",
      "metadata": {
        "colab": {
          "base_uri": "https://localhost:8080/",
          "height": 295
        },
        "id": "XyeFZWvTBDcQ",
        "outputId": "4b559c96-0c92-4919-8315-15a5b76d559c"
      },
      "source": [
        "SSE = []\n",
        "\n",
        "for k in range(1, 60):\n",
        "    kmeans = KMeans(n_clusters = k)\n",
        "    kmeans.fit(titles_rare_vectors)\n",
        "    SSE.append(kmeans.inertia_)\n",
        "    \n",
        "plt.plot(range(1, 60), SSE, 'bx-')\n",
        "plt.title('Elbow Method')\n",
        "plt.xlabel('cluster numbers')\n",
        "plt.show()"
      ],
      "execution_count": 203,
      "outputs": [
        {
          "output_type": "display_data",
          "data": {
            "image/png": "[encoded data removed]",
            "text/plain": [
              "<Figure size 432x288 with 1 Axes>"
            ]
          },
          "metadata": {
            "tags": [],
            "needs_background": "light"
          }
        }
      ]
    },
    {
      "cell_type": "code",
      "metadata": {
        "colab": {
          "base_uri": "https://localhost:8080/"
        },
        "id": "1cbVmvRmDgu0",
        "outputId": "01ecb832-de7e-4c46-9417-59fb69c02555"
      },
      "source": [
        "n_clusters = 30\n",
        "\n",
        "km = KMeans(n_clusters=n_clusters)\n",
        "\n",
        "km.fit(titles_rare_vectors)\n",
        "centers = km.cluster_centers_.argsort()[:,::-1]\n",
        "\n",
        "print(\"Len of Labels: \",\n",
        "       len(set(km.labels_)), \n",
        "       \" Params: \", \n",
        "       km.get_params())"
      ],
      "execution_count": 235,
      "outputs": [
        {
          "output_type": "stream",
          "text": [
            "Len of Labels:  30  Params:  {'algorithm': 'auto', 'copy_x': True, 'init': 'k-means++', 'max_iter': 300, 'n_clusters': 30, 'n_init': 10, 'n_jobs': None, 'precompute_distances': 'auto', 'random_state': None, 'tol': 0.0001, 'verbose': 0}\n"
          ],
          "name": "stdout"
        }
      ]
    },
    {
      "cell_type": "code",
      "metadata": {
        "id": "DQ-dizpcD3Xk"
      },
      "source": [
        "clusters = {}\n",
        "\n",
        "for i, word in enumerate(titles_stemmed_rare_words):\n",
        "    if km.predict(titles_rare_vectors[i].reshape(-1, 1).T)[0] in clusters.keys():\n",
        "      clusters[km.predict(titles_rare_vectors[i].reshape(-1, 1).T)[0]].append(word)\n",
        "    else:\n",
        "      clusters[km.predict(titles_rare_vectors[i].reshape(-1, 1).T)[0]] = [word]\n",
        "\n",
        "# clusters"
      ],
      "execution_count": 236,
      "outputs": []
    },
    {
      "cell_type": "code",
      "metadata": {
        "colab": {
          "base_uri": "https://localhost:8080/",
          "height": 283
        },
        "id": "FVmRC_UdD6oo",
        "outputId": "673b4615-1760-43ee-c9e3-b15110405872"
      },
      "source": [
        "plt.bar(list(clusters.keys()), [len(value) for value in clusters.values()])"
      ],
      "execution_count": 237,
      "outputs": [
        {
          "output_type": "execute_result",
          "data": {
            "text/plain": [
              "<BarContainer object of 30 artists>"
            ]
          },
          "metadata": {
            "tags": []
          },
          "execution_count": 237
        },
        {
          "output_type": "display_data",
          "data": {
            "image/png": "[encoded data removed]",
            "text/plain": [
              "<Figure size 432x288 with 1 Axes>"
            ]
          },
          "metadata": {
            "tags": [],
            "needs_background": "light"
          }
        }
      ]
    },
    {
      "cell_type": "markdown",
      "metadata": {
        "id": "cSGw2X1qxVaW"
      },
      "source": [
        "## Normalizing embedding vectors. Result will be the same as **cosine similarities**"
      ]
    },
    {
      "cell_type": "code",
      "metadata": {
        "colab": {
          "base_uri": "https://localhost:8080/"
        },
        "id": "VUjVpD6vxVAn",
        "outputId": "fd75db98-1b69-4399-b7c2-25d65bf79d21"
      },
      "source": [
        "titles_rare_vectors_norm = normalize(titles_rare_vectors, axis=1)\n",
        "titles_rare_vectors_norm.shape"
      ],
      "execution_count": 238,
      "outputs": [
        {
          "output_type": "execute_result",
          "data": {
            "text/plain": [
              "(120, 300)"
            ]
          },
          "metadata": {
            "tags": []
          },
          "execution_count": 238
        }
      ]
    },
    {
      "cell_type": "code",
      "metadata": {
        "colab": {
          "base_uri": "https://localhost:8080/",
          "height": 295
        },
        "id": "6tpBTepEyuJC",
        "outputId": "8e08d53e-b89f-4ae3-b382-ba46ed70b09e"
      },
      "source": [
        "SSE = []\n",
        "\n",
        "for k in range(1, 60):\n",
        "    kmeans = KMeans(n_clusters = k)\n",
        "    kmeans.fit(titles_rare_vectors_norm)\n",
        "    SSE.append(kmeans.inertia_)\n",
        "    \n",
        "plt.plot(range(1, 60), SSE, 'bx-')\n",
        "plt.title('Elbow Method')\n",
        "plt.xlabel('cluster numbers')\n",
        "plt.show()"
      ],
      "execution_count": 239,
      "outputs": [
        {
          "output_type": "display_data",
          "data": {
            "image/png": "[encoded data removed]",
            "text/plain": [
              "<Figure size 432x288 with 1 Axes>"
            ]
          },
          "metadata": {
            "tags": [],
            "needs_background": "light"
          }
        }
      ]
    },
    {
      "cell_type": "code",
      "metadata": {
        "colab": {
          "base_uri": "https://localhost:8080/"
        },
        "id": "Q4pJIIac0bAl",
        "outputId": "03b169dd-4f3e-4aff-f5a1-99a43bd2343a"
      },
      "source": [
        "n_clusters = 30\n",
        "\n",
        "km = KMeans(n_clusters=n_clusters)\n",
        "\n",
        "km.fit(titles_rare_vectors_norm)\n",
        "centers = km.cluster_centers_.argsort()[:,::-1]\n",
        "\n",
        "print(\"Len of Labels: \",\n",
        "       len(set(km.labels_)), \n",
        "       \" Params: \", \n",
        "       km.get_params())"
      ],
      "execution_count": 240,
      "outputs": [
        {
          "output_type": "stream",
          "text": [
            "Len of Labels:  30  Params:  {'algorithm': 'auto', 'copy_x': True, 'init': 'k-means++', 'max_iter': 300, 'n_clusters': 30, 'n_init': 10, 'n_jobs': None, 'precompute_distances': 'auto', 'random_state': None, 'tol': 0.0001, 'verbose': 0}\n"
          ],
          "name": "stdout"
        }
      ]
    },
    {
      "cell_type": "code",
      "metadata": {
        "id": "J3o2RiLzyYsJ"
      },
      "source": [
        "clusters = {}\n",
        "\n",
        "for i, word in enumerate(titles_stemmed_rare_words):\n",
        "    if km.predict(titles_rare_vectors_norm[i].reshape(-1, 1).T)[0] in clusters.keys():\n",
        "      clusters[km.predict(titles_rare_vectors_norm[i].reshape(-1, 1).T)[0]].append(word)\n",
        "    else:\n",
        "      clusters[km.predict(titles_rare_vectors_norm[i].reshape(-1, 1).T)[0]] = [word]\n",
        "\n",
        "# clusters"
      ],
      "execution_count": 241,
      "outputs": []
    },
    {
      "cell_type": "code",
      "metadata": {
        "colab": {
          "base_uri": "https://localhost:8080/",
          "height": 283
        },
        "id": "uhdlcw5GzRfm",
        "outputId": "07065e9c-c715-46a7-b405-08de151fd138"
      },
      "source": [
        "plt.bar(list(clusters.keys()), [len(value) for value in clusters.values()])"
      ],
      "execution_count": 242,
      "outputs": [
        {
          "output_type": "execute_result",
          "data": {
            "text/plain": [
              "<BarContainer object of 30 artists>"
            ]
          },
          "metadata": {
            "tags": []
          },
          "execution_count": 242
        },
        {
          "output_type": "display_data",
          "data": {
            "image/png": "[encoded data removed]",
            "text/plain": [
              "<Figure size 432x288 with 1 Axes>"
            ]
          },
          "metadata": {
            "tags": [],
            "needs_background": "light"
          }
        }
      ]
    },
    {
      "cell_type": "markdown",
      "metadata": {
        "id": "lV4Iq0gGzWN_"
      },
      "source": [
        "## Dimensionality reduction on word embedding results"
      ]
    },
    {
      "cell_type": "code",
      "metadata": {
        "id": "aWCDzog9zlRU"
      },
      "source": [
        "pca = PCA(n_components=0.60, svd_solver='full')\n",
        "reduced_data = pca.fit_transform(titles_rare_vectors)"
      ],
      "execution_count": 272,
      "outputs": []
    },
    {
      "cell_type": "code",
      "metadata": {
        "colab": {
          "base_uri": "https://localhost:8080/"
        },
        "id": "JetAfRbt02DP",
        "outputId": "d4f3f687-7cc4-4d5d-8b33-bab51cfd8f13"
      },
      "source": [
        "reduced_data.shape"
      ],
      "execution_count": 273,
      "outputs": [
        {
          "output_type": "execute_result",
          "data": {
            "text/plain": [
              "(120, 30)"
            ]
          },
          "metadata": {
            "tags": []
          },
          "execution_count": 273
        }
      ]
    },
    {
      "cell_type": "code",
      "metadata": {
        "colab": {
          "base_uri": "https://localhost:8080/",
          "height": 295
        },
        "id": "gLjs-bmQ2H6D",
        "outputId": "abf7bf9c-e806-4e60-e1a3-5245563efac5"
      },
      "source": [
        "SSE = []\n",
        "\n",
        "for k in range(1, 60):\n",
        "    kmeans = KMeans(n_clusters = k)\n",
        "    kmeans.fit(reduced_data)\n",
        "    SSE.append(kmeans.inertia_)\n",
        "    \n",
        "plt.plot(range(1, 60), SSE, 'bx-')\n",
        "plt.title('Elbow Method')\n",
        "plt.xlabel('cluster numbers')\n",
        "plt.show()"
      ],
      "execution_count": 274,
      "outputs": [
        {
          "output_type": "display_data",
          "data": {
            "image/png": "[encoded data removed]",
            "text/plain": [
              "<Figure size 432x288 with 1 Axes>"
            ]
          },
          "metadata": {
            "tags": [],
            "needs_background": "light"
          }
        }
      ]
    },
    {
      "cell_type": "code",
      "metadata": {
        "colab": {
          "base_uri": "https://localhost:8080/"
        },
        "id": "0GDaI7vJz9f6",
        "outputId": "559c5899-7c53-4258-c14e-110c9d9d76b7"
      },
      "source": [
        "n_clusters = 20\n",
        "\n",
        "km = KMeans(n_clusters=n_clusters)\n",
        "\n",
        "km.fit(reduced_data)\n",
        "centers = km.cluster_centers_.argsort()[:,::-1]\n",
        "\n",
        "print(\"Len of Labels: \",\n",
        "       len(set(km.labels_)), \n",
        "       \" Params: \", \n",
        "       km.get_params())"
      ],
      "execution_count": 287,
      "outputs": [
        {
          "output_type": "stream",
          "text": [
            "Len of Labels:  20  Params:  {'algorithm': 'auto', 'copy_x': True, 'init': 'k-means++', 'max_iter': 300, 'n_clusters': 20, 'n_init': 10, 'n_jobs': None, 'precompute_distances': 'auto', 'random_state': None, 'tol': 0.0001, 'verbose': 0}\n"
          ],
          "name": "stdout"
        }
      ]
    },
    {
      "cell_type": "code",
      "metadata": {
        "id": "qeHNH4tZ2iQn"
      },
      "source": [
        "clusters = {}\n",
        "\n",
        "for i, word in enumerate(titles_stemmed_rare_words):\n",
        "    if km.predict(reduced_data[i].reshape(-1, 1).T)[0] in clusters.keys():\n",
        "      clusters[km.predict(reduced_data[i].reshape(-1, 1).T)[0]].append(word)\n",
        "    else:\n",
        "      clusters[km.predict(reduced_data[i].reshape(-1, 1).T)[0]] = [word]\n",
        "\n",
        "# clusters"
      ],
      "execution_count": 288,
      "outputs": []
    },
    {
      "cell_type": "code",
      "metadata": {
        "colab": {
          "base_uri": "https://localhost:8080/",
          "height": 283
        },
        "id": "_qrlKnoO2kd7",
        "outputId": "9a3271ce-51a1-47ef-b4f6-fdcaffab2d0a"
      },
      "source": [
        "plt.bar(list(clusters.keys()), [len(value) for value in clusters.values()])"
      ],
      "execution_count": 289,
      "outputs": [
        {
          "output_type": "execute_result",
          "data": {
            "text/plain": [
              "<BarContainer object of 20 artists>"
            ]
          },
          "metadata": {
            "tags": []
          },
          "execution_count": 289
        },
        {
          "output_type": "display_data",
          "data": {
            "image/png": "[encoded data removed]",
            "text/plain": [
              "<Figure size 432x288 with 1 Axes>"
            ]
          },
          "metadata": {
            "tags": [],
            "needs_background": "light"
          }
        }
      ]
    },
    {
      "cell_type": "markdown",
      "metadata": {
        "id": "7gt0aIFg24Br"
      },
      "source": [
        "## Combinition of dimensionality reduction and normalization on word embedding results"
      ]
    },
    {
      "cell_type": "code",
      "metadata": {
        "colab": {
          "base_uri": "https://localhost:8080/"
        },
        "id": "nHLerSIy23ju",
        "outputId": "171e489e-1fbb-4f05-e43a-9b1b40c1878d"
      },
      "source": [
        "titles_rare_vectors_norm = normalize(titles_rare_vectors, axis=1)\n",
        "\n",
        "pca = PCA(n_components=0.60, svd_solver='full')\n",
        "reduced_data_norm = pca.fit_transform(titles_rare_vectors_norm)\n",
        "\n",
        "reduced_data_norm.shape"
      ],
      "execution_count": 290,
      "outputs": [
        {
          "output_type": "execute_result",
          "data": {
            "text/plain": [
              "(120, 33)"
            ]
          },
          "metadata": {
            "tags": []
          },
          "execution_count": 290
        }
      ]
    },
    {
      "cell_type": "code",
      "metadata": {
        "colab": {
          "base_uri": "https://localhost:8080/",
          "height": 295
        },
        "id": "mMR4cMKP3N66",
        "outputId": "98f2048a-094e-4074-f379-e8f1f1e0cc39"
      },
      "source": [
        "SSE = []\n",
        "\n",
        "for k in range(1, 60):\n",
        "    kmeans = KMeans(n_clusters = k)\n",
        "    kmeans.fit(reduced_data_norm)\n",
        "    SSE.append(kmeans.inertia_)\n",
        "    \n",
        "plt.plot(range(1, 60), SSE, 'bx-')\n",
        "plt.title('Elbow Method')\n",
        "plt.xlabel('cluster numbers')\n",
        "plt.show()"
      ],
      "execution_count": 291,
      "outputs": [
        {
          "output_type": "display_data",
          "data": {
            "image/png": "[encoded data removed]",
            "text/plain": [
              "<Figure size 432x288 with 1 Axes>"
            ]
          },
          "metadata": {
            "tags": [],
            "needs_background": "light"
          }
        }
      ]
    },
    {
      "cell_type": "code",
      "metadata": {
        "colab": {
          "base_uri": "https://localhost:8080/"
        },
        "id": "P1naR-w63T80",
        "outputId": "b856f3e9-d055-4579-a063-9c134d3d25ae"
      },
      "source": [
        "n_clusters = 20\n",
        "\n",
        "km = KMeans(n_clusters=n_clusters)\n",
        "\n",
        "km.fit(reduced_data_norm)\n",
        "centers = km.cluster_centers_.argsort()[:,::-1]\n",
        "\n",
        "print(\"Len of Labels: \",\n",
        "       len(set(km.labels_)), \n",
        "       \" Params: \", \n",
        "       km.get_params())"
      ],
      "execution_count": 296,
      "outputs": [
        {
          "output_type": "stream",
          "text": [
            "Len of Labels:  20  Params:  {'algorithm': 'auto', 'copy_x': True, 'init': 'k-means++', 'max_iter': 300, 'n_clusters': 20, 'n_init': 10, 'n_jobs': None, 'precompute_distances': 'auto', 'random_state': None, 'tol': 0.0001, 'verbose': 0}\n"
          ],
          "name": "stdout"
        }
      ]
    },
    {
      "cell_type": "code",
      "metadata": {
        "colab": {
          "base_uri": "https://localhost:8080/",
          "height": 283
        },
        "id": "4nKba83i3YY_",
        "outputId": "2603de74-166c-47f7-eac2-cf6d2520c6c3"
      },
      "source": [
        "clusters = {}\n",
        "\n",
        "for i, word in enumerate(titles_stemmed_rare_words):\n",
        "    if km.predict(reduced_data_norm[i].reshape(-1, 1).T)[0] in clusters.keys():\n",
        "      clusters[km.predict(reduced_data_norm[i].reshape(-1, 1).T)[0]].append(word)\n",
        "    else:\n",
        "      clusters[km.predict(reduced_data_norm[i].reshape(-1, 1).T)[0]] = [word]\n",
        "\n",
        "# clusters\n",
        "\n",
        "plt.bar(list(clusters.keys()), [len(value) for value in clusters.values()])"
      ],
      "execution_count": 297,
      "outputs": [
        {
          "output_type": "execute_result",
          "data": {
            "text/plain": [
              "<BarContainer object of 20 artists>"
            ]
          },
          "metadata": {
            "tags": []
          },
          "execution_count": 297
        },
        {
          "output_type": "display_data",
          "data": {
            "image/png": "[encoded data removed]",
            "text/plain": [
              "<Figure size 432x288 with 1 Axes>"
            ]
          },
          "metadata": {
            "tags": [],
            "needs_background": "light"
          }
        }
      ]
    },
    {
      "cell_type": "markdown",
      "metadata": {
        "id": "iUsF4Z43KI03"
      },
      "source": [
        "## Hierarchical Clustering on Word2Vec model trained on titles list"
      ]
    },
    {
      "cell_type": "code",
      "metadata": {
        "id": "qi11p5w1GsYE"
      },
      "source": [
        "titles_rare_vectors = [titles_trained_model.wv[word] for word in titles_stemmed_rare_words]\n",
        "titles_rare_vectors = np.array(titles_rare_vectors)"
      ],
      "execution_count": 222,
      "outputs": []
    },
    {
      "cell_type": "code",
      "metadata": {
        "id": "7ELTB-qvGCJ4"
      },
      "source": [
        "model = AgglomerativeClustering(n_clusters=30)\n",
        "model = model.fit(titles_rare_vectors)"
      ],
      "execution_count": 214,
      "outputs": []
    },
    {
      "cell_type": "code",
      "metadata": {
        "colab": {
          "base_uri": "https://localhost:8080/"
        },
        "id": "-u2_HIkDG7m7",
        "outputId": "a50f2aca-cd34-4e49-86a8-fd48f772d43a"
      },
      "source": [
        "clusters = {}\n",
        "\n",
        "for i, label in enumerate(model.labels_):\n",
        "    if label in clusters.keys():\n",
        "      clusters[label].append(titles_stemmed_rare_words[i])\n",
        "    else:\n",
        "      clusters[label] = [titles_stemmed_rare_words[i]]\n",
        "\n",
        "clusters"
      ],
      "execution_count": 215,
      "outputs": [
        {
          "output_type": "execute_result",
          "data": {
            "text/plain": [
              "{0: ['je',\n",
              "  'ipv',\n",
              "  'hpv',\n",
              "  'td',\n",
              "  'anthrax',\n",
              "  'hepat',\n",
              "  'tdap',\n",
              "  'hib',\n",
              "  'meningococc',\n",
              "  'group',\n",
              "  'rabi',\n",
              "  'polio',\n",
              "  'typhoid'],\n",
              " 1: ['nasal', 'live', 'shingl', 'attenu', 'laiv', 'influenza', 'spray'],\n",
              " 2: ['import', 'relat', 'enceph', 'japanes', 'topic', 'warn'],\n",
              " 3: ['serious', 'moder', 'reaction', 'problem', 'sever'],\n",
              " 4: ['brand', 'brows', 'combin', 'generic', 'product', 'name'],\n",
              " 5: ['doctor',\n",
              "  'provid',\n",
              "  'treatment',\n",
              "  'card',\n",
              "  'talk',\n",
              "  'health',\n",
              "  'keep',\n",
              "  'care'],\n",
              " 6: ['prescrib', 'medic', 'whi'],\n",
              " 7: ['get', 'wait'],\n",
              " 8: ['risk', 'benefit'],\n",
              " 9: ['rotavirus',\n",
              "  'vaccin',\n",
              "  'drug',\n",
              "  'mmr',\n",
              "  'diseas',\n",
              "  'chickenpox',\n",
              "  'avail',\n",
              "  'notic'],\n",
              " 10: ['countermeasur', 'injuri', 'program', 'compens', 'nation'],\n",
              " 11: ['yellow', 'fever'],\n",
              " 12: ['medicin', 'use', 'us'],\n",
              " 13: ['emerg', 'suspect', 'case', 'fraud', 'overdos', 'report'],\n",
              " 14: ['covid', 'give', 'given'],\n",
              " 15: ['person', 'tell'],\n",
              " 16: ['inform', 'record'],\n",
              " 17: ['caus', 'effect', 'side'],\n",
              " 18: ['administr', 'fee', 'charg'],\n",
              " 19: ['storag', 'dispos', 'know'],\n",
              " 20: ['forget', 'dose'],\n",
              " 21: ['cholera', 'pcv', 'receiv'],\n",
              " 22: ['johnson', 'janssen'],\n",
              " 23: ['dtap', 'babi', 'peopl', 'child'],\n",
              " 24: ['supplement', 'herb'],\n",
              " 25: ['ppsv', 'polysaccharid', 'pneumococc'],\n",
              " 26: ['follow', 'precaut', 'instruct', 'special', 'dietari'],\n",
              " 27: ['inactiv', 'recombin'],\n",
              " 28: ['moderna', 'pfizer', 'biontech'],\n",
              " 29: ['prevent', 'learn']}"
            ]
          },
          "metadata": {
            "tags": []
          },
          "execution_count": 215
        }
      ]
    },
    {
      "cell_type": "code",
      "metadata": {
        "colab": {
          "base_uri": "https://localhost:8080/",
          "height": 283
        },
        "id": "NqG6gqCyHUVS",
        "outputId": "29751665-23a6-4599-a32d-aa3f04570a74"
      },
      "source": [
        "plt.bar(list(clusters.keys()), [len(value) for value in clusters.values()])"
      ],
      "execution_count": 216,
      "outputs": [
        {
          "output_type": "execute_result",
          "data": {
            "text/plain": [
              "<BarContainer object of 30 artists>"
            ]
          },
          "metadata": {
            "tags": []
          },
          "execution_count": 216
        },
        {
          "output_type": "display_data",
          "data": {
            "image/png": "[encoded data removed]",
            "text/plain": [
              "<Figure size 432x288 with 1 Axes>"
            ]
          },
          "metadata": {
            "tags": [],
            "needs_background": "light"
          }
        }
      ]
    },
    {
      "cell_type": "markdown",
      "metadata": {
        "id": "gT-FJGJ97ACs"
      },
      "source": [
        "## Hierarchical Clustering on Word2Vec model trained on titles list - Cosine Similarities"
      ]
    },
    {
      "cell_type": "code",
      "metadata": {
        "id": "7zFIQLfR7DNp"
      },
      "source": [
        "model = AgglomerativeClustering(n_clusters=30, affinity='cosine', linkage='average')\n",
        "model = model.fit(titles_rare_vectors)"
      ],
      "execution_count": 223,
      "outputs": []
    },
    {
      "cell_type": "code",
      "metadata": {
        "colab": {
          "base_uri": "https://localhost:8080/"
        },
        "id": "ilcp53lc7NZj",
        "outputId": "b9a001da-28d0-4912-8489-9cf701250f84"
      },
      "source": [
        "clusters = {}\n",
        "\n",
        "for i, label in enumerate(model.labels_):\n",
        "    if label in clusters.keys():\n",
        "      clusters[label].append(titles_stemmed_rare_words[i])\n",
        "    else:\n",
        "      clusters[label] = [titles_stemmed_rare_words[i]]\n",
        "\n",
        "clusters"
      ],
      "execution_count": 224,
      "outputs": [
        {
          "output_type": "execute_result",
          "data": {
            "text/plain": [
              "{0: ['rotavirus', 'ppsv', 'mmr', 'chickenpox', 'polysaccharid', 'pneumococc'],\n",
              " 1: ['import', 'relat', 'topic'],\n",
              " 2: ['dtap', 'get', 'babi', 'wait', 'peopl', 'child'],\n",
              " 3: ['administr', 'fee', 'cholera', 'pcv', 'charg', 'receiv'],\n",
              " 4: ['risk', 'avail', 'benefit'],\n",
              " 5: ['nasal',\n",
              "  'live',\n",
              "  'inactiv',\n",
              "  'shingl',\n",
              "  'attenu',\n",
              "  'laiv',\n",
              "  'influenza',\n",
              "  'recombin',\n",
              "  'spray'],\n",
              " 6: ['serious', 'moder', 'reaction', 'problem', 'sever'],\n",
              " 7: ['emerg', 'suspect', 'case', 'fraud', 'overdos', 'report'],\n",
              " 8: ['caus', 'effect', 'side', 'medic'],\n",
              " 9: ['je',\n",
              "  'ipv',\n",
              "  'hpv',\n",
              "  'td',\n",
              "  'anthrax',\n",
              "  'hepat',\n",
              "  'tdap',\n",
              "  'hib',\n",
              "  'meningococc',\n",
              "  'group',\n",
              "  'rabi',\n",
              "  'typhoid'],\n",
              " 10: ['covid',\n",
              "  'give',\n",
              "  'moderna',\n",
              "  'pfizer',\n",
              "  'johnson',\n",
              "  'biontech',\n",
              "  'janssen',\n",
              "  'given'],\n",
              " 11: ['prescrib', 'whi'],\n",
              " 12: ['medicin', 'use', 'us'],\n",
              " 13: ['storag', 'dispos', 'know'],\n",
              " 14: ['yellow', 'fever'],\n",
              " 15: ['vaccin'],\n",
              " 16: ['person', 'tell'],\n",
              " 17: ['inform', 'record'],\n",
              " 18: ['brand', 'brows', 'combin', 'generic', 'product', 'name'],\n",
              " 19: ['notic'],\n",
              " 20: ['doctor',\n",
              "  'provid',\n",
              "  'treatment',\n",
              "  'card',\n",
              "  'talk',\n",
              "  'health',\n",
              "  'keep',\n",
              "  'care'],\n",
              " 21: ['follow', 'precaut', 'instruct', 'special', 'dietari'],\n",
              " 22: ['forget', 'dose'],\n",
              " 23: ['drug'],\n",
              " 24: ['prevent', 'learn'],\n",
              " 25: ['supplement', 'herb', 'polio'],\n",
              " 26: ['diseas'],\n",
              " 27: ['enceph', 'japanes'],\n",
              " 28: ['countermeasur', 'injuri', 'program', 'compens', 'nation'],\n",
              " 29: ['warn']}"
            ]
          },
          "metadata": {
            "tags": []
          },
          "execution_count": 224
        }
      ]
    },
    {
      "cell_type": "code",
      "metadata": {
        "colab": {
          "base_uri": "https://localhost:8080/",
          "height": 283
        },
        "id": "1MClvPoZ7R4f",
        "outputId": "126656d7-c989-4fc3-cadb-971668f036a8"
      },
      "source": [
        "plt.bar(list(clusters.keys()), [len(value) for value in clusters.values()])"
      ],
      "execution_count": 225,
      "outputs": [
        {
          "output_type": "execute_result",
          "data": {
            "text/plain": [
              "<BarContainer object of 30 artists>"
            ]
          },
          "metadata": {
            "tags": []
          },
          "execution_count": 225
        },
        {
          "output_type": "display_data",
          "data": {
            "image/png": "[encoded data removed]",
            "text/plain": [
              "<Figure size 432x288 with 1 Axes>"
            ]
          },
          "metadata": {
            "tags": [],
            "needs_background": "light"
          }
        }
      ]
    },
    {
      "cell_type": "markdown",
      "metadata": {
        "id": "U51g6A5C4ZQY"
      },
      "source": [
        "## Hierarchical Clustering on Word2Vec model trained on all documents"
      ]
    },
    {
      "cell_type": "code",
      "metadata": {
        "id": "bmFPkyAG5IyS"
      },
      "source": [
        "titles_rare_vectors = [documents_trained_model.wv[word] for word in titles_stemmed_rare_words]\n",
        "titles_rare_vectors = np.array(titles_rare_vectors)"
      ],
      "execution_count": 204,
      "outputs": []
    },
    {
      "cell_type": "code",
      "metadata": {
        "id": "TU1tL_K85hbF"
      },
      "source": [
        "model = AgglomerativeClustering(n_clusters=30)\n",
        "model = model.fit(titles_rare_vectors)"
      ],
      "execution_count": 206,
      "outputs": []
    },
    {
      "cell_type": "code",
      "metadata": {
        "colab": {
          "base_uri": "https://localhost:8080/"
        },
        "id": "d5-f9PdK5jxk",
        "outputId": "d2ebd2c7-0d19-4311-a964-484a181c03a8"
      },
      "source": [
        "clusters = {}\n",
        "\n",
        "for i, label in enumerate(model.labels_):\n",
        "    if label in clusters.keys():\n",
        "      clusters[label].append(titles_stemmed_rare_words[i])\n",
        "    else:\n",
        "      clusters[label] = [titles_stemmed_rare_words[i]]\n",
        "\n",
        "clusters"
      ],
      "execution_count": 207,
      "outputs": [
        {
          "output_type": "execute_result",
          "data": {
            "text/plain": [
              "{0: ['nasal',\n",
              "  'live',\n",
              "  'brand',\n",
              "  'treatment',\n",
              "  'countermeasur',\n",
              "  'brows',\n",
              "  'attenu',\n",
              "  'herb',\n",
              "  'combin',\n",
              "  'fraud',\n",
              "  'japanes',\n",
              "  'record',\n",
              "  'fee',\n",
              "  'generic',\n",
              "  'recombin',\n",
              "  'spray',\n",
              "  'compens',\n",
              "  'name',\n",
              "  'group',\n",
              "  'dose',\n",
              "  'charg',\n",
              "  'nation',\n",
              "  'topic',\n",
              "  'use',\n",
              "  'polysaccharid'],\n",
              " 1: ['rotavirus', 'td', 'tdap', 'mmr', 'hib', 'chickenpox', 'pneumococc'],\n",
              " 2: ['give', 'yellow', 'get', 'dispos', 'keep', 'notic', 'receiv', 'given'],\n",
              " 3: ['import', 'card'],\n",
              " 4: ['wait', 'forget', 'moder'],\n",
              " 5: ['enceph', 'injuri', 'reaction'],\n",
              " 6: ['doctor',\n",
              "  'drug',\n",
              "  'provid',\n",
              "  'supplement',\n",
              "  'follow',\n",
              "  'product',\n",
              "  'benefit',\n",
              "  'medic'],\n",
              " 7: ['covid',\n",
              "  'je',\n",
              "  'hpv',\n",
              "  'anthrax',\n",
              "  'shingl',\n",
              "  'ppsv',\n",
              "  'hepat',\n",
              "  'cholera',\n",
              "  'influenza',\n",
              "  'meningococc',\n",
              "  'rabi',\n",
              "  'polio',\n",
              "  'typhoid'],\n",
              " 8: ['relat', 'care', 'report'],\n",
              " 9: ['us'],\n",
              " 10: ['caus', 'prevent', 'prescrib'],\n",
              " 11: ['effect', 'side', 'dietari'],\n",
              " 12: ['serious', 'suspect'],\n",
              " 13: ['case', 'peopl', 'avail'],\n",
              " 14: ['whi'],\n",
              " 15: ['ipv', 'inactiv', 'dtap', 'laiv', 'pcv'],\n",
              " 16: ['tell', 'talk'],\n",
              " 17: ['inform', 'instruct'],\n",
              " 18: ['moderna', 'pfizer', 'johnson', 'biontech', 'janssen'],\n",
              " 19: ['emerg'],\n",
              " 20: ['risk'],\n",
              " 21: ['learn'],\n",
              " 22: ['medicin'],\n",
              " 23: ['storag'],\n",
              " 24: ['know'],\n",
              " 25: ['overdos'],\n",
              " 26: ['diseas', 'problem', 'fever', 'sever'],\n",
              " 27: ['precaut', 'special', 'warn'],\n",
              " 28: ['vaccin', 'person', 'babi', 'health', 'program', 'child'],\n",
              " 29: ['administr']}"
            ]
          },
          "metadata": {
            "tags": []
          },
          "execution_count": 207
        }
      ]
    },
    {
      "cell_type": "code",
      "metadata": {
        "colab": {
          "base_uri": "https://localhost:8080/",
          "height": 283
        },
        "id": "Fg7LC5rl5nGb",
        "outputId": "6227fcae-f7e9-481c-f74e-28ead81f0fbf"
      },
      "source": [
        "plt.bar(list(clusters.keys()), [len(value) for value in clusters.values()])"
      ],
      "execution_count": 208,
      "outputs": [
        {
          "output_type": "execute_result",
          "data": {
            "text/plain": [
              "<BarContainer object of 30 artists>"
            ]
          },
          "metadata": {
            "tags": []
          },
          "execution_count": 208
        },
        {
          "output_type": "display_data",
          "data": {
            "image/png": "[encoded data removed]",
            "text/plain": [
              "<Figure size 432x288 with 1 Axes>"
            ]
          },
          "metadata": {
            "tags": [],
            "needs_background": "light"
          }
        }
      ]
    },
    {
      "cell_type": "markdown",
      "metadata": {
        "id": "zQYIK1Q657El"
      },
      "source": [
        "## Hierarchical Clustering on Word2Vec model trained on all documents - Cosine Similarities"
      ]
    },
    {
      "cell_type": "code",
      "metadata": {
        "id": "Zs_LNMDK52DF"
      },
      "source": [
        "model = AgglomerativeClustering(n_clusters=30, affinity='cosine', linkage='average')\n",
        "model = model.fit(titles_rare_vectors)"
      ],
      "execution_count": 219,
      "outputs": []
    },
    {
      "cell_type": "code",
      "metadata": {
        "colab": {
          "base_uri": "https://localhost:8080/"
        },
        "id": "ZE0NNPlI6mpi",
        "outputId": "3b8fed27-6bb0-4ac9-c94c-f974725fa554"
      },
      "source": [
        "clusters = {}\n",
        "\n",
        "for i, label in enumerate(model.labels_):\n",
        "    if label in clusters.keys():\n",
        "      clusters[label].append(titles_stemmed_rare_words[i])\n",
        "    else:\n",
        "      clusters[label] = [titles_stemmed_rare_words[i]]\n",
        "\n",
        "clusters"
      ],
      "execution_count": 220,
      "outputs": [
        {
          "output_type": "execute_result",
          "data": {
            "text/plain": [
              "{0: ['rotavirus', 'ppsv', 'mmr', 'chickenpox', 'polysaccharid', 'pneumococc'],\n",
              " 1: ['import', 'relat', 'topic'],\n",
              " 2: ['dtap', 'get', 'babi', 'wait', 'peopl', 'child'],\n",
              " 3: ['administr', 'fee', 'cholera', 'pcv', 'charg', 'receiv'],\n",
              " 4: ['risk', 'avail', 'benefit'],\n",
              " 5: ['nasal',\n",
              "  'live',\n",
              "  'inactiv',\n",
              "  'shingl',\n",
              "  'attenu',\n",
              "  'laiv',\n",
              "  'influenza',\n",
              "  'recombin',\n",
              "  'spray'],\n",
              " 6: ['serious', 'moder', 'reaction', 'problem', 'sever'],\n",
              " 7: ['emerg', 'suspect', 'case', 'fraud', 'overdos', 'report'],\n",
              " 8: ['caus', 'effect', 'side', 'medic'],\n",
              " 9: ['je',\n",
              "  'ipv',\n",
              "  'hpv',\n",
              "  'td',\n",
              "  'anthrax',\n",
              "  'hepat',\n",
              "  'tdap',\n",
              "  'hib',\n",
              "  'meningococc',\n",
              "  'group',\n",
              "  'rabi',\n",
              "  'typhoid'],\n",
              " 10: ['covid',\n",
              "  'give',\n",
              "  'moderna',\n",
              "  'pfizer',\n",
              "  'johnson',\n",
              "  'biontech',\n",
              "  'janssen',\n",
              "  'given'],\n",
              " 11: ['prescrib', 'whi'],\n",
              " 12: ['medicin', 'use', 'us'],\n",
              " 13: ['storag', 'dispos', 'know'],\n",
              " 14: ['yellow', 'fever'],\n",
              " 15: ['vaccin'],\n",
              " 16: ['person', 'tell'],\n",
              " 17: ['inform', 'record'],\n",
              " 18: ['brand', 'brows', 'combin', 'generic', 'product', 'name'],\n",
              " 19: ['notic'],\n",
              " 20: ['doctor',\n",
              "  'provid',\n",
              "  'treatment',\n",
              "  'card',\n",
              "  'talk',\n",
              "  'health',\n",
              "  'keep',\n",
              "  'care'],\n",
              " 21: ['follow', 'precaut', 'instruct', 'special', 'dietari'],\n",
              " 22: ['forget', 'dose'],\n",
              " 23: ['drug'],\n",
              " 24: ['prevent', 'learn'],\n",
              " 25: ['supplement', 'herb', 'polio'],\n",
              " 26: ['diseas'],\n",
              " 27: ['enceph', 'japanes'],\n",
              " 28: ['countermeasur', 'injuri', 'program', 'compens', 'nation'],\n",
              " 29: ['warn']}"
            ]
          },
          "metadata": {
            "tags": []
          },
          "execution_count": 220
        }
      ]
    },
    {
      "cell_type": "code",
      "metadata": {
        "colab": {
          "base_uri": "https://localhost:8080/",
          "height": 283
        },
        "id": "T5mqh8006q38",
        "outputId": "baa784d3-deb1-46b0-fb97-841163b074af"
      },
      "source": [
        "plt.bar(list(clusters.keys()), [len(value) for value in clusters.values()])"
      ],
      "execution_count": 221,
      "outputs": [
        {
          "output_type": "execute_result",
          "data": {
            "text/plain": [
              "<BarContainer object of 30 artists>"
            ]
          },
          "metadata": {
            "tags": []
          },
          "execution_count": 221
        },
        {
          "output_type": "display_data",
          "data": {
            "image/png": "[encoded data removed]",
            "text/plain": [
              "<Figure size 432x288 with 1 Axes>"
            ]
          },
          "metadata": {
            "tags": [],
            "needs_background": "light"
          }
        }
      ]
    },
    {
      "cell_type": "markdown",
      "metadata": {
        "id": "xLPPdHaZJ5FM"
      },
      "source": [
        "# Questions Clustering"
      ]
    },
    {
      "cell_type": "markdown",
      "metadata": {
        "id": "7ZGCHhGKpd6q"
      },
      "source": [
        "## Randomly choose 30 samples of a data"
      ]
    },
    {
      "cell_type": "code",
      "metadata": {
        "id": "lP_XbnYypd6r"
      },
      "source": [
        "model = SentenceTransformer('paraphrase-mpnet-base-v2')"
      ],
      "execution_count": 327,
      "outputs": []
    },
    {
      "cell_type": "code",
      "metadata": {
        "id": "M-BdvYaHpd6s"
      },
      "source": [
        "sentence_embeddings = model.encode(titles_sentences)"
      ],
      "execution_count": 328,
      "outputs": []
    },
    {
      "cell_type": "code",
      "metadata": {
        "id": "2cG8-Ioopd6s",
        "colab": {
          "base_uri": "https://localhost:8080/"
        },
        "outputId": "2bfd37d3-2beb-4b21-9c2e-f7cb8f858f52"
      },
      "source": [
        "# sentence_embeddings[0]\n",
        "sentence_embeddings.shape"
      ],
      "execution_count": 329,
      "outputs": [
        {
          "output_type": "execute_result",
          "data": {
            "text/plain": [
              "(136, 768)"
            ]
          },
          "metadata": {
            "tags": []
          },
          "execution_count": 329
        }
      ]
    },
    {
      "cell_type": "markdown",
      "metadata": {
        "id": "bPtQVRxlpd6s"
      },
      "source": [
        "## Without dimensionality reduction"
      ]
    },
    {
      "cell_type": "code",
      "metadata": {
        "id": "pRrJOvuPpd6t",
        "colab": {
          "base_uri": "https://localhost:8080/",
          "height": 295
        },
        "outputId": "85879a15-608d-4c07-cfe5-4090bd47a7aa"
      },
      "source": [
        "SSE = []\n",
        "\n",
        "for k in range(1, 60):\n",
        "    kmeans = KMeans(n_clusters = k)\n",
        "    kmeans.fit(sentence_embeddings)\n",
        "    SSE.append(kmeans.inertia_)\n",
        "    \n",
        "plt.plot(range(1, 60), SSE, 'bx-')\n",
        "plt.title('Elbow Method')\n",
        "plt.xlabel('cluster numbers')\n",
        "plt.show()"
      ],
      "execution_count": 330,
      "outputs": [
        {
          "output_type": "display_data",
          "data": {
            "image/png": "[encoded data removed]",
            "text/plain": [
              "<Figure size 432x288 with 1 Axes>"
            ]
          },
          "metadata": {
            "tags": [],
            "needs_background": "light"
          }
        }
      ]
    },
    {
      "cell_type": "code",
      "metadata": {
        "id": "RBSuHP5Gpd6u",
        "colab": {
          "base_uri": "https://localhost:8080/"
        },
        "outputId": "205f67c8-b9ef-4e0a-d991-3f820cb51c76"
      },
      "source": [
        "# Hyperparameter 1\n",
        "n_clusters = 7\n",
        "\n",
        "km = KMeans(n_clusters=n_clusters)\n",
        "\n",
        "km.fit(sentence_embeddings)\n",
        "centers = km.cluster_centers_.argsort()[:,::-1]\n",
        "\n",
        "print(\"Len of Labels: \",\n",
        "       len(set(km.labels_)), \n",
        "       \" Params: \", \n",
        "       km.get_params())"
      ],
      "execution_count": 331,
      "outputs": [
        {
          "output_type": "stream",
          "text": [
            "Len of Labels:  7  Params:  {'algorithm': 'auto', 'copy_x': True, 'init': 'k-means++', 'max_iter': 300, 'n_clusters': 7, 'n_init': 10, 'n_jobs': None, 'precompute_distances': 'auto', 'random_state': None, 'tol': 0.0001, 'verbose': 0}\n"
          ],
          "name": "stdout"
        }
      ]
    },
    {
      "cell_type": "code",
      "metadata": {
        "colab": {
          "base_uri": "https://localhost:8080/"
        },
        "id": "GA0nPns4CTkj",
        "outputId": "df3e0e31-de42-45c5-b429-c010ac502134"
      },
      "source": [
        "clusters = {}\n",
        "\n",
        "for i, titles_sentence in enumerate(titles_sentences):\n",
        "    if km.predict(sentence_embeddings[i].reshape(-1, 1).T)[0] in clusters.keys():\n",
        "      clusters[km.predict(sentence_embeddings[i].reshape(-1, 1).T)[0]].append(titles_sentence)\n",
        "    else:\n",
        "      clusters[km.predict(sentence_embeddings[i].reshape(-1, 1).T)[0]] = [titles_sentence]\n",
        "\n",
        "clusters"
      ],
      "execution_count": 350,
      "outputs": [
        {
          "output_type": "execute_result",
          "data": {
            "text/plain": [
              "{0: ['special instructions',\n",
              "  'related topics',\n",
              "  'notice:',\n",
              "  'important warning: ',\n",
              "  'what special precautions should i follow?',\n",
              "  'how can i learn more?',\n",
              "  'what other information should i know?',\n",
              "  'what special dietary instructions should i follow?',\n",
              "  'precautions'],\n",
              " 1: ['what is live, attenuated influenza vaccine-laiv (nasal spray)?',\n",
              "  'what are the risks of the janssen (johnson and johnson) vaccine?',\n",
              "  'what is meningococcal vaccine?',\n",
              "  'what are the risks of a vaccine reaction?',\n",
              "  'what are the risks from typhoid vaccine?',\n",
              "  'what is td vaccine?',\n",
              "  'risks of a vaccine reaction',\n",
              "  'what are the benefits of the janssen (johnson and johnson) vaccine?',\n",
              "  'what are the risks from hepatitis b vaccine?',\n",
              "  'dtap vaccine',\n",
              "  'what are the risks from anthrax vaccine?',\n",
              "  'what typhoid vaccines are available?',\n",
              "  'chickenpox vaccine',\n",
              "  'mmr vaccine',\n",
              "  'what is tdap vaccine?',\n",
              "  'rabies vaccine',\n",
              "  'what are meningococcal group b vaccines?',\n",
              "  'keep your vaccination card',\n",
              "  'cholera vaccine',\n",
              "  'what are the risks from meningococcal group b vaccines?',\n",
              "  'shingles vaccine (recombinant)',\n",
              "  'rotavirus vaccine',\n",
              "  'what are the risks from hepatitis a vaccine?',\n",
              "  'what are the risks from rabies vaccine?',\n",
              "  'where will my vaccination information be recorded?',\n",
              "  'what are the risks from je vaccine?',\n",
              "  'what are the risks from yellow fever vaccine?',\n",
              "  'shingles vaccine (live):',\n",
              "  'what are the risks from this vaccine?',\n",
              "  'what are the risks from inactivated or recombinant influenza vaccine?',\n",
              "  'what are the risks from meningococcal vaccines?',\n",
              "  'what is inactivated or recombinant influenza vaccine?',\n",
              "  'pneumococcal polysaccharide vaccine (ppsv23)',\n",
              "  'what is hib vaccine?'],\n",
              " 2: ['who should not receive the pcv13 vaccine?',\n",
              "  'who should not get ipv or should wait?',\n",
              "  'who should not get or should wait to get laiv?',\n",
              "  ' who should receive the hepatitis b vaccine and when?',\n",
              "  'pcv13 vaccine',\n",
              "  'what are the risks from ipv?',\n",
              "  'who should not receive the hepatitis b vaccine?',\n",
              "  'why get vaccinated against hepatitis b?',\n",
              "  'who should not get hpv vaccine or should wait?',\n",
              "  'what is hpv?',\n",
              "  'what is hpv vaccine?',\n",
              "  'who should get this hpv vaccine and when?',\n",
              "  'hpv vaccine—why get vaccinated?',\n",
              "  'why get vaccinated against hepatitis a?',\n",
              "  'some people should not get hpv vaccine or should wait',\n",
              "  'who should get hepatitis a vaccine and when?'],\n",
              " 3: ['side effects',\n",
              "  'talk with your health care provider',\n",
              "  'what should i do about side effects?',\n",
              "  'what if there is a serious problem?',\n",
              "  'what if there is a moderate or severe problem?',\n",
              "  'what should i do in case of overdose?',\n",
              "  'what if there is a serious reaction?',\n",
              "  'about your treatment',\n",
              "  'what are the risks from laiv?',\n",
              "  'in case of emergency/overdose',\n",
              "  'what if there is a moderate or severe reaction?',\n",
              "  'tell your doctor if ...',\n",
              "  'what if there is a severe reaction?'],\n",
              " 4: ['why is this medication prescribed?',\n",
              "  'drug',\n",
              "  'how should this medicine be used?',\n",
              "  'what side effects can this medication cause?',\n",
              "  'why is this medicine prescribed?',\n",
              "  'herbs and supplements',\n",
              "  'what should i do if i forget a dose?',\n",
              "  'other uses for this medicine',\n",
              "  'what side effects can this medicine cause?',\n",
              "  'what should i know about storage and disposal of this medication?'],\n",
              " 5: ['who should get anthrax vaccine and when?',\n",
              "  'who should not get meningococcal vaccine or should wait?',\n",
              "  'some people should not get this vaccine',\n",
              "  'who should get yellow fever vaccine?',\n",
              "  'who should not get hepatitis a vaccine or should wait?',\n",
              "  'who should not get typhoid vaccine or should wait?',\n",
              "  'who should not get meningococcal group b vaccine or should wait?',\n",
              "  'who should not get je vaccine or should wait?',\n",
              "  'some children should not get dtap vaccine or should wait',\n",
              "  'who should not get tdap vaccine or should wait?',\n",
              "  'who should not get or should wait to get the influenza vaccine?',\n",
              "  'why get vaccinated?',\n",
              "  'who should get typhoid vaccine and when?',\n",
              "  'who should not get yellow fever vaccine?',\n",
              "  'who should not get hib vaccine or should wait?',\n",
              "  'who should get je vaccine and when?',\n",
              "  'who should not get td vaccine or should wait?',\n",
              "  'who should get rabies vaccine and when?',\n",
              "  'how can i prevent yellow fever?',\n",
              "  'who should not get anthrax vaccine or should wait?',\n",
              "  'who should not receive the cholera vaccine?',\n",
              "  'what should you tell the person who is giving the vaccine?',\n",
              "  'some babies should not get this vaccine',\n",
              "  'who should get meningococcal vaccine and when?',\n",
              "  'who should get polio vaccine and when?'],\n",
              " 6: ['where can i report cases of suspected fraud?',\n",
              "  'the national vaccine injury compensation program',\n",
              "  'what is the countermeasures injury compensation program',\n",
              "  'what is the countermeasures injury compensation program?',\n",
              "  'injury compensation'],\n",
              " 7: ['will the moderna covid-19 vaccine give me covid-19?',\n",
              "  'what are the risks of the moderna covid-19 vaccine?',\n",
              "  'what are the benefits of the pfizer-biontech covid-19 vaccine?',\n",
              "  'can i be charged an administration fee for receiving the covid-19 vaccine?',\n",
              "  'how is the moderna covid-19 vaccine given?',\n",
              "  'how is the pfizer-biontech covid-19 vaccine given?',\n",
              "  'what are the risks of the pfizer-biontech covid-19 vaccine?',\n",
              "  'will the janssen (johnson and johnson) vaccine give me covid-19?',\n",
              "  'what is covid-19?',\n",
              "  'will the pfizer-biontech covid-19 vaccine give me covid-19?',\n",
              "  'what are the benefits of the moderna covid-19 vaccine?',\n",
              "  'how is the janssen (johnson and johnson) covid-19 vaccine given?'],\n",
              " 8: ['other names',\n",
              "  'browse by generic or brand name:',\n",
              "  'brand names of combination products',\n",
              "  'brand names',\n",
              "  'combination product'],\n",
              " 9: ['what is anthrax?',\n",
              "  'what is meningococcal disease?',\n",
              "  'what is anthrax vaccine?',\n",
              "  'what is rabies?',\n",
              "  'what is japanese encephalitis?',\n",
              "  'what is yellow fever?',\n",
              "  'what is typhoid?']}"
            ]
          },
          "metadata": {
            "tags": []
          },
          "execution_count": 350
        }
      ]
    },
    {
      "cell_type": "code",
      "metadata": {
        "colab": {
          "base_uri": "https://localhost:8080/",
          "height": 283
        },
        "id": "_54U_PeYCU4N",
        "outputId": "0b319036-bff6-4ec8-f27c-56e873c2bb83"
      },
      "source": [
        "plt.bar(list(clusters.keys()), [len(value) for value in clusters.values()])"
      ],
      "execution_count": 351,
      "outputs": [
        {
          "output_type": "execute_result",
          "data": {
            "text/plain": [
              "<BarContainer object of 10 artists>"
            ]
          },
          "metadata": {
            "tags": []
          },
          "execution_count": 351
        },
        {
          "output_type": "display_data",
          "data": {
            "image/png": "[encoded data removed]",
            "text/plain": [
              "<Figure size 432x288 with 1 Axes>"
            ]
          },
          "metadata": {
            "tags": [],
            "needs_background": "light"
          }
        }
      ]
    },
    {
      "cell_type": "markdown",
      "metadata": {
        "id": "Oc-pw8bNpd6v"
      },
      "source": [
        "## Using combinition of dimensionality reduction and clustering\n",
        "\n",
        "### Credit:\n",
        "    - https://stats.stackexchange.com/a/256173/276359\n",
        "    - https://stats.stackexchange.com/a/99191/276359"
      ]
    },
    {
      "cell_type": "markdown",
      "metadata": {
        "id": "LZjt5cvjpd6v"
      },
      "source": [
        "## With PCA"
      ]
    },
    {
      "cell_type": "code",
      "metadata": {
        "id": "UJMF7Cbvpd6v",
        "colab": {
          "base_uri": "https://localhost:8080/"
        },
        "outputId": "90ec2ecf-ffa1-4421-d903-71cf787d12c9"
      },
      "source": [
        "pca = PCA(n_components=0.60, svd_solver='full')\n",
        "reduced_data = pca.fit_transform(sentence_embeddings)\n",
        "reduced_data.shape"
      ],
      "execution_count": 352,
      "outputs": [
        {
          "output_type": "execute_result",
          "data": {
            "text/plain": [
              "(136, 14)"
            ]
          },
          "metadata": {
            "tags": []
          },
          "execution_count": 352
        }
      ]
    },
    {
      "cell_type": "code",
      "metadata": {
        "colab": {
          "base_uri": "https://localhost:8080/",
          "height": 295
        },
        "id": "a74uYllTrjLL",
        "outputId": "7f3350eb-338a-4afd-d8b6-cbb7ac0547d6"
      },
      "source": [
        "SSE = []\n",
        "\n",
        "for k in range(1, 30):\n",
        "    kmeans = KMeans(n_clusters = k)\n",
        "    kmeans.fit(reduced_data)\n",
        "    SSE.append(kmeans.inertia_)\n",
        "    \n",
        "plt.plot(range(1, 30), SSE, 'bx-')\n",
        "plt.title('Elbow Method')\n",
        "plt.xlabel('cluster numbers')\n",
        "plt.show()"
      ],
      "execution_count": 353,
      "outputs": [
        {
          "output_type": "display_data",
          "data": {
            "image/png": "[encoded data removed]",
            "text/plain": [
              "<Figure size 432x288 with 1 Axes>"
            ]
          },
          "metadata": {
            "tags": [],
            "needs_background": "light"
          }
        }
      ]
    },
    {
      "cell_type": "code",
      "metadata": {
        "colab": {
          "base_uri": "https://localhost:8080/"
        },
        "id": "Fkj1DNvw-SQ2",
        "outputId": "363621c9-a611-4ee8-d940-c4f418e605a3"
      },
      "source": [
        "# Hyperparameter 2\n",
        "n_clusters = 10\n",
        "\n",
        "km = KMeans(n_clusters=n_clusters)\n",
        "\n",
        "km.fit(reduced_data)\n",
        "centers = km.cluster_centers_.argsort()[:,::-1]\n",
        "\n",
        "print(\"Len of Labels: \",\n",
        "       len(set(km.labels_)), \n",
        "       \" Params: \", \n",
        "       km.get_params())"
      ],
      "execution_count": 354,
      "outputs": [
        {
          "output_type": "stream",
          "text": [
            "Len of Labels:  10  Params:  {'algorithm': 'auto', 'copy_x': True, 'init': 'k-means++', 'max_iter': 300, 'n_clusters': 10, 'n_init': 10, 'n_jobs': None, 'precompute_distances': 'auto', 'random_state': None, 'tol': 0.0001, 'verbose': 0}\n"
          ],
          "name": "stdout"
        }
      ]
    },
    {
      "cell_type": "code",
      "metadata": {
        "id": "lIkt2gu3pd6y",
        "colab": {
          "base_uri": "https://localhost:8080/"
        },
        "outputId": "9433c538-800c-42ed-a823-f8df6d8c82d9"
      },
      "source": [
        "clusters = {}\n",
        "\n",
        "for i, titles_sentence in enumerate(titles_sentences):\n",
        "    if km.predict(reduced_data[i].reshape(-1, 1).T)[0] in clusters.keys():\n",
        "      clusters[km.predict(reduced_data[i].reshape(-1, 1).T)[0]].append(titles_sentence)\n",
        "    else:\n",
        "      clusters[km.predict(reduced_data[i].reshape(-1, 1).T)[0]] = [titles_sentence]\n",
        "\n",
        "clusters"
      ],
      "execution_count": 356,
      "outputs": [
        {
          "output_type": "execute_result",
          "data": {
            "text/plain": [
              "{0: ['what is live, attenuated influenza vaccine-laiv (nasal spray)?',\n",
              "  'what is anthrax?',\n",
              "  'pcv13 vaccine',\n",
              "  'what is td vaccine?',\n",
              "  'dtap vaccine',\n",
              "  'what typhoid vaccines are available?',\n",
              "  'chickenpox vaccine',\n",
              "  'mmr vaccine',\n",
              "  'what is tdap vaccine?',\n",
              "  'rabies vaccine',\n",
              "  'keep your vaccination card',\n",
              "  'cholera vaccine',\n",
              "  'what is hpv?',\n",
              "  'what is hpv vaccine?',\n",
              "  'shingles vaccine (recombinant)',\n",
              "  'what is anthrax vaccine?',\n",
              "  'rotavirus vaccine',\n",
              "  'what is rabies?',\n",
              "  'where will my vaccination information be recorded?',\n",
              "  'what is japanese encephalitis?',\n",
              "  'what is yellow fever?',\n",
              "  'shingles vaccine (live):',\n",
              "  'what is typhoid?',\n",
              "  'what is inactivated or recombinant influenza vaccine?',\n",
              "  'how can i prevent yellow fever?',\n",
              "  'pneumococcal polysaccharide vaccine (ppsv23)',\n",
              "  'what is hib vaccine?'],\n",
              " 1: ['other names',\n",
              "  'browse by generic or brand name:',\n",
              "  'brand names of combination products',\n",
              "  'brand names',\n",
              "  'related topics',\n",
              "  'combination product'],\n",
              " 2: ['what are the risks of the janssen (johnson and johnson) vaccine?',\n",
              "  'what are the risks of a vaccine reaction?',\n",
              "  'what are the risks from typhoid vaccine?',\n",
              "  'risks of a vaccine reaction',\n",
              "  'what are the benefits of the janssen (johnson and johnson) vaccine?',\n",
              "  'what are the risks from hepatitis b vaccine?',\n",
              "  'what are the risks from anthrax vaccine?',\n",
              "  'what are the risks from hepatitis a vaccine?',\n",
              "  'what are the risks from rabies vaccine?',\n",
              "  'what are the risks from je vaccine?',\n",
              "  'what are the risks from yellow fever vaccine?',\n",
              "  'what are the risks from this vaccine?',\n",
              "  'what are the risks from inactivated or recombinant influenza vaccine?'],\n",
              " 3: ['will the moderna covid-19 vaccine give me covid-19?',\n",
              "  'what are the risks of the moderna covid-19 vaccine?',\n",
              "  'what are the benefits of the pfizer-biontech covid-19 vaccine?',\n",
              "  'can i be charged an administration fee for receiving the covid-19 vaccine?',\n",
              "  'how is the moderna covid-19 vaccine given?',\n",
              "  'how is the pfizer-biontech covid-19 vaccine given?',\n",
              "  'what are the risks of the pfizer-biontech covid-19 vaccine?',\n",
              "  'will the janssen (johnson and johnson) vaccine give me covid-19?',\n",
              "  'what is covid-19?',\n",
              "  'will the pfizer-biontech covid-19 vaccine give me covid-19?',\n",
              "  'what are the benefits of the moderna covid-19 vaccine?',\n",
              "  'how is the janssen (johnson and johnson) covid-19 vaccine given?'],\n",
              " 4: ['why is this medication prescribed?',\n",
              "  'side effects',\n",
              "  'drug',\n",
              "  'what should i do about side effects?',\n",
              "  'how should this medicine be used?',\n",
              "  'what side effects can this medication cause?',\n",
              "  'why is this medicine prescribed?',\n",
              "  'herbs and supplements',\n",
              "  'what should i do if i forget a dose?',\n",
              "  'other uses for this medicine',\n",
              "  'what side effects can this medicine cause?',\n",
              "  'what should i know about storage and disposal of this medication?'],\n",
              " 5: ['talk with your health care provider',\n",
              "  'what if there is a serious problem?',\n",
              "  'what if there is a moderate or severe problem?',\n",
              "  'what should i do in case of overdose?',\n",
              "  'what if there is a serious reaction?',\n",
              "  'about your treatment',\n",
              "  'in case of emergency/overdose',\n",
              "  'what if there is a moderate or severe reaction?',\n",
              "  'tell your doctor if ...',\n",
              "  'what if there is a severe reaction?'],\n",
              " 6: ['who should not receive the pcv13 vaccine?',\n",
              "  'who should not get ipv or should wait?',\n",
              "  'who should not get or should wait to get laiv?',\n",
              "  'who should get anthrax vaccine and when?',\n",
              "  'who should not get meningococcal vaccine or should wait?',\n",
              "  ' who should receive the hepatitis b vaccine and when?',\n",
              "  'some people should not get this vaccine',\n",
              "  'who should get yellow fever vaccine?',\n",
              "  'who should not get hepatitis a vaccine or should wait?',\n",
              "  'who should not receive the hepatitis b vaccine?',\n",
              "  'who should not get typhoid vaccine or should wait?',\n",
              "  'who should not get je vaccine or should wait?',\n",
              "  'some children should not get dtap vaccine or should wait',\n",
              "  'who should not get tdap vaccine or should wait?',\n",
              "  'why get vaccinated against hepatitis b?',\n",
              "  'who should not get or should wait to get the influenza vaccine?',\n",
              "  'why get vaccinated?',\n",
              "  'who should get typhoid vaccine and when?',\n",
              "  'who should not get yellow fever vaccine?',\n",
              "  'who should not get hpv vaccine or should wait?',\n",
              "  'who should get this hpv vaccine and when?',\n",
              "  'hpv vaccine—why get vaccinated?',\n",
              "  'why get vaccinated against hepatitis a?',\n",
              "  'who should not get hib vaccine or should wait?',\n",
              "  'who should get je vaccine and when?',\n",
              "  'who should not get td vaccine or should wait?',\n",
              "  'some people should not get hpv vaccine or should wait',\n",
              "  'who should get rabies vaccine and when?',\n",
              "  'who should not get anthrax vaccine or should wait?',\n",
              "  'who should not receive the cholera vaccine?',\n",
              "  'what should you tell the person who is giving the vaccine?',\n",
              "  'who should get hepatitis a vaccine and when?',\n",
              "  'some babies should not get this vaccine',\n",
              "  'who should get polio vaccine and when?'],\n",
              " 7: ['what is meningococcal vaccine?',\n",
              "  'who should not get meningococcal group b vaccine or should wait?',\n",
              "  'what are meningococcal group b vaccines?',\n",
              "  'what is meningococcal disease?',\n",
              "  'what are the risks from meningococcal group b vaccines?',\n",
              "  'what are the risks from meningococcal vaccines?',\n",
              "  'who should get meningococcal vaccine and when?'],\n",
              " 8: ['the national vaccine injury compensation program',\n",
              "  'what is the countermeasures injury compensation program',\n",
              "  'what is the countermeasures injury compensation program?',\n",
              "  'injury compensation'],\n",
              " 9: ['special instructions',\n",
              "  'what are the risks from ipv?',\n",
              "  'where can i report cases of suspected fraud?',\n",
              "  'notice:',\n",
              "  'important warning: ',\n",
              "  'what special precautions should i follow?',\n",
              "  'how can i learn more?',\n",
              "  'what other information should i know?',\n",
              "  'what special dietary instructions should i follow?',\n",
              "  'precautions',\n",
              "  'what are the risks from laiv?']}"
            ]
          },
          "metadata": {
            "tags": []
          },
          "execution_count": 356
        }
      ]
    },
    {
      "cell_type": "code",
      "metadata": {
        "colab": {
          "base_uri": "https://localhost:8080/",
          "height": 283
        },
        "id": "GYpibqLfEUl1",
        "outputId": "f54787e3-12ff-438f-af84-f63b5de696a4"
      },
      "source": [
        "plt.bar(list(clusters.keys()), [len(value) for value in clusters.values()])"
      ],
      "execution_count": 357,
      "outputs": [
        {
          "output_type": "execute_result",
          "data": {
            "text/plain": [
              "<BarContainer object of 10 artists>"
            ]
          },
          "metadata": {
            "tags": []
          },
          "execution_count": 357
        },
        {
          "output_type": "display_data",
          "data": {
            "image/png": "[encoded data removed]",
            "text/plain": [
              "<Figure size 432x288 with 1 Axes>"
            ]
          },
          "metadata": {
            "tags": [],
            "needs_background": "light"
          }
        }
      ]
    },
    {
      "cell_type": "markdown",
      "metadata": {
        "id": "Rn0jeej-_whv"
      },
      "source": [
        "## With Normalization - Same results as Cosine similaritis"
      ]
    },
    {
      "cell_type": "code",
      "metadata": {
        "id": "xBAqhZIx_vCw"
      },
      "source": [
        "sentence_embeddings_norm = normalize(sentence_embeddings, axis=1)"
      ],
      "execution_count": 358,
      "outputs": []
    },
    {
      "cell_type": "code",
      "metadata": {
        "colab": {
          "base_uri": "https://localhost:8080/",
          "height": 295
        },
        "id": "5wtVGw88ALti",
        "outputId": "e5230e0e-d7b8-496f-bf69-3a1fe2510cf5"
      },
      "source": [
        "SSE = []\n",
        "\n",
        "for k in range(1, 60):\n",
        "    kmeans = KMeans(n_clusters = k)\n",
        "    kmeans.fit(sentence_embeddings_norm)\n",
        "    SSE.append(kmeans.inertia_)\n",
        "    \n",
        "plt.plot(range(1, 60), SSE, 'bx-')\n",
        "plt.title('Elbow Method')\n",
        "plt.xlabel('cluster numbers')\n",
        "plt.show()"
      ],
      "execution_count": 359,
      "outputs": [
        {
          "output_type": "display_data",
          "data": {
            "image/png": "[encoded data removed]",
            "text/plain": [
              "<Figure size 432x288 with 1 Axes>"
            ]
          },
          "metadata": {
            "tags": [],
            "needs_background": "light"
          }
        }
      ]
    },
    {
      "cell_type": "code",
      "metadata": {
        "colab": {
          "base_uri": "https://localhost:8080/"
        },
        "id": "UHdDbjeuAR7p",
        "outputId": "1acefb04-4ff2-40cc-d6b7-a491d0153f42"
      },
      "source": [
        "n_clusters = 10\n",
        "\n",
        "km = KMeans(n_clusters=n_clusters)\n",
        "\n",
        "km.fit(sentence_embeddings_norm)\n",
        "centers = km.cluster_centers_.argsort()[:,::-1]\n",
        "\n",
        "print(\"Len of Labels: \",\n",
        "       len(set(km.labels_)), \n",
        "       \" Params: \", \n",
        "       km.get_params())"
      ],
      "execution_count": 360,
      "outputs": [
        {
          "output_type": "stream",
          "text": [
            "Len of Labels:  10  Params:  {'algorithm': 'auto', 'copy_x': True, 'init': 'k-means++', 'max_iter': 300, 'n_clusters': 10, 'n_init': 10, 'n_jobs': None, 'precompute_distances': 'auto', 'random_state': None, 'tol': 0.0001, 'verbose': 0}\n"
          ],
          "name": "stdout"
        }
      ]
    },
    {
      "cell_type": "code",
      "metadata": {
        "colab": {
          "base_uri": "https://localhost:8080/"
        },
        "id": "sIb0mW0SAew3",
        "outputId": "1c17101e-51d5-4963-ecfd-e1542d9a772e"
      },
      "source": [
        "clusters = {}\n",
        "\n",
        "for i, titles_sentence in enumerate(titles_sentences):\n",
        "    if km.predict(sentence_embeddings_norm[i].reshape(-1, 1).T)[0] in clusters.keys():\n",
        "      clusters[km.predict(sentence_embeddings_norm[i].reshape(-1, 1).T)[0]].append(titles_sentence)\n",
        "    else:\n",
        "      clusters[km.predict(sentence_embeddings_norm[i].reshape(-1, 1).T)[0]] = [titles_sentence]\n",
        "\n",
        "clusters"
      ],
      "execution_count": 361,
      "outputs": [
        {
          "output_type": "execute_result",
          "data": {
            "text/plain": [
              "{0: ['talk with your health care provider', 'tell your doctor if ...'],\n",
              " 1: [' who should receive the hepatitis b vaccine and when?',\n",
              "  'some people should not get this vaccine',\n",
              "  'who should get yellow fever vaccine?',\n",
              "  'who should not receive the hepatitis b vaccine?',\n",
              "  'why get vaccinated against hepatitis b?',\n",
              "  'why get vaccinated?',\n",
              "  'who should not get yellow fever vaccine?',\n",
              "  'keep your vaccination card',\n",
              "  'hpv vaccine—why get vaccinated?',\n",
              "  'why get vaccinated against hepatitis a?',\n",
              "  'how can i prevent yellow fever?',\n",
              "  'who should not receive the cholera vaccine?',\n",
              "  'who should get hepatitis a vaccine and when?',\n",
              "  'some babies should not get this vaccine'],\n",
              " 2: ['why is this medication prescribed?',\n",
              "  'side effects',\n",
              "  'drug',\n",
              "  'what should i do about side effects?',\n",
              "  'how should this medicine be used?',\n",
              "  'what side effects can this medication cause?',\n",
              "  'why is this medicine prescribed?',\n",
              "  'herbs and supplements',\n",
              "  'what should i do if i forget a dose?',\n",
              "  'other uses for this medicine',\n",
              "  'what side effects can this medicine cause?',\n",
              "  'what should i know about storage and disposal of this medication?'],\n",
              " 3: ['what if there is a serious problem?',\n",
              "  'where can i report cases of suspected fraud?',\n",
              "  'notice:',\n",
              "  'important warning: ',\n",
              "  'what special precautions should i follow?',\n",
              "  'how can i learn more?',\n",
              "  'what other information should i know?',\n",
              "  'what if there is a moderate or severe problem?',\n",
              "  'what special dietary instructions should i follow?',\n",
              "  'what should i do in case of overdose?',\n",
              "  'what if there is a serious reaction?',\n",
              "  'precautions',\n",
              "  'about your treatment',\n",
              "  'in case of emergency/overdose',\n",
              "  'what if there is a moderate or severe reaction?',\n",
              "  'what if there is a severe reaction?'],\n",
              " 4: ['will the moderna covid-19 vaccine give me covid-19?',\n",
              "  'what are the risks of the moderna covid-19 vaccine?',\n",
              "  'what are the benefits of the pfizer-biontech covid-19 vaccine?',\n",
              "  'can i be charged an administration fee for receiving the covid-19 vaccine?',\n",
              "  'how is the moderna covid-19 vaccine given?',\n",
              "  'how is the pfizer-biontech covid-19 vaccine given?',\n",
              "  'what are the risks of the pfizer-biontech covid-19 vaccine?',\n",
              "  'will the janssen (johnson and johnson) vaccine give me covid-19?',\n",
              "  'what is covid-19?',\n",
              "  'will the pfizer-biontech covid-19 vaccine give me covid-19?',\n",
              "  'what are the benefits of the moderna covid-19 vaccine?',\n",
              "  'how is the janssen (johnson and johnson) covid-19 vaccine given?'],\n",
              " 5: ['who should not receive the pcv13 vaccine?',\n",
              "  'who should not get ipv or should wait?',\n",
              "  'who should not get or should wait to get laiv?',\n",
              "  'who should get anthrax vaccine and when?',\n",
              "  'who should not get meningococcal vaccine or should wait?',\n",
              "  'who should not get hepatitis a vaccine or should wait?',\n",
              "  'who should not get typhoid vaccine or should wait?',\n",
              "  'who should not get meningococcal group b vaccine or should wait?',\n",
              "  'who should not get je vaccine or should wait?',\n",
              "  'some children should not get dtap vaccine or should wait',\n",
              "  'who should not get tdap vaccine or should wait?',\n",
              "  'who should not get or should wait to get the influenza vaccine?',\n",
              "  'who should get typhoid vaccine and when?',\n",
              "  'who should not get hpv vaccine or should wait?',\n",
              "  'who should get this hpv vaccine and when?',\n",
              "  'who should not get hib vaccine or should wait?',\n",
              "  'who should get je vaccine and when?',\n",
              "  'who should not get td vaccine or should wait?',\n",
              "  'some people should not get hpv vaccine or should wait',\n",
              "  'who should get rabies vaccine and when?',\n",
              "  'who should not get anthrax vaccine or should wait?',\n",
              "  'what should you tell the person who is giving the vaccine?',\n",
              "  'who should get meningococcal vaccine and when?',\n",
              "  'who should get polio vaccine and when?'],\n",
              " 6: ['what is live, attenuated influenza vaccine-laiv (nasal spray)?',\n",
              "  'what is meningococcal vaccine?',\n",
              "  'what is anthrax?',\n",
              "  'pcv13 vaccine',\n",
              "  'what is td vaccine?',\n",
              "  'dtap vaccine',\n",
              "  'what typhoid vaccines are available?',\n",
              "  'chickenpox vaccine',\n",
              "  'mmr vaccine',\n",
              "  'what is tdap vaccine?',\n",
              "  'rabies vaccine',\n",
              "  'what are meningococcal group b vaccines?',\n",
              "  'what is meningococcal disease?',\n",
              "  'cholera vaccine',\n",
              "  'what is hpv?',\n",
              "  'what is hpv vaccine?',\n",
              "  'shingles vaccine (recombinant)',\n",
              "  'what is anthrax vaccine?',\n",
              "  'rotavirus vaccine',\n",
              "  'what is rabies?',\n",
              "  'where will my vaccination information be recorded?',\n",
              "  'what is japanese encephalitis?',\n",
              "  'what is yellow fever?',\n",
              "  'shingles vaccine (live):',\n",
              "  'what is typhoid?',\n",
              "  'what is inactivated or recombinant influenza vaccine?',\n",
              "  'pneumococcal polysaccharide vaccine (ppsv23)',\n",
              "  'what is hib vaccine?'],\n",
              " 7: ['special instructions',\n",
              "  'the national vaccine injury compensation program',\n",
              "  'what is the countermeasures injury compensation program',\n",
              "  'what is the countermeasures injury compensation program?',\n",
              "  'injury compensation'],\n",
              " 8: ['what are the risks of the janssen (johnson and johnson) vaccine?',\n",
              "  'what are the risks of a vaccine reaction?',\n",
              "  'what are the risks from typhoid vaccine?',\n",
              "  'risks of a vaccine reaction',\n",
              "  'what are the benefits of the janssen (johnson and johnson) vaccine?',\n",
              "  'what are the risks from hepatitis b vaccine?',\n",
              "  'what are the risks from anthrax vaccine?',\n",
              "  'what are the risks from ipv?',\n",
              "  'what are the risks from meningococcal group b vaccines?',\n",
              "  'what are the risks from hepatitis a vaccine?',\n",
              "  'what are the risks from rabies vaccine?',\n",
              "  'what are the risks from je vaccine?',\n",
              "  'what are the risks from yellow fever vaccine?',\n",
              "  'what are the risks from this vaccine?',\n",
              "  'what are the risks from inactivated or recombinant influenza vaccine?',\n",
              "  'what are the risks from meningococcal vaccines?',\n",
              "  'what are the risks from laiv?'],\n",
              " 9: ['other names',\n",
              "  'browse by generic or brand name:',\n",
              "  'brand names of combination products',\n",
              "  'brand names',\n",
              "  'related topics',\n",
              "  'combination product']}"
            ]
          },
          "metadata": {
            "tags": []
          },
          "execution_count": 361
        }
      ]
    },
    {
      "cell_type": "code",
      "metadata": {
        "colab": {
          "base_uri": "https://localhost:8080/",
          "height": 283
        },
        "id": "mo3EQNXdEmF3",
        "outputId": "ef9ebbac-892f-43fe-aab0-b392b00be2d3"
      },
      "source": [
        "plt.bar(list(clusters.keys()), [len(value) for value in clusters.values()])"
      ],
      "execution_count": 362,
      "outputs": [
        {
          "output_type": "execute_result",
          "data": {
            "text/plain": [
              "<BarContainer object of 10 artists>"
            ]
          },
          "metadata": {
            "tags": []
          },
          "execution_count": 362
        },
        {
          "output_type": "display_data",
          "data": {
            "image/png": "[encoded data removed]",
            "text/plain": [
              "<Figure size 432x288 with 1 Axes>"
            ]
          },
          "metadata": {
            "tags": [],
            "needs_background": "light"
          }
        }
      ]
    },
    {
      "cell_type": "markdown",
      "metadata": {
        "id": "cYWGYwk7ErNi"
      },
      "source": [
        "## Hierarchical Clustering - Cosine Similarities"
      ]
    },
    {
      "cell_type": "code",
      "metadata": {
        "id": "aKvJkgBKEqcN"
      },
      "source": [
        "model = AgglomerativeClustering(n_clusters=10, affinity='cosine', linkage='average')\n",
        "model = model.fit(sentence_embeddings)"
      ],
      "execution_count": 373,
      "outputs": []
    },
    {
      "cell_type": "code",
      "metadata": {
        "colab": {
          "base_uri": "https://localhost:8080/"
        },
        "id": "6xb4PzeaFA25",
        "outputId": "c1331eea-dfa1-4962-faac-1172ae1480b7"
      },
      "source": [
        "clusters = {}\n",
        "\n",
        "for i, label in enumerate(model.labels_):\n",
        "    if label in clusters.keys():\n",
        "      clusters[label].append(titles_sentences[i])\n",
        "    else:\n",
        "      clusters[label] = [titles_sentences[i]]\n",
        "\n",
        "clusters"
      ],
      "execution_count": 374,
      "outputs": [
        {
          "output_type": "execute_result",
          "data": {
            "text/plain": [
              "{0: ['what is live, attenuated influenza vaccine-laiv (nasal spray)?',\n",
              "  'who should not receive the pcv13 vaccine?',\n",
              "  'what are the risks of the janssen (johnson and johnson) vaccine?',\n",
              "  'what is meningococcal vaccine?',\n",
              "  'who should not get ipv or should wait?',\n",
              "  'what are the risks of a vaccine reaction?',\n",
              "  'who should not get or should wait to get laiv?',\n",
              "  'what are the risks from typhoid vaccine?',\n",
              "  'who should get anthrax vaccine and when?',\n",
              "  'who should not get meningococcal vaccine or should wait?',\n",
              "  'what is anthrax?',\n",
              "  ' who should receive the hepatitis b vaccine and when?',\n",
              "  'some people should not get this vaccine',\n",
              "  'pcv13 vaccine',\n",
              "  'what is td vaccine?',\n",
              "  'risks of a vaccine reaction',\n",
              "  'what are the benefits of the janssen (johnson and johnson) vaccine?',\n",
              "  'what are the risks from hepatitis b vaccine?',\n",
              "  'dtap vaccine',\n",
              "  'what are the risks from anthrax vaccine?',\n",
              "  'who should get yellow fever vaccine?',\n",
              "  'what are the risks from ipv?',\n",
              "  'who should not get hepatitis a vaccine or should wait?',\n",
              "  'who should not receive the hepatitis b vaccine?',\n",
              "  'what typhoid vaccines are available?',\n",
              "  'who should not get typhoid vaccine or should wait?',\n",
              "  'chickenpox vaccine',\n",
              "  'who should not get meningococcal group b vaccine or should wait?',\n",
              "  'will the moderna covid-19 vaccine give me covid-19?',\n",
              "  'mmr vaccine',\n",
              "  'what are the risks of the moderna covid-19 vaccine?',\n",
              "  'what is tdap vaccine?',\n",
              "  'who should not get je vaccine or should wait?',\n",
              "  'some children should not get dtap vaccine or should wait',\n",
              "  'who should not get tdap vaccine or should wait?',\n",
              "  'rabies vaccine',\n",
              "  'why get vaccinated against hepatitis b?',\n",
              "  'what are meningococcal group b vaccines?',\n",
              "  'who should not get or should wait to get the influenza vaccine?',\n",
              "  'what is meningococcal disease?',\n",
              "  'why get vaccinated?',\n",
              "  'who should get typhoid vaccine and when?',\n",
              "  'who should not get yellow fever vaccine?',\n",
              "  'keep your vaccination card',\n",
              "  'who should not get hpv vaccine or should wait?',\n",
              "  'what are the benefits of the pfizer-biontech covid-19 vaccine?',\n",
              "  'cholera vaccine',\n",
              "  'what is hpv?',\n",
              "  'can i be charged an administration fee for receiving the covid-19 vaccine?',\n",
              "  'what is hpv vaccine?',\n",
              "  'what are the risks from meningococcal group b vaccines?',\n",
              "  'shingles vaccine (recombinant)',\n",
              "  'what is anthrax vaccine?',\n",
              "  'how is the moderna covid-19 vaccine given?',\n",
              "  'who should get this hpv vaccine and when?',\n",
              "  'rotavirus vaccine',\n",
              "  'what is rabies?',\n",
              "  'hpv vaccine—why get vaccinated?',\n",
              "  'what are the risks from hepatitis a vaccine?',\n",
              "  'the national vaccine injury compensation program',\n",
              "  'how is the pfizer-biontech covid-19 vaccine given?',\n",
              "  'what are the risks from rabies vaccine?',\n",
              "  'where will my vaccination information be recorded?',\n",
              "  'what are the risks from je vaccine?',\n",
              "  'why get vaccinated against hepatitis a?',\n",
              "  'who should not get hib vaccine or should wait?',\n",
              "  'who should get je vaccine and when?',\n",
              "  'what is yellow fever?',\n",
              "  'what are the risks from yellow fever vaccine?',\n",
              "  'shingles vaccine (live):',\n",
              "  'what are the risks from this vaccine?',\n",
              "  'who should not get td vaccine or should wait?',\n",
              "  'what is typhoid?',\n",
              "  'some people should not get hpv vaccine or should wait',\n",
              "  'what are the risks from inactivated or recombinant influenza vaccine?',\n",
              "  'what are the risks from meningococcal vaccines?',\n",
              "  'what are the risks of the pfizer-biontech covid-19 vaccine?',\n",
              "  'what is inactivated or recombinant influenza vaccine?',\n",
              "  'will the janssen (johnson and johnson) vaccine give me covid-19?',\n",
              "  'who should get rabies vaccine and when?',\n",
              "  'how can i prevent yellow fever?',\n",
              "  'who should not get anthrax vaccine or should wait?',\n",
              "  'who should not receive the cholera vaccine?',\n",
              "  'pneumococcal polysaccharide vaccine (ppsv23)',\n",
              "  'what should you tell the person who is giving the vaccine?',\n",
              "  'will the pfizer-biontech covid-19 vaccine give me covid-19?',\n",
              "  'what are the risks from laiv?',\n",
              "  'who should get hepatitis a vaccine and when?',\n",
              "  'what are the benefits of the moderna covid-19 vaccine?',\n",
              "  'some babies should not get this vaccine',\n",
              "  'who should get meningococcal vaccine and when?',\n",
              "  'who should get polio vaccine and when?',\n",
              "  'what is hib vaccine?',\n",
              "  'how is the janssen (johnson and johnson) covid-19 vaccine given?'],\n",
              " 1: ['why is this medication prescribed?',\n",
              "  'side effects',\n",
              "  'drug',\n",
              "  'talk with your health care provider',\n",
              "  'what should i do about side effects?',\n",
              "  'what if there is a serious problem?',\n",
              "  'how should this medicine be used?',\n",
              "  'what side effects can this medication cause?',\n",
              "  'why is this medicine prescribed?',\n",
              "  'what should i do if i forget a dose?',\n",
              "  'what if there is a moderate or severe problem?',\n",
              "  'other uses for this medicine',\n",
              "  'what should i do in case of overdose?',\n",
              "  'what if there is a serious reaction?',\n",
              "  'about your treatment',\n",
              "  'in case of emergency/overdose',\n",
              "  'what if there is a moderate or severe reaction?',\n",
              "  'tell your doctor if ...',\n",
              "  'what side effects can this medicine cause?',\n",
              "  'what if there is a severe reaction?',\n",
              "  'what should i know about storage and disposal of this medication?'],\n",
              " 2: ['other names',\n",
              "  'browse by generic or brand name:',\n",
              "  'brand names of combination products',\n",
              "  'brand names',\n",
              "  'related topics',\n",
              "  'combination product'],\n",
              " 3: ['special instructions',\n",
              "  'notice:',\n",
              "  'important warning: ',\n",
              "  'what special precautions should i follow?',\n",
              "  'what special dietary instructions should i follow?',\n",
              "  'precautions'],\n",
              " 4: ['how can i learn more?', 'what other information should i know?'],\n",
              " 5: ['what is covid-19?'],\n",
              " 6: ['what is the countermeasures injury compensation program',\n",
              "  'what is the countermeasures injury compensation program?',\n",
              "  'injury compensation'],\n",
              " 7: ['where can i report cases of suspected fraud?'],\n",
              " 8: ['herbs and supplements'],\n",
              " 9: ['what is japanese encephalitis?']}"
            ]
          },
          "metadata": {
            "tags": []
          },
          "execution_count": 374
        }
      ]
    },
    {
      "cell_type": "code",
      "metadata": {
        "colab": {
          "base_uri": "https://localhost:8080/",
          "height": 283
        },
        "id": "owRdEUdOFbqs",
        "outputId": "467b16fd-4bbe-491b-ecdc-d6d1a9a4f96a"
      },
      "source": [
        "plt.bar(list(clusters.keys()), [len(value) for value in clusters.values()])"
      ],
      "execution_count": 375,
      "outputs": [
        {
          "output_type": "execute_result",
          "data": {
            "text/plain": [
              "<BarContainer object of 10 artists>"
            ]
          },
          "metadata": {
            "tags": []
          },
          "execution_count": 375
        },
        {
          "output_type": "display_data",
          "data": {
            "image/png": "[encoded data removed]",
            "text/plain": [
              "<Figure size 432x288 with 1 Axes>"
            ]
          },
          "metadata": {
            "tags": [],
            "needs_background": "light"
          }
        }
      ]
    },
    {
      "cell_type": "markdown",
      "metadata": {
        "id": "a2JfzqNqpd6y"
      },
      "source": [
        "## With T-SNE (method = exact)"
      ]
    },
    {
      "cell_type": "code",
      "metadata": {
        "id": "Ib02L82Ypd6y"
      },
      "source": [
        "# Hyperparameter 1 \n",
        "n_dimention = 15\n",
        "tsne = TSNE(n_components=n_dimention, method='exact')\n",
        "reduced_data = tsne.fit_transform(sentence_embeddings)"
      ],
      "execution_count": 378,
      "outputs": []
    },
    {
      "cell_type": "code",
      "metadata": {
        "id": "M0KZetPkpd6y",
        "colab": {
          "base_uri": "https://localhost:8080/",
          "height": 295
        },
        "outputId": "891e24ad-e814-416c-f8fd-1edd5b4bc819"
      },
      "source": [
        "SSE = []\n",
        "\n",
        "for k in range(1, 30):\n",
        "    kmeans = KMeans(n_clusters = k)\n",
        "    kmeans.fit(reduced_data)\n",
        "    SSE.append(kmeans.inertia_)\n",
        "    \n",
        "plt.plot(range(1, 30), SSE, 'bx-')\n",
        "plt.title('Elbow Method')\n",
        "plt.xlabel('cluster numbers')\n",
        "plt.show()"
      ],
      "execution_count": 379,
      "outputs": [
        {
          "output_type": "display_data",
          "data": {
            "image/png": "[encoded data removed]",
            "text/plain": [
              "<Figure size 432x288 with 1 Axes>"
            ]
          },
          "metadata": {
            "tags": [],
            "needs_background": "light"
          }
        }
      ]
    },
    {
      "cell_type": "code",
      "metadata": {
        "id": "zmuCNnSYpd6z",
        "colab": {
          "base_uri": "https://localhost:8080/"
        },
        "outputId": "fd062153-12a0-4e85-bac7-38300bad8b6f"
      },
      "source": [
        "# Hyperparameter 2\n",
        "n_clusters = 10\n",
        "\n",
        "km = KMeans(n_clusters=n_clusters)\n",
        "\n",
        "km.fit(reduced_data)\n",
        "centers = km.cluster_centers_.argsort()[:,::-1]\n",
        "\n",
        "print(\"Len of Labels: \",\n",
        "       len(set(km.labels_)), \n",
        "       \" Params: \", \n",
        "       km.get_params())"
      ],
      "execution_count": 395,
      "outputs": [
        {
          "output_type": "stream",
          "text": [
            "Len of Labels:  10  Params:  {'algorithm': 'auto', 'copy_x': True, 'init': 'k-means++', 'max_iter': 300, 'n_clusters': 10, 'n_init': 10, 'n_jobs': None, 'precompute_distances': 'auto', 'random_state': None, 'tol': 0.0001, 'verbose': 0}\n"
          ],
          "name": "stdout"
        }
      ]
    },
    {
      "cell_type": "code",
      "metadata": {
        "id": "4b7lRQtApd6z",
        "colab": {
          "base_uri": "https://localhost:8080/"
        },
        "outputId": "56f29501-f3c9-483b-a7a0-df192564110b"
      },
      "source": [
        "clusters = {}\n",
        "\n",
        "for i, titles_sentence in enumerate(titles_sentences):\n",
        "    if km.predict(reduced_data[i].reshape(-1, 1).T)[0] in clusters.keys():\n",
        "      clusters[km.predict(reduced_data[i].reshape(-1, 1).T)[0]].append(titles_sentence)\n",
        "    else:\n",
        "      clusters[km.predict(reduced_data[i].reshape(-1, 1).T)[0]] = [titles_sentence]\n",
        "\n",
        "clusters"
      ],
      "execution_count": 396,
      "outputs": [
        {
          "output_type": "execute_result",
          "data": {
            "text/plain": [
              "{0: ['who should not get or should wait to get laiv?',\n",
              "  'special instructions',\n",
              "  ' who should receive the hepatitis b vaccine and when?',\n",
              "  'what are the risks from hepatitis b vaccine?',\n",
              "  'what are the risks from ipv?',\n",
              "  'who should not get meningococcal group b vaccine or should wait?',\n",
              "  'who should not get tdap vaccine or should wait?',\n",
              "  'rabies vaccine',\n",
              "  'what is hpv?',\n",
              "  'what other information should i know?',\n",
              "  'what if there is a moderate or severe problem?',\n",
              "  'where will my vaccination information be recorded?',\n",
              "  'what is the countermeasures injury compensation program',\n",
              "  'some people should not get hpv vaccine or should wait',\n",
              "  'who should not receive the cholera vaccine?',\n",
              "  'about your treatment',\n",
              "  'tell your doctor if ...',\n",
              "  'who should get polio vaccine and when?',\n",
              "  'what if there is a severe reaction?'],\n",
              " 1: ['what are the risks of the janssen (johnson and johnson) vaccine?',\n",
              "  'other names',\n",
              "  'what are the risks from anthrax vaccine?',\n",
              "  'what typhoid vaccines are available?',\n",
              "  'who should not get typhoid vaccine or should wait?',\n",
              "  'browse by generic or brand name:',\n",
              "  'brand names of combination products',\n",
              "  'what side effects can this medication cause?',\n",
              "  'who should not get yellow fever vaccine?',\n",
              "  'shingles vaccine (recombinant)',\n",
              "  'who should get this hpv vaccine and when?',\n",
              "  'what special precautions should i follow?',\n",
              "  'injury compensation'],\n",
              " 2: ['what is live, attenuated influenza vaccine-laiv (nasal spray)?',\n",
              "  'who should not get ipv or should wait?',\n",
              "  'who should not get meningococcal vaccine or should wait?',\n",
              "  'what is anthrax?',\n",
              "  'why is this medication prescribed?',\n",
              "  'side effects',\n",
              "  'who should get yellow fever vaccine?',\n",
              "  'where can i report cases of suspected fraud?',\n",
              "  'how should this medicine be used?',\n",
              "  'mmr vaccine',\n",
              "  'who should not get je vaccine or should wait?',\n",
              "  'who should not get or should wait to get the influenza vaccine?',\n",
              "  'what is meningococcal disease?',\n",
              "  'hpv vaccine—why get vaccinated?',\n",
              "  'what are the risks from hepatitis a vaccine?',\n",
              "  'herbs and supplements',\n",
              "  'what should i do if i forget a dose?',\n",
              "  'what is japanese encephalitis?',\n",
              "  'what is the countermeasures injury compensation program?',\n",
              "  'what are the risks from inactivated or recombinant influenza vaccine?',\n",
              "  'what are the risks from meningococcal vaccines?',\n",
              "  'how can i prevent yellow fever?',\n",
              "  'what should you tell the person who is giving the vaccine?',\n",
              "  'will the pfizer-biontech covid-19 vaccine give me covid-19?',\n",
              "  'what are the risks from laiv?',\n",
              "  'in case of emergency/overdose',\n",
              "  'what is hib vaccine?'],\n",
              " 3: ['pcv13 vaccine',\n",
              "  'drug',\n",
              "  'who should not get hepatitis a vaccine or should wait?',\n",
              "  'will the moderna covid-19 vaccine give me covid-19?',\n",
              "  'what are the risks of the moderna covid-19 vaccine?',\n",
              "  'what is tdap vaccine?',\n",
              "  'why is this medicine prescribed?',\n",
              "  'why get vaccinated?',\n",
              "  'who should get typhoid vaccine and when?',\n",
              "  'brand names',\n",
              "  'related topics',\n",
              "  'what are the benefits of the pfizer-biontech covid-19 vaccine?',\n",
              "  'rotavirus vaccine',\n",
              "  'what are the risks from rabies vaccine?',\n",
              "  'what is yellow fever?',\n",
              "  'what are the risks from yellow fever vaccine?',\n",
              "  'shingles vaccine (live):',\n",
              "  'who should get hepatitis a vaccine and when?'],\n",
              " 4: ['who should get anthrax vaccine and when?',\n",
              "  'what are the benefits of the janssen (johnson and johnson) vaccine?',\n",
              "  'what if there is a serious problem?',\n",
              "  'chickenpox vaccine',\n",
              "  'why get vaccinated against hepatitis b?',\n",
              "  'what are meningococcal group b vaccines?',\n",
              "  'keep your vaccination card',\n",
              "  'important warning: ',\n",
              "  'the national vaccine injury compensation program',\n",
              "  'how can i learn more?',\n",
              "  'what are the risks from je vaccine?',\n",
              "  'what is typhoid?',\n",
              "  'combination product',\n",
              "  'what if there is a moderate or severe reaction?',\n",
              "  'some babies should not get this vaccine',\n",
              "  'what side effects can this medicine cause?'],\n",
              " 5: ['some people should not get this vaccine'],\n",
              " 6: ['who should not receive the pcv13 vaccine?',\n",
              "  'what are the risks from typhoid vaccine?',\n",
              "  'what is td vaccine?',\n",
              "  'dtap vaccine',\n",
              "  'who should not receive the hepatitis b vaccine?',\n",
              "  'how is the moderna covid-19 vaccine given?',\n",
              "  'what is rabies?',\n",
              "  'how is the pfizer-biontech covid-19 vaccine given?',\n",
              "  'why get vaccinated against hepatitis a?',\n",
              "  'what special dietary instructions should i follow?',\n",
              "  'what if there is a serious reaction?',\n",
              "  'what is covid-19?',\n",
              "  'who should get rabies vaccine and when?',\n",
              "  'who should not get anthrax vaccine or should wait?',\n",
              "  'pneumococcal polysaccharide vaccine (ppsv23)',\n",
              "  'precautions'],\n",
              " 7: ['what is meningococcal vaccine?',\n",
              "  'what are the risks of a vaccine reaction?',\n",
              "  'what should i do about side effects?',\n",
              "  'some children should not get dtap vaccine or should wait',\n",
              "  'can i be charged an administration fee for receiving the covid-19 vaccine?',\n",
              "  'what are the risks from meningococcal group b vaccines?',\n",
              "  'what is anthrax vaccine?',\n",
              "  'who should not get hib vaccine or should wait?',\n",
              "  'who should get je vaccine and when?',\n",
              "  'other uses for this medicine',\n",
              "  'what should i do in case of overdose?',\n",
              "  'what are the risks of the pfizer-biontech covid-19 vaccine?',\n",
              "  'who should get meningococcal vaccine and when?',\n",
              "  'what should i know about storage and disposal of this medication?',\n",
              "  'how is the janssen (johnson and johnson) covid-19 vaccine given?'],\n",
              " 8: ['what are the risks from this vaccine?'],\n",
              " 9: ['risks of a vaccine reaction',\n",
              "  'talk with your health care provider',\n",
              "  'who should not get hpv vaccine or should wait?',\n",
              "  'cholera vaccine',\n",
              "  'what is hpv vaccine?',\n",
              "  'notice:',\n",
              "  'who should not get td vaccine or should wait?',\n",
              "  'what is inactivated or recombinant influenza vaccine?',\n",
              "  'will the janssen (johnson and johnson) vaccine give me covid-19?',\n",
              "  'what are the benefits of the moderna covid-19 vaccine?']}"
            ]
          },
          "metadata": {
            "tags": []
          },
          "execution_count": 396
        }
      ]
    },
    {
      "cell_type": "code",
      "metadata": {
        "colab": {
          "base_uri": "https://localhost:8080/",
          "height": 283
        },
        "id": "BMu8zehXGYi8",
        "outputId": "c11bbee4-b4d2-4843-e2dd-cd7a97e281a4"
      },
      "source": [
        "plt.bar(list(clusters.keys()), [len(value) for value in clusters.values()])"
      ],
      "execution_count": 397,
      "outputs": [
        {
          "output_type": "execute_result",
          "data": {
            "text/plain": [
              "<BarContainer object of 10 artists>"
            ]
          },
          "metadata": {
            "tags": []
          },
          "execution_count": 397
        },
        {
          "output_type": "display_data",
          "data": {
            "image/png": "[encoded data removed]",
            "text/plain": [
              "<Figure size 432x288 with 1 Axes>"
            ]
          },
          "metadata": {
            "tags": [],
            "needs_background": "light"
          }
        }
      ]
    },
    {
      "cell_type": "markdown",
      "metadata": {
        "id": "VYGrKgIMpd6z"
      },
      "source": [
        "## With T-SNE (method = barnes_hut)"
      ]
    },
    {
      "cell_type": "code",
      "metadata": {
        "id": "WukzaIe4pd60"
      },
      "source": [
        "# Hyperparameter 1 \n",
        "# Barnes–Hut method works only with less than 4 dimensions\n",
        "n_dimention = 3\n",
        "tsne = TSNE(n_components=n_dimention, method='barnes_hut')\n",
        "reduced_data = tsne.fit_transform(sentence_embeddings)"
      ],
      "execution_count": 398,
      "outputs": []
    },
    {
      "cell_type": "code",
      "metadata": {
        "id": "1ZLYj736pd60",
        "colab": {
          "base_uri": "https://localhost:8080/",
          "height": 295
        },
        "outputId": "511636be-b57f-448c-edfc-b75456458210"
      },
      "source": [
        "SSE = []\n",
        "\n",
        "for k in range(1, 30):\n",
        "    kmeans = KMeans(n_clusters = k)\n",
        "    kmeans.fit(reduced_data)\n",
        "    SSE.append(kmeans.inertia_)\n",
        "    \n",
        "plt.plot(range(1, 30), SSE, 'bx-')\n",
        "plt.title('Elbow Method')\n",
        "plt.xlabel('cluster numbers')\n",
        "plt.show()"
      ],
      "execution_count": 399,
      "outputs": [
        {
          "output_type": "display_data",
          "data": {
            "image/png": "[encoded data removed]",
            "text/plain": [
              "<Figure size 432x288 with 1 Axes>"
            ]
          },
          "metadata": {
            "tags": [],
            "needs_background": "light"
          }
        }
      ]
    },
    {
      "cell_type": "code",
      "metadata": {
        "id": "XR5QSjXTpd60",
        "colab": {
          "base_uri": "https://localhost:8080/"
        },
        "outputId": "1a48f6a8-cf88-4801-9086-6dc62d7bd941"
      },
      "source": [
        "# Hyperparameter 2\n",
        "n_clusters = 5\n",
        "\n",
        "km = KMeans(n_clusters=n_clusters)\n",
        "\n",
        "km.fit(reduced_data)\n",
        "centers = km.cluster_centers_.argsort()[:,::-1]\n",
        "\n",
        "print(\"Len of Labels: \",\n",
        "       len(set(km.labels_)), \n",
        "       \" Params: \", \n",
        "       km.get_params())"
      ],
      "execution_count": 400,
      "outputs": [
        {
          "output_type": "stream",
          "text": [
            "Len of Labels:  5  Params:  {'algorithm': 'auto', 'copy_x': True, 'init': 'k-means++', 'max_iter': 300, 'n_clusters': 5, 'n_init': 10, 'n_jobs': None, 'precompute_distances': 'auto', 'random_state': None, 'tol': 0.0001, 'verbose': 0}\n"
          ],
          "name": "stdout"
        }
      ]
    },
    {
      "cell_type": "code",
      "metadata": {
        "id": "AM6KTnNDpd61",
        "colab": {
          "base_uri": "https://localhost:8080/"
        },
        "outputId": "c49dc0d8-7f47-4658-a8df-ce8853376c47"
      },
      "source": [
        "clusters = {}\n",
        "\n",
        "for i, titles_sentence in enumerate(titles_sentences):\n",
        "    if km.predict(reduced_data[i].reshape(-1, 1).T)[0] in clusters.keys():\n",
        "      clusters[km.predict(reduced_data[i].reshape(-1, 1).T)[0]].append(titles_sentence)\n",
        "    else:\n",
        "      clusters[km.predict(reduced_data[i].reshape(-1, 1).T)[0]] = [titles_sentence]\n",
        "\n",
        "clusters"
      ],
      "execution_count": 401,
      "outputs": [
        {
          "output_type": "execute_result",
          "data": {
            "text/plain": [
              "{0: ['who should not receive the pcv13 vaccine?',\n",
              "  'who should not get or should wait to get laiv?',\n",
              "  'who should not get meningococcal vaccine or should wait?',\n",
              "  'what is td vaccine?',\n",
              "  'talk with your health care provider',\n",
              "  'what if there is a serious problem?',\n",
              "  'who should not get typhoid vaccine or should wait?',\n",
              "  'who should not get je vaccine or should wait?',\n",
              "  'some children should not get dtap vaccine or should wait',\n",
              "  'who should not get tdap vaccine or should wait?',\n",
              "  'related topics',\n",
              "  'who should get this hpv vaccine and when?',\n",
              "  'important warning: ',\n",
              "  'hpv vaccine—why get vaccinated?',\n",
              "  'what if there is a moderate or severe problem?',\n",
              "  'who should not get hib vaccine or should wait?',\n",
              "  'other uses for this medicine',\n",
              "  'some people should not get hpv vaccine or should wait',\n",
              "  'what are the risks from inactivated or recombinant influenza vaccine?',\n",
              "  'who should get rabies vaccine and when?',\n",
              "  'who should not receive the cholera vaccine?',\n",
              "  'injury compensation',\n",
              "  'what should you tell the person who is giving the vaccine?',\n",
              "  'what are the benefits of the moderna covid-19 vaccine?',\n",
              "  'tell your doctor if ...',\n",
              "  'who should get polio vaccine and when?',\n",
              "  'what side effects can this medicine cause?',\n",
              "  'what should i know about storage and disposal of this medication?'],\n",
              " 1: ['what is live, attenuated influenza vaccine-laiv (nasal spray)?',\n",
              "  'who should get anthrax vaccine and when?',\n",
              "  'what is anthrax?',\n",
              "  'risks of a vaccine reaction',\n",
              "  'what are the risks from hepatitis b vaccine?',\n",
              "  'what are the risks from anthrax vaccine?',\n",
              "  'will the moderna covid-19 vaccine give me covid-19?',\n",
              "  'brand names of combination products',\n",
              "  'rabies vaccine',\n",
              "  'what is meningococcal disease?',\n",
              "  'brand names',\n",
              "  'what are the benefits of the pfizer-biontech covid-19 vaccine?',\n",
              "  'what is anthrax vaccine?',\n",
              "  'how is the moderna covid-19 vaccine given?',\n",
              "  'what is rabies?',\n",
              "  'what other information should i know?',\n",
              "  'how is the pfizer-biontech covid-19 vaccine given?',\n",
              "  'what are the risks from rabies vaccine?',\n",
              "  'what is japanese encephalitis?',\n",
              "  'what are the risks from meningococcal vaccines?',\n",
              "  'will the janssen (johnson and johnson) vaccine give me covid-19?',\n",
              "  'what is covid-19?',\n",
              "  'who should not get anthrax vaccine or should wait?',\n",
              "  'pneumococcal polysaccharide vaccine (ppsv23)',\n",
              "  'will the pfizer-biontech covid-19 vaccine give me covid-19?',\n",
              "  'what are the risks from laiv?',\n",
              "  'combination product',\n",
              "  'some babies should not get this vaccine',\n",
              "  'who should get meningococcal vaccine and when?',\n",
              "  'what is hib vaccine?',\n",
              "  'how is the janssen (johnson and johnson) covid-19 vaccine given?'],\n",
              " 2: ['what is meningococcal vaccine?',\n",
              "  'why is this medication prescribed?',\n",
              "  'side effects',\n",
              "  'drug',\n",
              "  'other names',\n",
              "  'what should i do about side effects?',\n",
              "  'what are the risks from ipv?',\n",
              "  'who should not receive the hepatitis b vaccine?',\n",
              "  'who should not get meningococcal group b vaccine or should wait?',\n",
              "  'browse by generic or brand name:',\n",
              "  'how should this medicine be used?',\n",
              "  'what are the risks of the moderna covid-19 vaccine?',\n",
              "  'what side effects can this medication cause?',\n",
              "  'what are meningococcal group b vaccines?',\n",
              "  'who should not get yellow fever vaccine?',\n",
              "  'can i be charged an administration fee for receiving the covid-19 vaccine?',\n",
              "  'what are the risks from meningococcal group b vaccines?',\n",
              "  'how can i learn more?',\n",
              "  'what should i do if i forget a dose?',\n",
              "  'what is yellow fever?',\n",
              "  'what special dietary instructions should i follow?',\n",
              "  'what are the risks of the pfizer-biontech covid-19 vaccine?',\n",
              "  'about your treatment',\n",
              "  'in case of emergency/overdose',\n",
              "  'what if there is a moderate or severe reaction?'],\n",
              " 3: ['what are the risks from typhoid vaccine?',\n",
              "  ' who should receive the hepatitis b vaccine and when?',\n",
              "  'some people should not get this vaccine',\n",
              "  'pcv13 vaccine',\n",
              "  'dtap vaccine',\n",
              "  'who should get yellow fever vaccine?',\n",
              "  'who should not get hepatitis a vaccine or should wait?',\n",
              "  'what typhoid vaccines are available?',\n",
              "  'chickenpox vaccine',\n",
              "  'mmr vaccine',\n",
              "  'what is tdap vaccine?',\n",
              "  'why is this medicine prescribed?',\n",
              "  'why get vaccinated against hepatitis b?',\n",
              "  'who should not get or should wait to get the influenza vaccine?',\n",
              "  'why get vaccinated?',\n",
              "  'who should get typhoid vaccine and when?',\n",
              "  'cholera vaccine',\n",
              "  'what is hpv vaccine?',\n",
              "  'notice:',\n",
              "  'shingles vaccine (recombinant)',\n",
              "  'rotavirus vaccine',\n",
              "  'why get vaccinated against hepatitis a?',\n",
              "  'what are the risks from yellow fever vaccine?',\n",
              "  'shingles vaccine (live):',\n",
              "  'what are the risks from this vaccine?',\n",
              "  'what is typhoid?',\n",
              "  'how can i prevent yellow fever?',\n",
              "  'who should get hepatitis a vaccine and when?'],\n",
              " 4: ['what are the risks of the janssen (johnson and johnson) vaccine?',\n",
              "  'who should not get ipv or should wait?',\n",
              "  'what are the risks of a vaccine reaction?',\n",
              "  'special instructions',\n",
              "  'what are the benefits of the janssen (johnson and johnson) vaccine?',\n",
              "  'where can i report cases of suspected fraud?',\n",
              "  'keep your vaccination card',\n",
              "  'who should not get hpv vaccine or should wait?',\n",
              "  'what is hpv?',\n",
              "  'what special precautions should i follow?',\n",
              "  'what are the risks from hepatitis a vaccine?',\n",
              "  'herbs and supplements',\n",
              "  'the national vaccine injury compensation program',\n",
              "  'where will my vaccination information be recorded?',\n",
              "  'what are the risks from je vaccine?',\n",
              "  'what is the countermeasures injury compensation program',\n",
              "  'who should get je vaccine and when?',\n",
              "  'what is the countermeasures injury compensation program?',\n",
              "  'who should not get td vaccine or should wait?',\n",
              "  'what should i do in case of overdose?',\n",
              "  'what if there is a serious reaction?',\n",
              "  'what is inactivated or recombinant influenza vaccine?',\n",
              "  'precautions',\n",
              "  'what if there is a severe reaction?']}"
            ]
          },
          "metadata": {
            "tags": []
          },
          "execution_count": 401
        }
      ]
    },
    {
      "cell_type": "code",
      "metadata": {
        "id": "2nTXHWoepd61",
        "colab": {
          "base_uri": "https://localhost:8080/",
          "height": 283
        },
        "outputId": "0fdb1318-38c6-49d5-e3b7-ecbaa0ec9893"
      },
      "source": [
        "plt.bar(list(clusters.keys()), [len(value) for value in clusters.values()])"
      ],
      "execution_count": 402,
      "outputs": [
        {
          "output_type": "execute_result",
          "data": {
            "text/plain": [
              "<BarContainer object of 5 artists>"
            ]
          },
          "metadata": {
            "tags": []
          },
          "execution_count": 402
        },
        {
          "output_type": "display_data",
          "data": {
            "image/png": "[encoded data removed]",
            "text/plain": [
              "<Figure size 432x288 with 1 Axes>"
            ]
          },
          "metadata": {
            "tags": [],
            "needs_background": "light"
          }
        }
      ]
    },
    {
      "cell_type": "code",
      "metadata": {
        "id": "M217IEgxGuJH"
      },
      "source": [
        ""
      ],
      "execution_count": null,
      "outputs": []
    }
  ]
}
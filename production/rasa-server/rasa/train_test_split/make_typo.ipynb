{
 "cells": [
  {
   "cell_type": "code",
   "execution_count": 1,
   "source": [
    "import random\n",
    "from tqdm import tqdm\n",
    "from ruamel import yaml\n",
    "import string"
   ],
   "outputs": [],
   "metadata": {}
  },
  {
   "cell_type": "code",
   "execution_count": 2,
   "source": [
    "nlu_file = 'test_data.yml'"
   ],
   "outputs": [],
   "metadata": {}
  },
  {
   "cell_type": "code",
   "execution_count": 3,
   "source": [
    "with open(nlu_file, 'r') as f:\n",
    "            nlu_dict = yaml.load(f, Loader=yaml.RoundTripLoader)"
   ],
   "outputs": [],
   "metadata": {}
  },
  {
   "cell_type": "code",
   "execution_count": 4,
   "source": [
    "nlu_dict['nlu'][0]"
   ],
   "outputs": [
    {
     "output_type": "execute_result",
     "data": {
      "text/plain": [
       "ordereddict([('intent', 'inform_lab'), ('examples', '- [bcr abl genetic](lab) is what it is\\n- its name is [glaucoma tests](lab)\\n- [pku screening](lab) is what it is called\\n')])"
      ]
     },
     "metadata": {},
     "execution_count": 4
    }
   ],
   "metadata": {}
  },
  {
   "cell_type": "code",
   "execution_count": 5,
   "source": [
    "nlu_dict['nlu'][0]['examples']"
   ],
   "outputs": [
    {
     "output_type": "execute_result",
     "data": {
      "text/plain": [
       "'- [bcr abl genetic](lab) is what it is\\n- its name is [glaucoma tests](lab)\\n- [pku screening](lab) is what it is called\\n'"
      ]
     },
     "metadata": {},
     "execution_count": 5
    }
   ],
   "metadata": {}
  },
  {
   "cell_type": "code",
   "execution_count": 6,
   "source": [
    "nlu_dict['nlu'][0]['examples'].split('\\n')"
   ],
   "outputs": [
    {
     "output_type": "execute_result",
     "data": {
      "text/plain": [
       "['- [bcr abl genetic](lab) is what it is',\n",
       " '- its name is [glaucoma tests](lab)',\n",
       " '- [pku screening](lab) is what it is called',\n",
       " '']"
      ]
     },
     "metadata": {},
     "execution_count": 6
    }
   ],
   "metadata": {}
  },
  {
   "cell_type": "code",
   "execution_count": 7,
   "source": [
    "examples = nlu_dict['nlu'][0]['examples'].split('\\n')[:-1]\n",
    "examples"
   ],
   "outputs": [
    {
     "output_type": "execute_result",
     "data": {
      "text/plain": [
       "['- [bcr abl genetic](lab) is what it is',\n",
       " '- its name is [glaucoma tests](lab)',\n",
       " '- [pku screening](lab) is what it is called']"
      ]
     },
     "metadata": {},
     "execution_count": 7
    }
   ],
   "metadata": {}
  },
  {
   "cell_type": "code",
   "execution_count": 8,
   "source": [
    "example = examples[0]"
   ],
   "outputs": [],
   "metadata": {}
  },
  {
   "cell_type": "code",
   "execution_count": 9,
   "source": [
    "example.index('](lab)')"
   ],
   "outputs": [
    {
     "output_type": "execute_result",
     "data": {
      "text/plain": [
       "18"
      ]
     },
     "metadata": {},
     "execution_count": 9
    }
   ],
   "metadata": {}
  },
  {
   "cell_type": "code",
   "execution_count": 10,
   "source": [
    "len('](lab)')"
   ],
   "outputs": [
    {
     "output_type": "execute_result",
     "data": {
      "text/plain": [
       "6"
      ]
     },
     "metadata": {},
     "execution_count": 10
    }
   ],
   "metadata": {}
  },
  {
   "cell_type": "code",
   "execution_count": 11,
   "source": [
    "list(range(18, 24))"
   ],
   "outputs": [
    {
     "output_type": "execute_result",
     "data": {
      "text/plain": [
       "[18, 19, 20, 21, 22, 23]"
      ]
     },
     "metadata": {},
     "execution_count": 11
    }
   ],
   "metadata": {}
  },
  {
   "cell_type": "code",
   "execution_count": 25,
   "source": [
    "example = '  - its name is [shingrix](drug)'\n",
    "\n",
    "inds = [i for i, letter in enumerate(example) if letter not in string.punctuation + ' ']\n",
    "inds_not_entity = inds\n",
    "\n",
    "for entity in ['drug', 'lab']:\n",
    "    if entity in example:\n",
    "        start = example.index(f']({entity})')\n",
    "        end = start + len(f']({entity})')\n",
    "        entity_tag = list(range(start, end))\n",
    "        inds_not_entity = list(set(inds) - set(entity_tag))\n",
    "\n",
    "sample = random.sample(inds_not_entity, 1)\n",
    "\n",
    "lst = list(example)\n",
    "for ind in sample:\n",
    "    lst[ind] = random.choice(string.ascii_letters)\n",
    "\n",
    "print(\"\".join(lst))"
   ],
   "outputs": [
    {
     "output_type": "stream",
     "name": "stdout",
     "text": [
      "  - its nNme is [shingrix](drug)\n"
     ]
    }
   ],
   "metadata": {}
  },
  {
   "cell_type": "code",
   "execution_count": 67,
   "source": [
    "len(nlu_dict['nlu'])"
   ],
   "outputs": [
    {
     "output_type": "execute_result",
     "data": {
      "text/plain": [
       "348"
      ]
     },
     "metadata": {},
     "execution_count": 67
    }
   ],
   "metadata": {}
  },
  {
   "cell_type": "code",
   "execution_count": 27,
   "source": [
    "for key in nlu_dict['nlu']:\n",
    "    examples = key['examples'].split('\\n')[:-1]\n",
    "    typo_examples = \"\"\n",
    "\n",
    "    for example in examples:\n",
    "        inds = [i for i, letter in enumerate(example) if letter not in string.punctuation + ' ']\n",
    "        inds_not_entity = inds\n",
    "\n",
    "        for entity in ['drug', 'lab']:\n",
    "            if f']({entity})' in example:\n",
    "                start = example.index(f']({entity})')\n",
    "                end = start + len(f']({entity})')\n",
    "                entity_tag = list(range(start, end))\n",
    "                inds_not_entity = list(set(inds) - set(entity_tag))\n",
    "\n",
    "        sample = random.sample(inds_not_entity, 1)\n",
    "\n",
    "        lst = list(example)\n",
    "        for ind in sample:\n",
    "            lst[ind] = random.choice(string.ascii_letters)\n",
    "\n",
    "        typo_examples += \"\".join(lst) + '\\n'\n",
    "    \n",
    "    key['examples'] = typo_examples"
   ],
   "outputs": [],
   "metadata": {}
  },
  {
   "cell_type": "code",
   "execution_count": 28,
   "source": [
    "new_nlu_file = 'test_typo_data.yml'"
   ],
   "outputs": [],
   "metadata": {}
  },
  {
   "cell_type": "code",
   "execution_count": 29,
   "source": [
    "with open(new_nlu_file, 'w') as f:\n",
    "        yaml.dump(nlu_dict, f, Dumper=yaml.RoundTripDumper)"
   ],
   "outputs": [],
   "metadata": {}
  },
  {
   "cell_type": "code",
   "execution_count": null,
   "source": [],
   "outputs": [],
   "metadata": {}
  }
 ],
 "metadata": {
  "orig_nbformat": 4,
  "language_info": {
   "name": "python",
   "version": "3.8.10",
   "mimetype": "text/x-python",
   "codemirror_mode": {
    "name": "ipython",
    "version": 3
   },
   "pygments_lexer": "ipython3",
   "nbconvert_exporter": "python",
   "file_extension": ".py"
  },
  "kernelspec": {
   "name": "python3",
   "display_name": "Python 3.8.10 64-bit ('rasa_env': conda)"
  },
  "interpreter": {
   "hash": "b9e77e4331c8e490ad22ef0fbad63e862cf4417f0829976e69e16eb140eb7704"
  }
 },
 "nbformat": 4,
 "nbformat_minor": 2
}
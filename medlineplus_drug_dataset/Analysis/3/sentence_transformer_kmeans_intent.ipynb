{
  "nbformat": 4,
  "nbformat_minor": 0,
  "metadata": {
    "colab": {
      "name": "question_analysis.ipynb",
      "provenance": [],
      "collapsed_sections": [
        "Oc-pw8bNpd6v"
      ],
      "toc_visible": true
    },
    "kernelspec": {
      "name": "python3",
      "display_name": "Python 3.8.10 64-bit ('pytorch': conda)"
    },
    "language_info": {
      "name": "python",
      "version": "3.8.10",
      "mimetype": "text/x-python",
      "codemirror_mode": {
        "name": "ipython",
        "version": 3
      },
      "pygments_lexer": "ipython3",
      "nbconvert_exporter": "python",
      "file_extension": ".py"
    },
    "interpreter": {
      "hash": "dbcd7f02d28daa63d27fd787b597e2cb313718228ecc293911e8c98c2dcb8b8b"
    }
  },
  "cells": [
    {
      "cell_type": "code",
      "metadata": {
        "id": "O07VZHB1q3LV"
      },
      "source": [
        "import re\n",
        "import nltk\n",
        "import random\n",
        "import numpy as np\n",
        "import pandas as pd\n",
        "import gensim.downloader\n",
        "import matplotlib.pyplot as plt\n",
        "from nltk.corpus import stopwords\n",
        "from nltk.stem.wordnet import WordNetLemmatizer\n",
        "from sklearn.cluster import KMeans\n",
        "from sklearn.manifold import TSNE\n",
        "from sklearn.decomposition import PCA\n",
        "from sentence_transformers import SentenceTransformer"
      ],
      "execution_count": 219,
      "outputs": []
    },
    {
      "cell_type": "markdown",
      "metadata": {
        "id": "aKr0Uyd6pd6c"
      },
      "source": [
        "# Load data"
      ]
    },
    {
      "cell_type": "code",
      "metadata": {
        "colab": {
          "base_uri": "https://localhost:8080/"
        },
        "id": "vRSNOFKpq3OW",
        "outputId": "87f48d7c-aa86-40ce-99c8-0f792af67d1d"
      },
      "source": [
        "import pandas as pd\n",
        "df = pd.read_csv('drug_dataset.csv')\n",
        "df = pd.DataFrame(df)\n",
        "df['title']"
      ],
      "execution_count": 28,
      "outputs": [
        {
          "output_type": "execute_result",
          "data": {
            "text/plain": [
              "0                       Why is this medication prescribed?\n",
              "1                        How should this medicine be used?\n",
              "2                             Other uses for this medicine\n",
              "3                What special precautions should I follow?\n",
              "4        What special dietary instructions should I fol...\n",
              "                               ...                        \n",
              "17738                What other information should I know?\n",
              "17739                                          Brand names\n",
              "17740                        In case of emergency/overdose\n",
              "17741                What other information should I know?\n",
              "17742                                          Brand names\n",
              "Name: title, Length: 17743, dtype: object"
            ]
          },
          "metadata": {
            "tags": []
          },
          "execution_count": 28
        }
      ]
    },
    {
      "cell_type": "markdown",
      "metadata": {
        "id": "6i908svrpd6h"
      },
      "source": [
        "# Take unique titles"
      ]
    },
    {
      "cell_type": "code",
      "metadata": {
        "colab": {
          "base_uri": "https://localhost:8080/"
        },
        "id": "qmFzvDlDpd6i",
        "outputId": "c602db08-3d87-41ce-aee2-52638555e616"
      },
      "source": [
        "titles = set(df['title'].str.lower())\n",
        "sentences = list(titles)\n",
        "len(sentences)"
      ],
      "execution_count": 29,
      "outputs": [
        {
          "output_type": "execute_result",
          "data": {
            "text/plain": [
              "136"
            ]
          },
          "metadata": {
            "tags": []
          },
          "execution_count": 29
        }
      ]
    },
    {
      "cell_type": "markdown",
      "metadata": {
        "id": "LH11J2Idpd6k"
      },
      "source": [
        "# Analyze Our Vocabulary "
      ]
    },
    {
      "cell_type": "code",
      "metadata": {
        "id": "gRneUT8bEJdA"
      },
      "source": [
        "stemmer = nltk.stem.SnowballStemmer('english')\n",
        "lemmatizer = WordNetLemmatizer()"
      ],
      "execution_count": 220,
      "outputs": []
    },
    {
      "cell_type": "code",
      "metadata": {
        "colab": {
          "base_uri": "https://localhost:8080/"
        },
        "id": "Hx6Yium1pd6l",
        "outputId": "da5d0042-dc74-4211-cbae-f0adbb10e64a"
      },
      "source": [
        "word_list = [] \n",
        "sentence_list = []\n",
        "stemmed_sentence_list = []\n",
        "stemmed_words = []\n",
        "remove_pattern = '[\\(\\):\\?0-9.,]'\n",
        "split_pattern = '/| |-|—'\n",
        "\n",
        "for sentence in sentences:\n",
        "    word_in_sentence = re.split(split_pattern, sentence)\n",
        "    word_in_sentence = [re.sub(remove_pattern, '', word) for word in word_in_sentence if len(re.sub(remove_pattern, '', word)) > 1]\n",
        "    stemmed_words_in_sentence = [stemmer.stem(lemmatizer.lemmatize(word)) for word in word_in_sentence]\n",
        "    sentence_list.append(word_in_sentence)\n",
        "    word_list += word_in_sentence \n",
        "    stemmed_sentence_list.append(stemmed_words_in_sentence)\n",
        "    stemmed_words += stemmed_words_in_sentence \n",
        "\n",
        "len(word_list)"
      ],
      "execution_count": 225,
      "outputs": [
        {
          "output_type": "execute_result",
          "data": {
            "text/plain": [
              "824"
            ]
          },
          "metadata": {
            "tags": []
          },
          "execution_count": 225
        }
      ]
    },
    {
      "cell_type": "code",
      "metadata": {
        "colab": {
          "base_uri": "https://localhost:8080/"
        },
        "id": "GR1nS-CRpd6m",
        "outputId": "2f519ef9-3588-44d9-cc50-aa9ed15c6eba"
      },
      "source": [
        "word_set = list(set(word_list))\n",
        "stemmed_word_set = list(set(stemmed_words))\n",
        "len(word_set)"
      ],
      "execution_count": 227,
      "outputs": [
        {
          "output_type": "execute_result",
          "data": {
            "text/plain": [
              "164"
            ]
          },
          "metadata": {
            "tags": []
          },
          "execution_count": 227
        }
      ]
    },
    {
      "cell_type": "code",
      "metadata": {
        "colab": {
          "base_uri": "https://localhost:8080/"
        },
        "id": "FCOH2DFIFL76",
        "outputId": "f90c1b2a-4e91-4b01-8d4e-a29cb92b48cf"
      },
      "source": [
        "len(stemmed_word_set)"
      ],
      "execution_count": 228,
      "outputs": [
        {
          "output_type": "execute_result",
          "data": {
            "text/plain": [
              "156"
            ]
          },
          "metadata": {
            "tags": []
          },
          "execution_count": 228
        }
      ]
    },
    {
      "cell_type": "code",
      "metadata": {
        "id": "yUBiRm9Epd6n"
      },
      "source": [
        "stop_words = set(stopwords.words('english'))"
      ],
      "execution_count": 36,
      "outputs": []
    },
    {
      "cell_type": "code",
      "metadata": {
        "colab": {
          "base_uri": "https://localhost:8080/"
        },
        "id": "-C5R_AP4pd6p",
        "outputId": "b033e96d-f024-4b58-b0c8-c462b0990b75"
      },
      "source": [
        "common_words = [word for word in word_set if word in stop_words]\n",
        "rare_words = [word for word in word_set if word not in stop_words]\n",
        "stemmed_common_words = [word for word in word_set if word in stop_words]\n",
        "stemmed_rare_words = [word for word in stemmed_word_set if word not in stop_words]\n",
        "\n",
        "print(f\"Number of unique words: {len(word_set)}\\n\\\n",
        "Number of stop words in out dictionary: {len(common_words)}\\n\\\n",
        "Number of rare words in out dictionary: {len(rare_words)}\\n\\\n",
        "Number of stemmed stop words in out dictionary: {len(stemmed_common_words)}\\n\\\n",
        "Number of stemmed rare words in out dictionary: {len(stemmed_rare_words)}\")"
      ],
      "execution_count": 230,
      "outputs": [
        {
          "output_type": "stream",
          "text": [
            "Number of unique words: 164\n",
            "Number of stop words in out dictionary: 37\n",
            "Number of rare words in out dictionary: 127\n",
            "Number of stemmed stop words in out dictionary: 37\n",
            "Number of stemmed rare words in out dictionary: 120\n"
          ],
          "name": "stdout"
        }
      ]
    },
    {
      "cell_type": "markdown",
      "metadata": {
        "id": "DWC11JhI0oy0"
      },
      "source": [
        "## Pretrained Word2Vec"
      ]
    },
    {
      "cell_type": "code",
      "metadata": {
        "id": "MFLRoghkpd6p"
      },
      "source": [
        "word2vec_model = gensim.downloader.load('word2vec-google-news-300')"
      ],
      "execution_count": 79,
      "outputs": []
    },
    {
      "cell_type": "code",
      "metadata": {
        "id": "wuSIePhnuiGh"
      },
      "source": [
        "out_of_vocabulary = ['laiv', 'pcv', 'ipv', 'ppsv', 'moderna', 'mmr', 'covid', 'tdap', 'biontech', 'hib', 'janssen', 'dtap']\n",
        "rare_vectors = [word2vec_model[rare_word] for rare_word in rare_words if rare_word not in out_of_vocabulary]\n",
        "rare_vectors = np.array(rare_vectors)"
      ],
      "execution_count": 72,
      "outputs": []
    },
    {
      "cell_type": "code",
      "metadata": {
        "colab": {
          "base_uri": "https://localhost:8080/"
        },
        "id": "wyomYpNiy7XF",
        "outputId": "dbd8f5fb-f634-4d32-8575-702a22087656"
      },
      "source": [
        "rare_vectors.shape"
      ],
      "execution_count": 4,
      "outputs": [
        {
          "output_type": "execute_result",
          "data": {
            "text/plain": [
              "(115, 300)"
            ]
          },
          "metadata": {
            "tags": []
          },
          "execution_count": 4
        }
      ]
    },
    {
      "cell_type": "code",
      "metadata": {
        "colab": {
          "base_uri": "https://localhost:8080/"
        },
        "id": "SjqIL15HzQuy",
        "outputId": "7b3ecf0f-7ba4-4fca-e512-95444be9cbfb"
      },
      "source": [
        "pca = PCA(n_components=2)\n",
        "reduced_data = pca.fit_transform(rare_vectors)\n",
        "reduced_data.shape"
      ],
      "execution_count": 18,
      "outputs": [
        {
          "output_type": "execute_result",
          "data": {
            "text/plain": [
              "(115, 2)"
            ]
          },
          "metadata": {
            "tags": []
          },
          "execution_count": 18
        }
      ]
    },
    {
      "cell_type": "code",
      "metadata": {
        "colab": {
          "base_uri": "https://localhost:8080/",
          "height": 283
        },
        "id": "26u8494Uzk8S",
        "outputId": "e51c6cb5-4066-4fd4-972b-4eb7c59a8fc2"
      },
      "source": [
        "plt.scatter(reduced_data.T[0], reduced_data.T[1], marker='o', color='r')"
      ],
      "execution_count": 19,
      "outputs": [
        {
          "output_type": "execute_result",
          "data": {
            "text/plain": [
              "<matplotlib.collections.PathCollection at 0x7fe76cced190>"
            ]
          },
          "metadata": {
            "tags": []
          },
          "execution_count": 19
        },
        {
          "output_type": "display_data",
          "data": {
            "image/png": "[encoded data removed]",
            "text/plain": [
              "<Figure size 432x288 with 1 Axes>"
            ]
          },
          "metadata": {
            "tags": [],
            "needs_background": "light"
          }
        }
      ]
    },
    {
      "cell_type": "markdown",
      "metadata": {
        "id": "Fnav9AqU04eh"
      },
      "source": [
        "## Training Word2Vec Model"
      ]
    },
    {
      "cell_type": "code",
      "metadata": {
        "id": "1bKc_uLp1Enj"
      },
      "source": [
        "from gensim.models import Word2Vec"
      ],
      "execution_count": 72,
      "outputs": []
    },
    {
      "cell_type": "code",
      "metadata": {
        "colab": {
          "base_uri": "https://localhost:8080/"
        },
        "id": "hE9LyLc91Rdi",
        "outputId": "f339193e-ab81-4977-aff5-fc1d78c25947"
      },
      "source": [
        "trained_model = Word2Vec(size=300, window=5, min_count=1)\n",
        "trained_model.build_vocab(stemmed_sentence_list)\n",
        "trained_model.train(stemmed_sentence_list, total_examples=trained_model.corpus_count, epochs=1000)"
      ],
      "execution_count": 271,
      "outputs": [
        {
          "output_type": "execute_result",
          "data": {
            "text/plain": [
              "(346381, 824000)"
            ]
          },
          "metadata": {
            "tags": []
          },
          "execution_count": 271
        }
      ]
    },
    {
      "cell_type": "code",
      "metadata": {
        "colab": {
          "base_uri": "https://localhost:8080/"
        },
        "id": "0h53t_6_1mq2",
        "outputId": "5a55835c-5dd1-468c-a0e1-e72d7e12c0ce"
      },
      "source": [
        "rare_vectors = [trained_model[word] for word in stemmed_rare_words]\n",
        "rare_vectors = np.array(rare_vectors)"
      ],
      "execution_count": 272,
      "outputs": [
        {
          "output_type": "stream",
          "text": [
            "/usr/local/lib/python3.7/dist-packages/ipykernel_launcher.py:1: DeprecationWarning: Call to deprecated `__getitem__` (Method will be removed in 4.0.0, use self.wv.__getitem__() instead).\n",
            "  \"\"\"Entry point for launching an IPython kernel.\n"
          ],
          "name": "stderr"
        }
      ]
    },
    {
      "cell_type": "code",
      "metadata": {
        "colab": {
          "base_uri": "https://localhost:8080/"
        },
        "id": "hJ7Audmi47Fr",
        "outputId": "a36126e3-34c2-4067-a3bd-b58fc75b1227"
      },
      "source": [
        "pca = PCA(n_components=2)\n",
        "reduced_data = pca.fit_transform(rare_vectors)\n",
        "reduced_data.shape"
      ],
      "execution_count": 273,
      "outputs": [
        {
          "output_type": "execute_result",
          "data": {
            "text/plain": [
              "(120, 2)"
            ]
          },
          "metadata": {
            "tags": []
          },
          "execution_count": 273
        }
      ]
    },
    {
      "cell_type": "code",
      "metadata": {
        "colab": {
          "base_uri": "https://localhost:8080/",
          "height": 283
        },
        "id": "EjRylCBE6r0W",
        "outputId": "3aa63116-0d3e-465a-dd32-dbf4cd2f081d"
      },
      "source": [
        "plt.scatter(rare_vectors.T[0], rare_vectors.T[1], marker='o', color='r')"
      ],
      "execution_count": 274,
      "outputs": [
        {
          "output_type": "execute_result",
          "data": {
            "text/plain": [
              "<matplotlib.collections.PathCollection at 0x7fe7678ccc10>"
            ]
          },
          "metadata": {
            "tags": []
          },
          "execution_count": 274
        },
        {
          "output_type": "display_data",
          "data": {
            "image/png": "[encoded data removed]",
            "text/plain": [
              "<Figure size 432x288 with 1 Axes>"
            ]
          },
          "metadata": {
            "tags": [],
            "needs_background": "light"
          }
        }
      ]
    },
    {
      "cell_type": "markdown",
      "metadata": {
        "id": "JaT_hGmeDfq5"
      },
      "source": [
        "## Vocabulary clustering"
      ]
    },
    {
      "cell_type": "code",
      "metadata": {
        "colab": {
          "base_uri": "https://localhost:8080/",
          "height": 295
        },
        "id": "EWW_yVlX-Pt5",
        "outputId": "6d489142-5da5-4378-fed3-145a4125b680"
      },
      "source": [
        "SSE = []\n",
        "\n",
        "for k in range(1, 60):\n",
        "    kmeans = KMeans(n_clusters = k)\n",
        "    kmeans.fit(rare_vectors)\n",
        "    SSE.append(kmeans.inertia_)\n",
        "    \n",
        "plt.plot(range(1, 60), SSE, 'bx-')\n",
        "plt.title('Elbow Method')\n",
        "plt.xlabel('cluster numbers')\n",
        "plt.show()"
      ],
      "execution_count": 275,
      "outputs": [
        {
          "output_type": "display_data",
          "data": {
            "image/png": "[encoded data removed]",
            "text/plain": [
              "<Figure size 432x288 with 1 Axes>"
            ]
          },
          "metadata": {
            "tags": [],
            "needs_background": "light"
          }
        }
      ]
    },
    {
      "cell_type": "code",
      "metadata": {
        "colab": {
          "base_uri": "https://localhost:8080/"
        },
        "id": "oprp6oP9-oBI",
        "outputId": "36e91cd5-8e77-46dd-d4ee-30985d22da61"
      },
      "source": [
        "n_clusters = 30\n",
        "\n",
        "km = KMeans(n_clusters=n_clusters)\n",
        "\n",
        "km.fit(rare_vectors)\n",
        "centers = km.cluster_centers_.argsort()[:,::-1]\n",
        "\n",
        "print(\"Len of Labels: \",\n",
        "       len(set(km.labels_)), \n",
        "       \" Params: \", \n",
        "       km.get_params())"
      ],
      "execution_count": 276,
      "outputs": [
        {
          "output_type": "stream",
          "text": [
            "Len of Labels:  30  Params:  {'algorithm': 'auto', 'copy_x': True, 'init': 'k-means++', 'max_iter': 300, 'n_clusters': 30, 'n_init': 10, 'n_jobs': None, 'precompute_distances': 'auto', 'random_state': None, 'tol': 0.0001, 'verbose': 0}\n"
          ],
          "name": "stdout"
        }
      ]
    },
    {
      "cell_type": "code",
      "metadata": {
        "colab": {
          "base_uri": "https://localhost:8080/"
        },
        "id": "AA2P02rP-v_c",
        "outputId": "cf0cb81a-e98f-46c1-8dde-f3bf616ea234"
      },
      "source": [
        "clusters = {}\n",
        "\n",
        "for i, word in enumerate(stemmed_rare_words):\n",
        "    if km.predict(rare_vectors[i].reshape(-1, 1).T)[0] in clusters.keys():\n",
        "      clusters[km.predict(rare_vectors[i].reshape(-1, 1).T)[0]].append(word)\n",
        "    else:\n",
        "      clusters[km.predict(rare_vectors[i].reshape(-1, 1).T)[0]] = [word]\n",
        "\n",
        "clusters"
      ],
      "execution_count": 277,
      "outputs": [
        {
          "output_type": "execute_result",
          "data": {
            "text/plain": [
              "{0: ['administr', 'fee', 'charg'],\n",
              " 1: ['warn', 'import', 'topic', 'relat'],\n",
              " 2: ['nation', 'compens', 'injuri', 'program', 'countermeasur'],\n",
              " 3: ['hpv', 'td', 'tdap', 'ipv', 'group', 'hib'],\n",
              " 4: ['notic',\n",
              "  'diseas',\n",
              "  'vaccin',\n",
              "  'japanes',\n",
              "  'drug',\n",
              "  'mmr',\n",
              "  'enceph',\n",
              "  'chickenpox',\n",
              "  'supplement',\n",
              "  'herb',\n",
              "  'avail',\n",
              "  'rotavirus'],\n",
              " 5: ['janssen', 'johnson'],\n",
              " 6: ['dispos', 'storag', 'know'],\n",
              " 7: ['effect', 'side', 'caus'],\n",
              " 8: ['emerg', 'case', 'report', 'overdos', 'fraud', 'suspect'],\n",
              " 9: ['special', 'instruct', 'precaut', 'dietari', 'follow'],\n",
              " 10: ['combin', 'name', 'product'],\n",
              " 11: ['moder', 'sever', 'problem', 'serious', 'reaction'],\n",
              " 12: ['dose', 'forget'],\n",
              " 13: ['pfizer', 'moderna', 'biontech'],\n",
              " 14: ['child', 'dtap', 'peopl', 'babi'],\n",
              " 15: ['recombin', 'live'],\n",
              " 16: ['card',\n",
              "  'talk',\n",
              "  'provid',\n",
              "  'care',\n",
              "  'health',\n",
              "  'treatment',\n",
              "  'keep',\n",
              "  'doctor'],\n",
              " 17: ['tell', 'person'],\n",
              " 18: ['yellow', 'fever', 'prevent', 'learn'],\n",
              " 19: ['je', 'typhoid', 'meningococc', 'hepat', 'rabi', 'polio', 'anthrax'],\n",
              " 20: ['cholera', 'pcv', 'receiv'],\n",
              " 21: ['brows', 'generic', 'brand'],\n",
              " 22: ['pneumococc', 'polysaccharid', 'ppsv'],\n",
              " 23: ['prescrib', 'whi'],\n",
              " 24: ['get', 'wait'],\n",
              " 25: ['record', 'inform'],\n",
              " 26: ['laiv', 'inactiv', 'influenza', 'attenu', 'nasal', 'spray', 'shingl'],\n",
              " 27: ['use', 'medicin', 'us', 'medic'],\n",
              " 28: ['benefit', 'risk'],\n",
              " 29: ['covid', 'given', 'give']}"
            ]
          },
          "metadata": {
            "tags": []
          },
          "execution_count": 277
        }
      ]
    },
    {
      "cell_type": "code",
      "metadata": {
        "colab": {
          "base_uri": "https://localhost:8080/",
          "height": 283
        },
        "id": "jOm6jGZGB-TO",
        "outputId": "0e18aebe-3561-4859-f966-c2824b32aa61"
      },
      "source": [
        "plt.bar(list(clusters.keys()), [len(value) for value in clusters.values()])"
      ],
      "execution_count": 278,
      "outputs": [
        {
          "output_type": "execute_result",
          "data": {
            "text/plain": [
              "<BarContainer object of 30 artists>"
            ]
          },
          "metadata": {
            "tags": []
          },
          "execution_count": 278
        },
        {
          "output_type": "display_data",
          "data": {
            "image/png": "[encoded data removed]",
            "text/plain": [
              "<Figure size 432x288 with 1 Axes>"
            ]
          },
          "metadata": {
            "tags": [],
            "needs_background": "light"
          }
        }
      ]
    },
    {
      "cell_type": "markdown",
      "metadata": {
        "id": "xLPPdHaZJ5FM"
      },
      "source": [
        "# Sentence Clustering"
      ]
    },
    {
      "cell_type": "markdown",
      "metadata": {
        "id": "7ZGCHhGKpd6q"
      },
      "source": [
        "## Randomly choose 30 samples of a data"
      ]
    },
    {
      "cell_type": "code",
      "metadata": {
        "id": "cwkHkt3gpd6r"
      },
      "source": [
        "test_cases = random.sample(range(0, len(sentences) - 1), 30)"
      ],
      "execution_count": null,
      "outputs": []
    },
    {
      "cell_type": "code",
      "metadata": {
        "id": "lP_XbnYypd6r"
      },
      "source": [
        "model = SentenceTransformer('paraphrase-mpnet-base-v2')"
      ],
      "execution_count": null,
      "outputs": []
    },
    {
      "cell_type": "code",
      "metadata": {
        "id": "M-BdvYaHpd6s"
      },
      "source": [
        "sentence_embeddings = model.encode(sentences)"
      ],
      "execution_count": null,
      "outputs": []
    },
    {
      "cell_type": "code",
      "metadata": {
        "id": "2cG8-Ioopd6s",
        "outputId": "2ba4defa-7aa3-4c4f-c6af-9f8a0b0a7b97"
      },
      "source": [
        "# sentence_embeddings[0]\n",
        "sentence_embeddings.shape"
      ],
      "execution_count": null,
      "outputs": [
        {
          "output_type": "execute_result",
          "data": {
            "text/plain": [
              "(136, 768)"
            ]
          },
          "metadata": {
            "tags": []
          },
          "execution_count": 7
        }
      ]
    },
    {
      "cell_type": "markdown",
      "metadata": {
        "id": "bPtQVRxlpd6s"
      },
      "source": [
        "## Without dimensionality reduction"
      ]
    },
    {
      "cell_type": "code",
      "metadata": {
        "id": "pRrJOvuPpd6t",
        "outputId": "0a8ac4e7-4a5b-471a-c635-01c00110c40e"
      },
      "source": [
        "SSE = []\n",
        "\n",
        "for k in range(1, 60):\n",
        "    kmeans = KMeans(n_clusters = k)\n",
        "    kmeans.fit(sentence_embeddings)\n",
        "    SSE.append(kmeans.inertia_)\n",
        "    \n",
        "plt.plot(range(1, 60), SSE, 'bx-')\n",
        "plt.title('Elbow Method')\n",
        "plt.xlabel('cluster numbers')\n",
        "plt.show()"
      ],
      "execution_count": null,
      "outputs": [
        {
          "output_type": "display_data",
          "data": {
            "text/plain": [
              "<Figure size 432x288 with 1 Axes>"
            ],
            "image/png": "[encoded data removed]"
          },
          "metadata": {
            "tags": [],
            "needs_background": "light"
          }
        }
      ]
    },
    {
      "cell_type": "code",
      "metadata": {
        "id": "RBSuHP5Gpd6u",
        "outputId": "19dee1ca-64df-4828-d7af-0c28b39f29cc"
      },
      "source": [
        "# Hyperparameter 1\n",
        "n_clusters = 10\n",
        "\n",
        "km = KMeans(n_clusters=n_clusters)\n",
        "\n",
        "km.fit(sentence_embeddings)\n",
        "centers = km.cluster_centers_.argsort()[:,::-1]\n",
        "\n",
        "print(\"Len of Labels: \",\n",
        "       len(set(km.labels_)), \n",
        "       \" Params: \", \n",
        "       km.get_params())"
      ],
      "execution_count": null,
      "outputs": [
        {
          "output_type": "stream",
          "text": [
            "Len of Labels:  10  Params:  {'algorithm': 'auto', 'copy_x': True, 'init': 'k-means++', 'max_iter': 300, 'n_clusters': 10, 'n_init': 10, 'n_jobs': 'deprecated', 'precompute_distances': 'deprecated', 'random_state': None, 'tol': 0.0001, 'verbose': 0}\n"
          ],
          "name": "stdout"
        }
      ]
    },
    {
      "cell_type": "code",
      "metadata": {
        "id": "5bqSQ2hdpd6v",
        "outputId": "59cba0a3-536f-4aeb-aa77-ac8aef280683"
      },
      "source": [
        "for i in test_cases:\n",
        "    print(sentences[i], km.predict(sentence_embeddings[i].reshape(-1, 1).T))"
      ],
      "execution_count": null,
      "outputs": [
        {
          "output_type": "stream",
          "text": [
            "rotavirus vaccine [0]\n",
            "what if there is a serious problem? [8]\n",
            "who should get this hpv vaccine and when? [4]\n",
            "some babies should not get this vaccine [4]\n",
            "notice: [9]\n",
            "what are the benefits of the moderna covid-19 vaccine? [6]\n",
            "will the pfizer-biontech covid-19 vaccine give me covid-19? [6]\n",
            "what is td vaccine? [0]\n",
            "other uses for this medicine [7]\n",
            "what is hib vaccine? [0]\n",
            "other names [3]\n",
            "where will my vaccination information be recorded? [0]\n",
            "what are the benefits of the janssen (johnson and johnson) vaccine? [2]\n",
            "mmr vaccine [0]\n",
            "what are the risks from this vaccine? [2]\n",
            "important warning:  [9]\n",
            "how is the janssen (johnson and johnson) covid-19 vaccine given? [6]\n",
            "what should you tell the person who is giving the vaccine? [4]\n",
            "how is the pfizer-biontech covid-19 vaccine given? [6]\n",
            "the national vaccine injury compensation program [2]\n",
            "injury compensation [5]\n",
            "what are the risks from typhoid vaccine? [2]\n",
            "what is anthrax vaccine? [0]\n",
            "cholera vaccine [2]\n",
            "related topics [3]\n",
            "who should not get ipv or should wait? [4]\n",
            "what is tdap vaccine? [0]\n",
            "hpv vaccine—why get vaccinated? [4]\n",
            "pneumococcal polysaccharide vaccine (ppsv23) [0]\n",
            "who should not receive the pcv13 vaccine? [4]\n"
          ],
          "name": "stdout"
        }
      ]
    },
    {
      "cell_type": "markdown",
      "metadata": {
        "id": "Oc-pw8bNpd6v"
      },
      "source": [
        "## Using combinition of dimensionality reduction and clustering\n",
        "\n",
        "### Credit:\n",
        "    - https://stats.stackexchange.com/a/256173/276359\n",
        "    - https://stats.stackexchange.com/a/99191/276359"
      ]
    },
    {
      "cell_type": "markdown",
      "metadata": {
        "id": "LZjt5cvjpd6v"
      },
      "source": [
        "## With PCA **bold text**"
      ]
    },
    {
      "cell_type": "code",
      "metadata": {
        "id": "UJMF7Cbvpd6v"
      },
      "source": [
        "# Hyperparameter 1 \n",
        "n_dimention = 10\n",
        "pca = PCA(n_components=n_dimention)\n",
        "reduced_data = pca.fit_transform(sentence_embeddings)"
      ],
      "execution_count": null,
      "outputs": []
    },
    {
      "cell_type": "code",
      "metadata": {
        "id": "YvEiu_3bpd6v",
        "outputId": "078d22ee-d7c9-4300-8284-a59d9f9ac821"
      },
      "source": [
        "reduced_data.shape"
      ],
      "execution_count": null,
      "outputs": [
        {
          "output_type": "execute_result",
          "data": {
            "text/plain": [
              "(136, 10)"
            ]
          },
          "metadata": {
            "tags": []
          },
          "execution_count": 14
        }
      ]
    },
    {
      "cell_type": "code",
      "metadata": {
        "colab": {
          "base_uri": "https://localhost:8080/",
          "height": 295
        },
        "id": "a74uYllTrjLL",
        "outputId": "2e99b0ac-0d35-4a30-f940-8cfb836c0f1b"
      },
      "source": [
        "SSE = []\n",
        "\n",
        "for k in range(1, 30):\n",
        "    kmeans = KMeans(n_clusters = k)\n",
        "    kmeans.fit(reduced_data)\n",
        "    SSE.append(kmeans.inertia_)\n",
        "    \n",
        "plt.plot(range(1, 30), SSE, 'bx-')\n",
        "plt.title('Elbow Method')\n",
        "plt.xlabel('cluster numbers')\n",
        "plt.show()"
      ],
      "execution_count": null,
      "outputs": [
        {
          "output_type": "display_data",
          "data": {
            "text/plain": [
              "<Figure size 432x288 with 1 Axes>"
            ],
            "image/png": "[encoded data removed]"
          },
          "metadata": {
            "tags": [],
            "needs_background": "light"
          }
        }
      ]
    },
    {
      "cell_type": "code",
      "metadata": {
        "colab": {
          "base_uri": "https://localhost:8080/"
        },
        "id": "Fkj1DNvw-SQ2",
        "outputId": "31cbdeb0-f669-46aa-870d-e55c368f4acd"
      },
      "source": [
        "# Hyperparameter 2\n",
        "n_clusters = 7\n",
        "\n",
        "km = KMeans(n_clusters=n_clusters)\n",
        "\n",
        "km.fit(reduced_data)\n",
        "centers = km.cluster_centers_.argsort()[:,::-1]\n",
        "\n",
        "print(\"Len of Labels: \",\n",
        "       len(set(km.labels_)), \n",
        "       \" Params: \", \n",
        "       km.get_params())"
      ],
      "execution_count": null,
      "outputs": [
        {
          "output_type": "stream",
          "text": [
            "Len of Labels:  7  Params:  {'algorithm': 'auto', 'copy_x': True, 'init': 'k-means++', 'max_iter': 300, 'n_clusters': 7, 'n_init': 10, 'n_jobs': 'deprecated', 'precompute_distances': 'deprecated', 'random_state': None, 'tol': 0.0001, 'verbose': 0}\n"
          ],
          "name": "stdout"
        }
      ]
    },
    {
      "cell_type": "code",
      "metadata": {
        "id": "-4mc0YTepd6x",
        "outputId": "e64367c5-fcaf-4202-ec15-04cbb30e05c9"
      },
      "source": [
        "len(centers[0])"
      ],
      "execution_count": null,
      "outputs": [
        {
          "output_type": "execute_result",
          "data": {
            "text/plain": [
              "10"
            ]
          },
          "metadata": {
            "tags": []
          },
          "execution_count": 20
        }
      ]
    },
    {
      "cell_type": "code",
      "metadata": {
        "id": "lIkt2gu3pd6y",
        "outputId": "f07dac40-cde1-40d3-df25-1a6d71327125"
      },
      "source": [
        "for i in test_cases:\n",
        "    print(sentences[i], km.predict(reduced_data[i].reshape(-1, 1).T))"
      ],
      "execution_count": null,
      "outputs": [
        {
          "output_type": "stream",
          "text": [
            "rotavirus vaccine [0]\n",
            "what if there is a serious problem? [3]\n",
            "who should get this hpv vaccine and when? [4]\n",
            "some babies should not get this vaccine [4]\n",
            "notice: [2]\n",
            "what are the benefits of the moderna covid-19 vaccine? [1]\n",
            "will the pfizer-biontech covid-19 vaccine give me covid-19? [1]\n",
            "what is td vaccine? [0]\n",
            "other uses for this medicine [6]\n",
            "what is hib vaccine? [0]\n",
            "other names [5]\n",
            "where will my vaccination information be recorded? [0]\n",
            "what are the benefits of the janssen (johnson and johnson) vaccine? [1]\n",
            "mmr vaccine [0]\n",
            "what are the risks from this vaccine? [1]\n",
            "important warning:  [2]\n",
            "how is the janssen (johnson and johnson) covid-19 vaccine given? [1]\n",
            "what should you tell the person who is giving the vaccine? [4]\n",
            "how is the pfizer-biontech covid-19 vaccine given? [1]\n",
            "the national vaccine injury compensation program [1]\n",
            "injury compensation [3]\n",
            "what are the risks from typhoid vaccine? [1]\n",
            "what is anthrax vaccine? [0]\n",
            "cholera vaccine [0]\n",
            "related topics [5]\n",
            "who should not get ipv or should wait? [2]\n",
            "what is tdap vaccine? [0]\n",
            "hpv vaccine—why get vaccinated? [4]\n",
            "pneumococcal polysaccharide vaccine (ppsv23) [0]\n",
            "who should not receive the pcv13 vaccine? [4]\n"
          ],
          "name": "stdout"
        }
      ]
    },
    {
      "cell_type": "markdown",
      "metadata": {
        "id": "a2JfzqNqpd6y"
      },
      "source": [
        "## With T-SNE (method = exact)"
      ]
    },
    {
      "cell_type": "code",
      "metadata": {
        "id": "Ib02L82Ypd6y"
      },
      "source": [
        "# Hyperparameter 1 \n",
        "n_dimention = 10\n",
        "tsne = TSNE(n_components=n_dimention, method='exact')\n",
        "reduced_data = tsne.fit_transform(sentence_embeddings)"
      ],
      "execution_count": null,
      "outputs": []
    },
    {
      "cell_type": "code",
      "metadata": {
        "id": "M0KZetPkpd6y",
        "outputId": "c7c2c3f5-71ba-49ee-97ef-a222f2e28c1d"
      },
      "source": [
        "SSE = []\n",
        "\n",
        "for k in range(1, 30):\n",
        "    kmeans = KMeans(n_clusters = k)\n",
        "    kmeans.fit(reduced_data)\n",
        "    SSE.append(kmeans.inertia_)\n",
        "    \n",
        "plt.plot(range(1, 30), SSE, 'bx-')\n",
        "plt.title('Elbow Method')\n",
        "plt.xlabel('cluster numbers')\n",
        "plt.show()"
      ],
      "execution_count": null,
      "outputs": [
        {
          "output_type": "display_data",
          "data": {
            "text/plain": [
              "<Figure size 432x288 with 1 Axes>"
            ],
            "image/png": "[encoded data removed]"
          },
          "metadata": {
            "tags": [],
            "needs_background": "light"
          }
        }
      ]
    },
    {
      "cell_type": "code",
      "metadata": {
        "id": "zmuCNnSYpd6z",
        "outputId": "be2c27e5-c206-4bb5-9289-54b23e9c870a"
      },
      "source": [
        "# Hyperparameter 2\n",
        "n_clusters = 7\n",
        "\n",
        "km = KMeans(n_clusters=n_clusters)\n",
        "\n",
        "km.fit(reduced_data)\n",
        "centers = km.cluster_centers_.argsort()[:,::-1]\n",
        "\n",
        "print(\"Len of Labels: \",\n",
        "       len(set(km.labels_)), \n",
        "       \" Params: \", \n",
        "       km.get_params())"
      ],
      "execution_count": null,
      "outputs": [
        {
          "output_type": "stream",
          "text": [
            "Len of Labels:  7  Params:  {'algorithm': 'auto', 'copy_x': True, 'init': 'k-means++', 'max_iter': 300, 'n_clusters': 7, 'n_init': 10, 'n_jobs': 'deprecated', 'precompute_distances': 'deprecated', 'random_state': None, 'tol': 0.0001, 'verbose': 0}\n"
          ],
          "name": "stdout"
        }
      ]
    },
    {
      "cell_type": "code",
      "metadata": {
        "id": "4b7lRQtApd6z",
        "outputId": "ffe66b83-c57b-45f7-ec04-20b3d3ebca42"
      },
      "source": [
        "for i in test_cases:\n",
        "    print(sentences[i], km.predict(reduced_data[i].reshape(-1, 1).T))"
      ],
      "execution_count": null,
      "outputs": [
        {
          "output_type": "stream",
          "text": [
            "rotavirus vaccine [4]\n",
            "what if there is a serious problem? [4]\n",
            "who should get this hpv vaccine and when? [4]\n",
            "some babies should not get this vaccine [1]\n",
            "notice: [3]\n",
            "what are the benefits of the moderna covid-19 vaccine? [4]\n",
            "will the pfizer-biontech covid-19 vaccine give me covid-19? [1]\n",
            "what is td vaccine? [6]\n",
            "other uses for this medicine [1]\n",
            "what is hib vaccine? [2]\n",
            "other names [2]\n",
            "where will my vaccination information be recorded? [2]\n",
            "what are the benefits of the janssen (johnson and johnson) vaccine? [0]\n",
            "mmr vaccine [6]\n",
            "what are the risks from this vaccine? [3]\n",
            "important warning:  [0]\n",
            "how is the janssen (johnson and johnson) covid-19 vaccine given? [0]\n",
            "what should you tell the person who is giving the vaccine? [3]\n",
            "how is the pfizer-biontech covid-19 vaccine given? [1]\n",
            "the national vaccine injury compensation program [6]\n",
            "injury compensation [1]\n",
            "what are the risks from typhoid vaccine? [6]\n",
            "what is anthrax vaccine? [1]\n",
            "cholera vaccine [6]\n",
            "related topics [3]\n",
            "who should not get ipv or should wait? [2]\n",
            "what is tdap vaccine? [3]\n",
            "hpv vaccine—why get vaccinated? [4]\n",
            "pneumococcal polysaccharide vaccine (ppsv23) [2]\n",
            "who should not receive the pcv13 vaccine? [6]\n"
          ],
          "name": "stdout"
        }
      ]
    },
    {
      "cell_type": "markdown",
      "metadata": {
        "id": "VYGrKgIMpd6z"
      },
      "source": [
        "## With T-SNE (method = barnes_hut)"
      ]
    },
    {
      "cell_type": "code",
      "metadata": {
        "id": "WukzaIe4pd60"
      },
      "source": [
        "# Hyperparameter 1 \n",
        "# Barnes–Hut method works only with less than 4 dimensions\n",
        "n_dimention = 3\n",
        "tsne = TSNE(n_components=n_dimention, method='barnes_hut')\n",
        "reduced_data = tsne.fit_transform(sentence_embeddings)"
      ],
      "execution_count": null,
      "outputs": []
    },
    {
      "cell_type": "code",
      "metadata": {
        "id": "1ZLYj736pd60",
        "outputId": "bc96ee78-0880-46e3-9617-edab7bbe7a7a"
      },
      "source": [
        "SSE = []\n",
        "\n",
        "for k in range(1, 30):\n",
        "    kmeans = KMeans(n_clusters = k)\n",
        "    kmeans.fit(reduced_data)\n",
        "    SSE.append(kmeans.inertia_)\n",
        "    \n",
        "plt.plot(range(1, 30), SSE, 'bx-')\n",
        "plt.title('Elbow Method')\n",
        "plt.xlabel('cluster numbers')\n",
        "plt.show()"
      ],
      "execution_count": null,
      "outputs": [
        {
          "output_type": "display_data",
          "data": {
            "text/plain": [
              "<Figure size 432x288 with 1 Axes>"
            ],
            "image/png": "[encoded data removed]"
          },
          "metadata": {
            "tags": [],
            "needs_background": "light"
          }
        }
      ]
    },
    {
      "cell_type": "code",
      "metadata": {
        "id": "XR5QSjXTpd60",
        "outputId": "6adbcca6-56cb-461d-bd0a-77f1093da78b"
      },
      "source": [
        "# Hyperparameter 2\n",
        "n_clusters = 5\n",
        "\n",
        "km = KMeans(n_clusters=n_clusters)\n",
        "\n",
        "km.fit(reduced_data)\n",
        "centers = km.cluster_centers_.argsort()[:,::-1]\n",
        "\n",
        "print(\"Len of Labels: \",\n",
        "       len(set(km.labels_)), \n",
        "       \" Params: \", \n",
        "       km.get_params())"
      ],
      "execution_count": null,
      "outputs": [
        {
          "output_type": "stream",
          "text": [
            "Len of Labels:  5  Params:  {'algorithm': 'auto', 'copy_x': True, 'init': 'k-means++', 'max_iter': 300, 'n_clusters': 5, 'n_init': 10, 'n_jobs': 'deprecated', 'precompute_distances': 'deprecated', 'random_state': None, 'tol': 0.0001, 'verbose': 0}\n"
          ],
          "name": "stdout"
        }
      ]
    },
    {
      "cell_type": "code",
      "metadata": {
        "id": "AM6KTnNDpd61",
        "outputId": "ca7f13c7-a5e9-4f2f-a62d-6aadac16a9d1"
      },
      "source": [
        "for i in test_cases:\n",
        "    print(sentences[i], km.predict(reduced_data[i].reshape(-1, 1).T))"
      ],
      "execution_count": null,
      "outputs": [
        {
          "output_type": "stream",
          "text": [
            "rotavirus vaccine [1]\n",
            "what if there is a serious problem? [1]\n",
            "who should get this hpv vaccine and when? [3]\n",
            "some babies should not get this vaccine [2]\n",
            "notice: [0]\n",
            "what are the benefits of the moderna covid-19 vaccine? [3]\n",
            "will the pfizer-biontech covid-19 vaccine give me covid-19? [3]\n",
            "what is td vaccine? [2]\n",
            "other uses for this medicine [4]\n",
            "what is hib vaccine? [3]\n",
            "other names [4]\n",
            "where will my vaccination information be recorded? [4]\n",
            "what are the benefits of the janssen (johnson and johnson) vaccine? [3]\n",
            "mmr vaccine [1]\n",
            "what are the risks from this vaccine? [4]\n",
            "important warning:  [0]\n",
            "how is the janssen (johnson and johnson) covid-19 vaccine given? [2]\n",
            "what should you tell the person who is giving the vaccine? [1]\n",
            "how is the pfizer-biontech covid-19 vaccine given? [3]\n",
            "the national vaccine injury compensation program [4]\n",
            "injury compensation [4]\n",
            "what are the risks from typhoid vaccine? [0]\n",
            "what is anthrax vaccine? [1]\n",
            "cholera vaccine [1]\n",
            "related topics [0]\n",
            "who should not get ipv or should wait? [3]\n",
            "what is tdap vaccine? [2]\n",
            "hpv vaccine—why get vaccinated? [1]\n",
            "pneumococcal polysaccharide vaccine (ppsv23) [4]\n",
            "who should not receive the pcv13 vaccine? [0]\n"
          ],
          "name": "stdout"
        }
      ]
    },
    {
      "cell_type": "code",
      "metadata": {
        "id": "2nTXHWoepd61"
      },
      "source": [
        ""
      ],
      "execution_count": null,
      "outputs": []
    }
  ]
}
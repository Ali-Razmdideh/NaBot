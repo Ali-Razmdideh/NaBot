{
 "cells": [
  {
   "cell_type": "code",
   "execution_count": 9,
   "source": [
    "import mysql.connector\n",
    "import pandas as pd\n",
    "from getpass import getpass"
   ],
   "outputs": [],
   "metadata": {}
  },
  {
   "cell_type": "code",
   "execution_count": 4,
   "source": [
    "password = getpass()"
   ],
   "outputs": [],
   "metadata": {}
  },
  {
   "cell_type": "code",
   "execution_count": 14,
   "source": [
    "mydb = mysql.connector.connect(\n",
    "  host=\"localhost\",\n",
    "  user=\"root\",\n",
    "  password=password,\n",
    "  port=\"3306\"\n",
    ")"
   ],
   "outputs": [],
   "metadata": {}
  },
  {
   "cell_type": "code",
   "execution_count": 19,
   "source": [
    "df = pd.read_csv('../../production/action-server/datasets/drugs_dataset.csv')"
   ],
   "outputs": [],
   "metadata": {}
  },
  {
   "cell_type": "code",
   "execution_count": 20,
   "source": [
    "df.columns"
   ],
   "outputs": [
    {
     "output_type": "execute_result",
     "data": {
      "text/plain": [
       "Index(['medicine', 'vitamin', 'before-taking', 'cautions', 'contraindications',\n",
       "       'directions', 'dosage', 'faq', 'fda-approval', 'interactions',\n",
       "       'patient-advice', 'patient-counseling', 'patient-education',\n",
       "       'pharmacokinetics', 'pharmacology', 'pregnancy', 'preparations',\n",
       "       'side-effects', 'storage', 'uses', 'warnings', 'what-to-avoid'],\n",
       "      dtype='object')"
      ]
     },
     "metadata": {},
     "execution_count": 20
    }
   ],
   "metadata": {}
  },
  {
   "cell_type": "code",
   "execution_count": 21,
   "source": [
    "df_selected = df[['medicine', 'dosage', 'interactions', 'side-effects', 'uses', 'warnings', 'what-to-avoid']]"
   ],
   "outputs": [],
   "metadata": {}
  },
  {
   "cell_type": "code",
   "execution_count": 22,
   "source": [
    "df_final = df_selected.replace(r'\\n+', '\\n', regex=True)"
   ],
   "outputs": [],
   "metadata": {}
  },
  {
   "cell_type": "code",
   "execution_count": 27,
   "source": [
    "df_final.astype('str').applymap(lambda x: len(x)).max()"
   ],
   "outputs": [
    {
     "output_type": "execute_result",
     "data": {
      "text/plain": [
       "medicine            42\n",
       "dosage           18494\n",
       "interactions     18864\n",
       "side-effects      8891\n",
       "uses              8194\n",
       "warnings         12408\n",
       "what-to-avoid     2056\n",
       "dtype: int64"
      ]
     },
     "metadata": {},
     "execution_count": 27
    }
   ],
   "metadata": {}
  },
  {
   "cell_type": "code",
   "execution_count": 28,
   "source": [
    "'''\n",
    "To-Do:\n",
    "Create a database \n",
    "Create a drugs table (according to the max length of each column) in the database\n",
    "Create a lab table (according to the max length of each column) in the database\n",
    "Load drugs to the drug table\n",
    "Load labs to the lab table\n",
    "\n",
    "Sample code:\n",
    "LOAD DATA INFILE 'file_name'\n",
    "INTO TABLE table_name\n",
    "FIELDS TERMINATED BY ',' \n",
    "ENCLOSED BY '\"'\n",
    "LINES TERMINATED BY '\\n'\n",
    "IGNORE 1 ROWS\n",
    "\n",
    "Use query to get information from table \n",
    "\n",
    "Sample code:\n",
    "SELECT dosage\n",
    "FROM drugs\n",
    "WHERE medicine='acetaminophen';\n",
    "'''"
   ],
   "outputs": [
    {
     "output_type": "execute_result",
     "data": {
      "text/plain": [
       "'\\nTo-Do:\\nCreate a database \\nCreate a drugs table (according to the max length of each column) in the database\\nCreate a lab table (according to the max length of each column) in the database\\nLoad drugs to the drug table\\nLoad labs to the lab table\\n\\nSample code:\\nLOAD DATA INFILE \\'file_name\\'\\nINTO TABLE table_name\\nFIELDS TERMINATED BY \\',\\' \\nENCLOSED BY \\'\"\\'\\nLINES TERMINATED BY \\'\\n\\'\\nIGNORE 1 ROWS\\n\\nUse query to get information from table \\n\\nSample code:\\nSELECT dosage\\nFROM drugs\\nWHERE medicine=\\'acetaminophen\\';\\n'"
      ]
     },
     "metadata": {},
     "execution_count": 28
    }
   ],
   "metadata": {}
  },
  {
   "cell_type": "code",
   "execution_count": null,
   "source": [],
   "outputs": [],
   "metadata": {}
  }
 ],
 "metadata": {
  "orig_nbformat": 4,
  "language_info": {
   "name": "python",
   "version": "3.8.10",
   "mimetype": "text/x-python",
   "codemirror_mode": {
    "name": "ipython",
    "version": 3
   },
   "pygments_lexer": "ipython3",
   "nbconvert_exporter": "python",
   "file_extension": ".py"
  },
  "kernelspec": {
   "name": "python3",
   "display_name": "Python 3.8.10 64-bit ('mysql_env': conda)"
  },
  "interpreter": {
   "hash": "3bd2623ebd004bdce54ae0177df8ef1ba46cd7b929ed949e76a32b3e90a45645"
  }
 },
 "nbformat": 4,
 "nbformat_minor": 2
}
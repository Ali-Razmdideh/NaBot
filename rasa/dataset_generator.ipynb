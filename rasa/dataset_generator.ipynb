{
 "metadata": {
  "language_info": {
   "codemirror_mode": {
    "name": "ipython",
    "version": 3
   },
   "file_extension": ".py",
   "mimetype": "text/x-python",
   "name": "python",
   "nbconvert_exporter": "python",
   "pygments_lexer": "ipython3",
   "version": "3.8.10"
  },
  "orig_nbformat": 4,
  "kernelspec": {
   "name": "python3",
   "display_name": "Python 3.8.10 64-bit ('rasa_env': conda)"
  },
  "interpreter": {
   "hash": "b9e77e4331c8e490ad22ef0fbad63e862cf4417f0829976e69e16eb140eb7704"
  }
 },
 "nbformat": 4,
 "nbformat_minor": 2,
 "cells": [
  {
   "cell_type": "code",
   "execution_count": 1,
   "metadata": {},
   "outputs": [],
   "source": [
    "import pandas as pd \n",
    "from tqdm import tqdm\n",
    "from ruamel import yaml"
   ]
  },
  {
   "cell_type": "code",
   "execution_count": 2,
   "metadata": {},
   "outputs": [],
   "source": [
    "drugs_df = pd.read_csv('drugs_dataset.csv')\n",
    "labs_df = pd.read_csv('medplus_labs.csv')"
   ]
  },
  {
   "cell_type": "code",
   "execution_count": 3,
   "metadata": {},
   "outputs": [],
   "source": [
    "drugs = list(drugs_df['medicine'])\n",
    "labs = list(labs_df['Lab test'])"
   ]
  },
  {
   "cell_type": "code",
   "execution_count": 4,
   "metadata": {},
   "outputs": [],
   "source": [
    "inp = \"\"\"\\\n",
    "version: \"2.0\"\n",
    "\n",
    "nlu:\n",
    "\n",
    "- lookup: lab\n",
    "  examples: |\n",
    "\"\"\"    \n",
    "\n",
    "code = yaml.load(inp, Loader=yaml.RoundTripLoader)"
   ]
  },
  {
   "cell_type": "code",
   "execution_count": 5,
   "metadata": {},
   "outputs": [
    {
     "output_type": "stream",
     "name": "stderr",
     "text": [
      "100%|██████████| 251/251 [00:00<00:00, 50667.55it/s]\n"
     ]
    }
   ],
   "source": [
    "for lab in tqdm(labs):\n",
    "    code['nlu'][0]['examples'] += f'- {lab}\\n'"
   ]
  },
  {
   "cell_type": "code",
   "execution_count": 6,
   "metadata": {},
   "outputs": [],
   "source": [
    "with open('lab.yml', 'w') as f:\n",
    "        yaml.dump(code, f, Dumper=yaml.RoundTripDumper)"
   ]
  },
  {
   "cell_type": "code",
   "execution_count": 12,
   "metadata": {
    "tags": []
   },
   "outputs": [
    {
     "output_type": "stream",
     "name": "stderr",
     "text": [
      "100%|██████████| 996/996 [00:00<00:00, 140999.28it/s]\n"
     ]
    }
   ],
   "source": [
    "inp = \"\"\"\\\n",
    "version: \"2.0\"\n",
    "\n",
    "nlu:\n",
    "\n",
    "- lookup: drug\n",
    "  examples: |\n",
    "\"\"\"    \n",
    "\n",
    "code = yaml.load(inp, Loader=yaml.RoundTripLoader)\n",
    "\n",
    "for medicine in tqdm(medicines):\n",
    "    code['nlu'][0]['examples'] += f'- {medicine}\\n'\n",
    "\n",
    "with open('drug.yml', 'w') as f:\n",
    "        yaml.dump(code, f, Dumper=yaml.RoundTripDumper)"
   ]
  },
  {
   "cell_type": "code",
   "execution_count": 2,
   "metadata": {},
   "outputs": [],
   "source": [
    "import pandas as pd "
   ]
  },
  {
   "cell_type": "code",
   "execution_count": 3,
   "metadata": {},
   "outputs": [],
   "source": [
    "df = pd.read_csv('medplus_labs.csv')"
   ]
  },
  {
   "cell_type": "code",
   "execution_count": 7,
   "metadata": {},
   "outputs": [],
   "source": [
    "df['Lab test'] = df['Lab test'].str.lower()"
   ]
  },
  {
   "cell_type": "code",
   "execution_count": 8,
   "metadata": {},
   "outputs": [
    {
     "output_type": "execute_result",
     "data": {
      "text/plain": [
       "0                  17-hydroxyprogesterone\n",
       "1                     acetaminophen level\n",
       "2          acid-fast bacillus (afb) tests\n",
       "3                          adhd screening\n",
       "4      adrenocorticotropic hormone (acth)\n",
       "                      ...                \n",
       "246               white blood count (wbc)\n",
       "247              whooping cough diagnosis\n",
       "248                        xylose testing\n",
       "249                 yeast infection tests\n",
       "250                       zika virus test\n",
       "Name: Lab test, Length: 251, dtype: object"
      ]
     },
     "metadata": {},
     "execution_count": 8
    }
   ],
   "source": [
    "df['Lab test']"
   ]
  },
  {
   "cell_type": "code",
   "execution_count": 9,
   "metadata": {},
   "outputs": [],
   "source": [
    "df.to_csv('medplus_labs.csv', index=False)"
   ]
  },
  {
   "cell_type": "code",
   "execution_count": null,
   "metadata": {},
   "outputs": [],
   "source": []
  }
 ]
}
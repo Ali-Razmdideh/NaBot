{
 "metadata": {
  "language_info": {
   "codemirror_mode": {
    "name": "ipython",
    "version": 3
   },
   "file_extension": ".py",
   "mimetype": "text/x-python",
   "name": "python",
   "nbconvert_exporter": "python",
   "pygments_lexer": "ipython3",
   "version": "3.8.10"
  },
  "orig_nbformat": 4,
  "kernelspec": {
   "name": "python3",
   "display_name": "Python 3.8.10 64-bit ('rasa_env': conda)"
  },
  "interpreter": {
   "hash": "b9e77e4331c8e490ad22ef0fbad63e862cf4417f0829976e69e16eb140eb7704"
  }
 },
 "nbformat": 4,
 "nbformat_minor": 2,
 "cells": [
  {
   "cell_type": "code",
   "execution_count": 1,
   "source": [
    "from tqdm import tqdm\n",
    "import random\n",
    "import requests\n",
    "import pandas as pd\n",
    "from string import ascii_letters"
   ],
   "outputs": [],
   "metadata": {}
  },
  {
   "cell_type": "code",
   "execution_count": 2,
   "source": [
    "df = pd.read_csv('../drug_datasets/dataset_files/drugs_dataset.csv')\n",
    "medicines = list(df['medicine'].values)"
   ],
   "outputs": [],
   "metadata": {}
  },
  {
   "cell_type": "code",
   "execution_count": 3,
   "source": [
    "def question_generator(drug):\n",
    "    question = f\"\"\"\\\n",
    "When should you not take {drug}?\n",
    "Is there any time when you shouldn't take {drug}?\n",
    "Do you need to avoid taking {drug}?\n",
    "When should you avoid taking {drug}?\n",
    "What to avoid while taking {drug}?\n",
    "When taking {drug}, what should I avoid?\n",
    "What should one avoid when using {drug}?\n",
    "Which things should you avoid while taking {drug}?\n",
    "What are {drug} side-effects?\n",
    "What are side-effects of {drug}\n",
    "What condition is a serious side effect of {drug} use?\n",
    "What are the dangers of {drug}?\n",
    "{drug}\n",
    "It is {drug}\n",
    "I'm looking for {drug} detail\n",
    "What is {drug}?\n",
    "Can you give me information about {drug}?\n",
    "Are you able to provide me with information about {drug}?\n",
    "How should I take {drug}?\n",
    "Give me {drug} dosage information\n",
    "I need to know the dosage of {drug}\n",
    "Tell me the dosage of {drug}\n",
    "Tell me about {drug} dosage\n",
    "What other drugs will affect {drug}?\n",
    "What drugs should not be taken with {drug}?\n",
    "Which drugs have a drug interaction with {drug}?\n",
    "What other drugs will affect {drug}?\"\"\"\n",
    "    return question"
   ],
   "outputs": [],
   "metadata": {}
  },
  {
   "cell_type": "code",
   "execution_count": 4,
   "source": [
    "# list of all changed medicines \n",
    "changed_medicines = []"
   ],
   "outputs": [],
   "metadata": {}
  },
  {
   "cell_type": "code",
   "execution_count": 5,
   "source": [
    "# randomly change letters\n",
    "for medicine in medicines:\n",
    "    for i in range(5):\n",
    "        inds = [i for i, letter in enumerate(medicine) if not letter.isspace()]\n",
    "        ind = random.sample(inds, 1)\n",
    "\n",
    "        lst = list(medicine)\n",
    "        lst[ind[0]] = random.choice(ascii_letters)\n",
    "        changed_medicines.append(\"\".join(lst))"
   ],
   "outputs": [],
   "metadata": {}
  },
  {
   "cell_type": "code",
   "execution_count": 6,
   "source": [
    "# randomly remove letters\n",
    "for medicine in medicines:\n",
    "    for i in range(2):\n",
    "        inds = [i for i, letter in enumerate(medicine) if not letter.isspace()]\n",
    "        ind = random.sample(inds, 1)\n",
    "\n",
    "        lst = list(medicine)\n",
    "        lst[ind[0]] = ''\n",
    "        changed_medicines.append(\"\".join(lst))"
   ],
   "outputs": [],
   "metadata": {}
  },
  {
   "cell_type": "code",
   "execution_count": 7,
   "source": [
    "# Also append correct words \n",
    "changed_medicines += medicines"
   ],
   "outputs": [],
   "metadata": {}
  },
  {
   "cell_type": "code",
   "execution_count": 8,
   "source": [
    "# list of all successful entity extractors\n",
    "entity_extractors = []"
   ],
   "outputs": [],
   "metadata": {}
  },
  {
   "cell_type": "code",
   "execution_count": 9,
   "source": [
    "for medicine in tqdm(changed_medicines):\n",
    "    questions = question_generator(medicine)\n",
    "    for question in questions.split('\\n'): \n",
    "        post_fields = {\"text\" : question}\n",
    "        r = requests.post(\"http://localhost:5005/model/parse\", json=post_fields)\n",
    "        dic = r.json()\n",
    "        entities = dic['entities']\n",
    "\n",
    "        for entity in entities:\n",
    "            entity_extractors.append(entity['extractor'])"
   ],
   "outputs": [
    {
     "output_type": "stream",
     "name": "stderr",
     "text": [
      "100%|██████████| 7968/7968 [1:42:26<00:00,  1.30it/s]\n"
     ]
    }
   ],
   "metadata": {}
  },
  {
   "cell_type": "code",
   "execution_count": 10,
   "source": [
    "len(changed_medicines)"
   ],
   "outputs": [
    {
     "output_type": "execute_result",
     "data": {
      "text/plain": [
       "7968"
      ]
     },
     "metadata": {},
     "execution_count": 10
    }
   ],
   "metadata": {}
  },
  {
   "cell_type": "code",
   "execution_count": 11,
   "source": [
    "len(medicines)"
   ],
   "outputs": [
    {
     "output_type": "execute_result",
     "data": {
      "text/plain": [
       "996"
      ]
     },
     "metadata": {},
     "execution_count": 11
    }
   ],
   "metadata": {}
  },
  {
   "cell_type": "code",
   "execution_count": 12,
   "source": [
    "extractors = set(entity_extractors)\n",
    "extractor_statistic = dict(zip(extractors, [0] * len(extractors)))"
   ],
   "outputs": [],
   "metadata": {}
  },
  {
   "cell_type": "code",
   "execution_count": 13,
   "source": [
    "# statistic of successful entity extractors\n",
    "for extractor in extractors:\n",
    "    extractor_statistic[extractor] = entity_extractors.count(extractor)"
   ],
   "outputs": [],
   "metadata": {}
  },
  {
   "cell_type": "code",
   "execution_count": 14,
   "source": [
    "# after RegexFeaturizer\n",
    "extractor_statistic"
   ],
   "outputs": [
    {
     "output_type": "execute_result",
     "data": {
      "text/plain": [
       "{'DIETClassifier': 1516,\n",
       " 'RegexEntityExtractor': 35181,\n",
       " 'SpacyEntityExtractor': 22746}"
      ]
     },
     "metadata": {},
     "execution_count": 14
    }
   ],
   "metadata": {}
  },
  {
   "cell_type": "code",
   "execution_count": null,
   "source": [
    "# before RegexFeaturizer\n",
    "extractor_statistic"
   ],
   "outputs": [
    {
     "output_type": "execute_result",
     "data": {
      "text/plain": [
       "{'RegexEntityExtractor': 35505, 'CRFEntityExtractor': 90, 'DIETClassifier': 596, 'SpacyEntityExtractor': 23164}"
      ]
     },
     "metadata": {},
     "execution_count": 14
    }
   ],
   "metadata": {}
  },
  {
   "cell_type": "code",
   "execution_count": 2,
   "source": [
    "df = pd.read_csv('../medlineplus_lab_dataset/dataset_files/medplus_labs.csv')\n",
    "labs = list(df['Lab test'].values)"
   ],
   "outputs": [],
   "metadata": {}
  },
  {
   "cell_type": "code",
   "execution_count": 3,
   "source": [
    "def question_generator(lab):\n",
    "    question = f\"\"\"\\\n",
    "Is there anything else I need to know about the {lab}?\n",
    "What else should I know about an {lab}?\n",
    "Can you tell me anything else about the {lab}?\n",
    "Any other information I need to know about the {lab}?\n",
    "What do the {lab} test results mean?\n",
    "What do the results of the {lab} test mean?\n",
    "How are the results from the {lab} test interpreted?\n",
    "The {lab} result means what?\n",
    "The results of the {lab} test mean what?\n",
    "Are there any risks to the {lab}?\n",
    "Is there any risk associated with an {lab}?\n",
    "Do the {lab} carry any risks?\n",
    "{lab} poses any risks?\n",
    "Is it possible that the {lab} may have risks?\n",
    "Will I need to do anything to prepare for the {lab}?\n",
    "How should I prepare for the {lab}?\n",
    "Does anything need to be done to prepare for the {lab}?\n",
    "Will I need to do anything in advance for the {lab}?\n",
    "Does there are any preparations I need to make for the {lab}?\n",
    "What do I need to do to prepare for the {lab}?\n",
    "What happens during the {lab}?\n",
    "During an {lab} what happens?\n",
    "Is there anything that happens during {lab}?\n",
    "What happens in {lab}?\n",
    "What will happen in the {lab}?\n",
    "Why do I need the {lab}?\n",
    "Is {lab} necessary for me?\n",
    "Can you tell me why I need the {lab}?\n",
    "Is it necessary that I go to the {lab}?\n",
    "What is the {lab}?\n",
    "The {lab} is what?\n",
    "I'm looking for {lab} detail\n",
    "Can you give me information about {lab}?\n",
    "What is the {lab} used for?\n",
    "What is the purpose of the {lab}?\n",
    "{lab} is used for what?\n",
    "For what do you use the {lab}?\n",
    "{lab}\n",
    "It is {lab}\"\"\"\n",
    "    return question"
   ],
   "outputs": [],
   "metadata": {}
  },
  {
   "cell_type": "code",
   "execution_count": 4,
   "source": [
    "changed_labs = []"
   ],
   "outputs": [],
   "metadata": {}
  },
  {
   "cell_type": "code",
   "execution_count": 5,
   "source": [
    "for lab in labs:\n",
    "    for i in range(5):\n",
    "        inds = [i for i, letter in enumerate(lab) if not letter.isspace()]\n",
    "        ind = random.sample(inds, 1)\n",
    "\n",
    "        lst = list(lab)\n",
    "        lst[ind[0]] = random.choice(ascii_letters)\n",
    "        changed_labs.append(\"\".join(lst))"
   ],
   "outputs": [],
   "metadata": {}
  },
  {
   "cell_type": "code",
   "execution_count": 6,
   "source": [
    "for lab in labs:\n",
    "    for i in range(2):\n",
    "        inds = [i for i, letter in enumerate(lab) if not letter.isspace()]\n",
    "        ind = random.sample(inds, 1)\n",
    "\n",
    "        lst = list(lab)\n",
    "        lst[ind[0]] = ''\n",
    "        changed_labs.append(\"\".join(lst))"
   ],
   "outputs": [],
   "metadata": {}
  },
  {
   "cell_type": "code",
   "execution_count": 7,
   "source": [
    "changed_labs += labs"
   ],
   "outputs": [],
   "metadata": {}
  },
  {
   "cell_type": "code",
   "execution_count": 8,
   "source": [
    "entity_extractors = []"
   ],
   "outputs": [],
   "metadata": {}
  },
  {
   "cell_type": "code",
   "execution_count": 10,
   "source": [
    "for lab in tqdm(changed_labs):\n",
    "    questions = question_generator(lab)\n",
    "    for question in questions.split('\\n'): \n",
    "        post_fields = {\"text\" : question}\n",
    "        r = requests.post(\"http://localhost:5005/model/parse\", json=post_fields)\n",
    "        dic = r.json()\n",
    "        entities = dic['entities']\n",
    "\n",
    "        for entity in entities:\n",
    "            entity_extractors.append(entity['extractor'])"
   ],
   "outputs": [],
   "metadata": {}
  },
  {
   "cell_type": "code",
   "execution_count": 13,
   "source": [
    "extractors = set(entity_extractors)\n",
    "extractor_statistic = dict(zip(extractors, [0] * len(extractors)))"
   ],
   "outputs": [],
   "metadata": {}
  },
  {
   "cell_type": "code",
   "execution_count": 14,
   "source": [
    "for extractor in extractors:\n",
    "    extractor_statistic[extractor] = entity_extractors.count(extractor)"
   ],
   "outputs": [],
   "metadata": {}
  },
  {
   "cell_type": "code",
   "execution_count": 15,
   "source": [
    "extractor_statistic"
   ],
   "outputs": [
    {
     "output_type": "execute_result",
     "data": {
      "text/plain": [
       "{'DIETClassifier': 3251,\n",
       " 'SpacyEntityExtractor': 10560,\n",
       " 'RegexEntityExtractor': 11661}"
      ]
     },
     "metadata": {},
     "execution_count": 15
    }
   ],
   "metadata": {}
  },
  {
   "cell_type": "code",
   "execution_count": 9,
   "source": [
    "len(changed_labs)"
   ],
   "outputs": [
    {
     "output_type": "execute_result",
     "data": {
      "text/plain": [
       "2008"
      ]
     },
     "metadata": {},
     "execution_count": 9
    }
   ],
   "metadata": {}
  },
  {
   "cell_type": "code",
   "execution_count": null,
   "source": [],
   "outputs": [],
   "metadata": {}
  }
 ]
}
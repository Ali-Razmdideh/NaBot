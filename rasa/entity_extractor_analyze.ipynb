{
 "cells": [
  {
   "cell_type": "code",
   "execution_count": 1,
   "metadata": {},
   "outputs": [],
   "source": [
    "from tqdm import tqdm\n",
    "import random\n",
    "import requests\n",
    "import pandas as pd\n",
    "from string import ascii_letters"
   ]
  },
  {
   "cell_type": "code",
   "execution_count": 2,
   "metadata": {},
   "outputs": [],
   "source": [
    "df = pd.read_csv('../drug_datasets/dataset_files/drugs_dataset.csv')\n",
    "medicines = list(df['medicine'].values)"
   ]
  },
  {
   "cell_type": "code",
   "execution_count": 3,
   "metadata": {},
   "outputs": [],
   "source": [
    "def question_generator(drug):\n",
    "    question = f\"\"\"\\\n",
    "When should you not take {drug}?\n",
    "Is there any time when you shouldn't take {drug}?\n",
    "Do you need to avoid taking {drug}?\n",
    "When should you avoid taking {drug}?\n",
    "What to avoid while taking {drug}?\n",
    "When taking {drug}, what should I avoid?\n",
    "What should one avoid when using {drug}?\n",
    "Which things should you avoid while taking {drug}?\n",
    "What are {drug} side-effects?\n",
    "What are side-effects of {drug}\n",
    "What condition is a serious side effect of {drug} use?\n",
    "What are the dangers of {drug}?\n",
    "{drug}\n",
    "It is {drug}\n",
    "I'm looking for {drug} detail\n",
    "What is {drug}?\n",
    "Can you give me information about {drug}?\n",
    "Are you able to provide me with information about {drug}?\n",
    "How should I take {drug}?\n",
    "Give me {drug} dosage information\n",
    "I need to know the dosage of {drug}\n",
    "Tell me the dosage of {drug}\n",
    "Tell me about {drug} dosage\n",
    "What other drugs will affect {drug}?\n",
    "What drugs should not be taken with {drug}?\n",
    "Which drugs have a drug interaction with {drug}?\n",
    "What other drugs will affect {drug}?\"\"\"\n",
    "    return question"
   ]
  },
  {
   "cell_type": "code",
   "execution_count": 4,
   "metadata": {},
   "outputs": [],
   "source": [
    "# list of all changed medicines \n",
    "changed_medicines = []"
   ]
  },
  {
   "cell_type": "code",
   "execution_count": 5,
   "metadata": {},
   "outputs": [],
   "source": [
    "# randomly change letters\n",
    "for medicine in medicines:\n",
    "    for i in range(5):\n",
    "        inds = [i for i, letter in enumerate(medicine) if not letter.isspace()]\n",
    "        ind = random.sample(inds, 1)\n",
    "\n",
    "        lst = list(medicine)\n",
    "        lst[ind[0]] = random.choice(ascii_letters)\n",
    "        changed_medicines.append(\"\".join(lst))"
   ]
  },
  {
   "cell_type": "code",
   "execution_count": 6,
   "metadata": {},
   "outputs": [],
   "source": [
    "# randomly remove letters\n",
    "for medicine in medicines:\n",
    "    for i in range(2):\n",
    "        inds = [i for i, letter in enumerate(medicine) if not letter.isspace()]\n",
    "        ind = random.sample(inds, 1)\n",
    "\n",
    "        lst = list(medicine)\n",
    "        lst[ind[0]] = ''\n",
    "        changed_medicines.append(\"\".join(lst))"
   ]
  },
  {
   "cell_type": "code",
   "execution_count": 7,
   "metadata": {},
   "outputs": [],
   "source": [
    "# Also append correct words \n",
    "changed_medicines += medicines"
   ]
  },
  {
   "cell_type": "code",
   "execution_count": 8,
   "metadata": {},
   "outputs": [],
   "source": [
    "# list of all successful entity extractors\n",
    "entity_extractors = []"
   ]
  },
  {
   "cell_type": "code",
   "execution_count": 9,
   "metadata": {},
   "outputs": [
    {
     "name": "stderr",
     "output_type": "stream",
     "text": [
      "100%|██████████| 7968/7968 [1:42:26<00:00,  1.30it/s]\n"
     ]
    }
   ],
   "source": [
    "for medicine in tqdm(changed_medicines):\n",
    "    questions = question_generator(medicine)\n",
    "    for question in questions.split('\\n'): \n",
    "        post_fields = {\"text\" : question}\n",
    "        r = requests.post(\"http://localhost:5005/model/parse\", json=post_fields)\n",
    "        dic = r.json()\n",
    "        entities = dic['entities']\n",
    "\n",
    "        for entity in entities:\n",
    "            entity_extractors.append(entity['extractor'])"
   ]
  },
  {
   "cell_type": "code",
   "execution_count": 10,
   "metadata": {},
   "outputs": [
    {
     "data": {
      "text/plain": [
       "7968"
      ]
     },
     "execution_count": 10,
     "metadata": {},
     "output_type": "execute_result"
    }
   ],
   "source": [
    "len(changed_medicines)"
   ]
  },
  {
   "cell_type": "code",
   "execution_count": 11,
   "metadata": {},
   "outputs": [
    {
     "data": {
      "text/plain": [
       "996"
      ]
     },
     "execution_count": 11,
     "metadata": {},
     "output_type": "execute_result"
    }
   ],
   "source": [
    "len(medicines)"
   ]
  },
  {
   "cell_type": "code",
   "execution_count": 12,
   "metadata": {},
   "outputs": [],
   "source": [
    "extractors = set(entity_extractors)\n",
    "extractor_statistic = dict(zip(extractors, [0] * len(extractors)))"
   ]
  },
  {
   "cell_type": "code",
   "execution_count": 13,
   "metadata": {},
   "outputs": [],
   "source": [
    "# statistic of successful entity extractors\n",
    "for extractor in extractors:\n",
    "    extractor_statistic[extractor] = entity_extractors.count(extractor)"
   ]
  },
  {
   "cell_type": "code",
   "execution_count": 14,
   "metadata": {},
   "outputs": [
    {
     "data": {
      "text/plain": [
       "{'DIETClassifier': 1516,\n",
       " 'RegexEntityExtractor': 35181,\n",
       " 'SpacyEntityExtractor': 22746}"
      ]
     },
     "execution_count": 14,
     "metadata": {},
     "output_type": "execute_result"
    }
   ],
   "source": [
    "# after RegexFeaturizer\n",
    "extractor_statistic"
   ]
  },
  {
   "cell_type": "code",
   "execution_count": null,
   "metadata": {},
   "outputs": [
    {
     "data": {
      "text/plain": [
       "{'RegexEntityExtractor': 35505,\n",
       " 'CRFEntityExtractor': 90,\n",
       " 'DIETClassifier': 596,\n",
       " 'SpacyEntityExtractor': 23164}"
      ]
     },
     "execution_count": 14,
     "metadata": {},
     "output_type": "execute_result"
    }
   ],
   "source": [
    "# before RegexFeaturizer\n",
    "extractor_statistic"
   ]
  },
  {
   "cell_type": "code",
   "execution_count": 2,
   "metadata": {},
   "outputs": [],
   "source": [
    "df = pd.read_csv('../medlineplus_lab_dataset/dataset_files/medplus_labs.csv')\n",
    "labs = list(df['Lab test'].values)"
   ]
  },
  {
   "cell_type": "code",
   "execution_count": 3,
   "metadata": {},
   "outputs": [],
   "source": [
    "def question_generator(lab):\n",
    "    question = f\"\"\"\\\n",
    "Is there anything else I need to know about the {lab}?\n",
    "What else should I know about an {lab}?\n",
    "Can you tell me anything else about the {lab}?\n",
    "Any other information I need to know about the {lab}?\n",
    "What do the {lab} test results mean?\n",
    "What do the results of the {lab} test mean?\n",
    "How are the results from the {lab} test interpreted?\n",
    "The {lab} result means what?\n",
    "The results of the {lab} test mean what?\n",
    "Are there any risks to the {lab}?\n",
    "Is there any risk associated with an {lab}?\n",
    "Do the {lab} carry any risks?\n",
    "{lab} poses any risks?\n",
    "Is it possible that the {lab} may have risks?\n",
    "Will I need to do anything to prepare for the {lab}?\n",
    "How should I prepare for the {lab}?\n",
    "Does anything need to be done to prepare for the {lab}?\n",
    "Will I need to do anything in advance for the {lab}?\n",
    "Does there are any preparations I need to make for the {lab}?\n",
    "What do I need to do to prepare for the {lab}?\n",
    "What happens during the {lab}?\n",
    "During an {lab} what happens?\n",
    "Is there anything that happens during {lab}?\n",
    "What happens in {lab}?\n",
    "What will happen in the {lab}?\n",
    "Why do I need the {lab}?\n",
    "Is {lab} necessary for me?\n",
    "Can you tell me why I need the {lab}?\n",
    "Is it necessary that I go to the {lab}?\n",
    "What is the {lab}?\n",
    "The {lab} is what?\n",
    "I'm looking for {lab} detail\n",
    "Can you give me information about {lab}?\n",
    "What is the {lab} used for?\n",
    "What is the purpose of the {lab}?\n",
    "{lab} is used for what?\n",
    "For what do you use the {lab}?\n",
    "{lab}\n",
    "It is {lab}\"\"\"\n",
    "    return question"
   ]
  },
  {
   "cell_type": "code",
   "execution_count": 4,
   "metadata": {},
   "outputs": [],
   "source": [
    "changed_labs = []"
   ]
  },
  {
   "cell_type": "code",
   "execution_count": 5,
   "metadata": {},
   "outputs": [],
   "source": [
    "for lab in labs:\n",
    "    for i in range(5):\n",
    "        inds = [i for i, letter in enumerate(lab) if not letter.isspace()]\n",
    "        ind = random.sample(inds, 1)\n",
    "\n",
    "        lst = list(lab)\n",
    "        lst[ind[0]] = random.choice(ascii_letters)\n",
    "        changed_labs.append(\"\".join(lst))"
   ]
  },
  {
   "cell_type": "code",
   "execution_count": 6,
   "metadata": {},
   "outputs": [],
   "source": [
    "for lab in labs:\n",
    "    for i in range(2):\n",
    "        inds = [i for i, letter in enumerate(lab) if not letter.isspace()]\n",
    "        ind = random.sample(inds, 1)\n",
    "\n",
    "        lst = list(lab)\n",
    "        lst[ind[0]] = ''\n",
    "        changed_labs.append(\"\".join(lst))"
   ]
  },
  {
   "cell_type": "code",
   "execution_count": 7,
   "metadata": {},
   "outputs": [],
   "source": [
    "changed_labs += labs"
   ]
  },
  {
   "cell_type": "code",
   "execution_count": 8,
   "metadata": {},
   "outputs": [],
   "source": [
    "entity_extractors = []"
   ]
  },
  {
   "cell_type": "code",
   "execution_count": 10,
   "metadata": {},
   "outputs": [],
   "source": [
    "for lab in tqdm(changed_labs):\n",
    "    questions = question_generator(lab)\n",
    "    for question in questions.split('\\n'): \n",
    "        post_fields = {\"text\" : question}\n",
    "        r = requests.post(\"http://localhost:5005/model/parse\", json=post_fields)\n",
    "        dic = r.json()\n",
    "        entities = dic['entities']\n",
    "\n",
    "        for entity in entities:\n",
    "            entity_extractors.append(entity['extractor'])"
   ]
  },
  {
   "cell_type": "code",
   "execution_count": 13,
   "metadata": {},
   "outputs": [],
   "source": [
    "extractors = set(entity_extractors)\n",
    "extractor_statistic = dict(zip(extractors, [0] * len(extractors)))"
   ]
  },
  {
   "cell_type": "code",
   "execution_count": 14,
   "metadata": {},
   "outputs": [],
   "source": [
    "for extractor in extractors:\n",
    "    extractor_statistic[extractor] = entity_extractors.count(extractor)"
   ]
  },
  {
   "cell_type": "code",
   "execution_count": 1,
   "source": [
    "# After RegexFeaturizer\n",
    "extractor_statistic"
   ],
   "outputs": [
    {
     "output_type": "execute_result",
     "data": {
      "text/plain": [
       "{'DIETClassifier': 2535,\n",
       " 'SpacyEntityExtractor': 10381,\n",
       " 'RegexEntityExtractor': 38454}"
      ]
     },
     "metadata": {},
     "execution_count": 15
    }
   ],
   "metadata": {}
  },
  {
   "cell_type": "code",
   "execution_count": 15,
<<<<<<< HEAD
   "metadata": {},
=======
   "source": [
    "# Before RegexFeaturizer\n",
    "extractor_statistic"
   ],
>>>>>>> 74a06958a51861ce1b7eb3a3eb0337f25887ac9c
   "outputs": [
    {
     "data": {
      "text/plain": [
       "{'DIETClassifier': 3251,\n",
       " 'SpacyEntityExtractor': 10560,\n",
       " 'RegexEntityExtractor': 11661}"
      ]
     },
     "execution_count": 15,
     "metadata": {},
     "output_type": "execute_result"
    }
   ],
   "source": [
    "extractor_statistic"
   ]
  },
  {
   "cell_type": "code",
   "execution_count": 9,
   "metadata": {},
   "outputs": [
    {
     "data": {
      "text/plain": [
       "2008"
      ]
     },
     "execution_count": 9,
     "metadata": {},
     "output_type": "execute_result"
    }
   ],
   "source": [
    "len(changed_labs)"
   ]
  },
  {
   "cell_type": "code",
   "execution_count": null,
   "metadata": {},
   "outputs": [],
   "source": []
  }
 ],
 "metadata": {
  "kernelspec": {
   "display_name": "Python 3.8.0 64-bit ('rasa': conda)",
   "name": "python380jvsc74a57bd06e3f434a7fc2d4f9075a92e09162a4bdc3cca27a293c4ea481db2fe463a0cb58"
  },
  "language_info": {
   "codemirror_mode": {
    "name": "ipython",
    "version": 3
   },
   "file_extension": ".py",
   "mimetype": "text/x-python",
   "name": "python",
   "nbconvert_exporter": "python",
   "pygments_lexer": "ipython3",
   "version": "3.8.0"
  },
  "orig_nbformat": 3
 },
 "nbformat": 4,
 "nbformat_minor": 2
}